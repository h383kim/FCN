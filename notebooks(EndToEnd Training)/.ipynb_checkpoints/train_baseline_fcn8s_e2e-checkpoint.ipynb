{
 "cells": [
  {
   "cell_type": "code",
   "execution_count": 1,
   "id": "69b70d8d",
   "metadata": {
    "_cell_guid": "b1076dfc-b9ad-4769-8c92-a6c4dae69d19",
    "_uuid": "8f2839f25d086af736a60e9eeb907d3b93b6e0e5",
    "execution": {
     "iopub.execute_input": "2024-11-26T20:08:01.812992Z",
     "iopub.status.busy": "2024-11-26T20:08:01.812634Z",
     "iopub.status.idle": "2024-11-26T20:08:05.570057Z",
     "shell.execute_reply": "2024-11-26T20:08:05.569346Z"
    },
    "papermill": {
     "duration": 3.765781,
     "end_time": "2024-11-26T20:08:05.572135",
     "exception": false,
     "start_time": "2024-11-26T20:08:01.806354",
     "status": "completed"
    },
    "tags": []
   },
   "outputs": [],
   "source": [
    "import torch\n",
    "import os\n",
    "import pandas as pd\n",
    "import time"
   ]
  },
  {
   "cell_type": "code",
   "execution_count": 2,
   "id": "483c7ea2",
   "metadata": {
    "execution": {
     "iopub.execute_input": "2024-11-26T20:08:05.581065Z",
     "iopub.status.busy": "2024-11-26T20:08:05.580655Z",
     "iopub.status.idle": "2024-11-26T20:08:05.728141Z",
     "shell.execute_reply": "2024-11-26T20:08:05.727328Z"
    },
    "papermill": {
     "duration": 0.153633,
     "end_time": "2024-11-26T20:08:05.729799",
     "exception": false,
     "start_time": "2024-11-26T20:08:05.576166",
     "status": "completed"
    },
    "tags": []
   },
   "outputs": [
    {
     "data": {
      "text/plain": [
       "'cuda'"
      ]
     },
     "execution_count": 2,
     "metadata": {},
     "output_type": "execute_result"
    }
   ],
   "source": [
    "DEVICE = 'cuda' if torch.cuda.is_available() else 'cpu'\n",
    "DEVICE"
   ]
  },
  {
   "cell_type": "markdown",
   "id": "41b79c3d",
   "metadata": {
    "papermill": {
     "duration": 0.004525,
     "end_time": "2024-11-26T20:08:05.738606",
     "exception": false,
     "start_time": "2024-11-26T20:08:05.734081",
     "status": "completed"
    },
    "tags": []
   },
   "source": [
    "# Custom Dataset"
   ]
  },
  {
   "cell_type": "code",
   "execution_count": 3,
   "id": "20015646",
   "metadata": {
    "execution": {
     "iopub.execute_input": "2024-11-26T20:08:05.749016Z",
     "iopub.status.busy": "2024-11-26T20:08:05.748648Z",
     "iopub.status.idle": "2024-11-26T20:08:07.219710Z",
     "shell.execute_reply": "2024-11-26T20:08:07.218785Z"
    },
    "papermill": {
     "duration": 1.478076,
     "end_time": "2024-11-26T20:08:07.221887",
     "exception": false,
     "start_time": "2024-11-26T20:08:05.743811",
     "status": "completed"
    },
    "tags": []
   },
   "outputs": [],
   "source": [
    "import os\n",
    "import torch\n",
    "from torch.utils.data import Dataset, DataLoader\n",
    "from torchvision import transforms\n",
    "from PIL import Image\n",
    "import torchvision.transforms.functional as transforms_F\n",
    "import pandas as pd"
   ]
  },
  {
   "cell_type": "code",
   "execution_count": 4,
   "id": "9cb2f573",
   "metadata": {
    "execution": {
     "iopub.execute_input": "2024-11-26T20:08:07.233632Z",
     "iopub.status.busy": "2024-11-26T20:08:07.233221Z",
     "iopub.status.idle": "2024-11-26T20:08:07.256814Z",
     "shell.execute_reply": "2024-11-26T20:08:07.255993Z"
    },
    "papermill": {
     "duration": 0.030512,
     "end_time": "2024-11-26T20:08:07.258660",
     "exception": false,
     "start_time": "2024-11-26T20:08:07.228148",
     "status": "completed"
    },
    "tags": []
   },
   "outputs": [],
   "source": [
    "class_df = pd.read_csv('/kaggle/input/camvid/CamVid/class_dict.csv')\n",
    "# Create a dictionary that maps rgb value to 32 CamVid's class indices\n",
    "RGB2label_dict = {\n",
    "    (row['r'], row['g'], row['b']): idx\n",
    "    for idx, row in class_df.iterrows()\n",
    "}\n",
    "label2RGB_dict = {\n",
    "    v: k for k, v in RGB2label_dict.items()\n",
    "}"
   ]
  },
  {
   "cell_type": "code",
   "execution_count": 5,
   "id": "6a110359",
   "metadata": {
    "execution": {
     "iopub.execute_input": "2024-11-26T20:08:07.267704Z",
     "iopub.status.busy": "2024-11-26T20:08:07.266978Z",
     "iopub.status.idle": "2024-11-26T20:08:07.277630Z",
     "shell.execute_reply": "2024-11-26T20:08:07.276975Z"
    },
    "papermill": {
     "duration": 0.016761,
     "end_time": "2024-11-26T20:08:07.279251",
     "exception": false,
     "start_time": "2024-11-26T20:08:07.262490",
     "status": "completed"
    },
    "tags": []
   },
   "outputs": [],
   "source": [
    "class CamVidDataset(Dataset):\n",
    "    def __init__(self, img_dir: str, label_dir: str, augmentation: bool=False):\n",
    "        self.img_dir = img_dir\n",
    "        self.label_dir = label_dir\n",
    "        self.augmentation = augmentation\n",
    "        self.img_files = sorted(os.listdir(self.img_dir))\n",
    "        self.label_files = sorted(os.listdir(self.label_dir))\n",
    "\n",
    "        self.transform = transforms.Compose([\n",
    "            transforms.Resize((384, 480)),\n",
    "            transforms.ToTensor()\n",
    "        ])\n",
    "        \n",
    "    def __len__(self):\n",
    "        return len(self.img_files)\n",
    "\n",
    "    def _augment(self, image: torch.Tensor, label: torch.Tensor) -> tuple[torch.Tensor, torch.Tensor]:\n",
    "        # Horizontal flip with p=0.5\n",
    "        if torch.randn(1) > 0.5:\n",
    "            image = transforms_F.hflip(image)\n",
    "            label = transforms_F.hflip(label)\n",
    "        # Pad for cropping\n",
    "        image = transforms_F.pad(image, (10, 10, 10, 10))\n",
    "        label = transforms_F.pad(label, (10, 10, 10, 10))\n",
    "        # RandomCrop\n",
    "        i, j, h, w = transforms.RandomCrop.get_params(image, output_size=(384, 480))\n",
    "        image = transforms_F.crop(image, i, j, h, w)\n",
    "        label = transforms_F.crop(label, i, j, h, w)\n",
    "\n",
    "        image = transforms.ColorJitter(brightness=0.1, contrast=0, saturation=0, hue=0.2)(image)\n",
    "        return image, label\n",
    "        \n",
    "    def __getitem__(self, idx):\n",
    "        img_file = self.img_files[idx]\n",
    "        label_file = self.label_files[idx]\n",
    "\n",
    "        img_path = os.path.join(self.img_dir, img_file)\n",
    "        label_path = os.path.join(self.label_dir, label_file)\n",
    "\n",
    "        image = Image.open(img_path)\n",
    "        label = Image.open(label_path)\n",
    "\n",
    "        # Transform\n",
    "        image = self.transform(image).to(DEVICE)\n",
    "        label = self.transform(label).to(DEVICE)\n",
    "\n",
    "        # If augmentation is on, apply augmentation\n",
    "        if self.augmentation:\n",
    "            image, label = self._augment(image, label)\n",
    "\n",
    "        # Masking label image pixel by pixel\n",
    "        label = label.permute(1, 2, 0) # (C, H, W) -> (H, W, C)\n",
    "        label = (label * 255).int() # Scale back to 0~255 as torch.ToTensor() scaled the image to 0~1\n",
    "        masked_label = torch.zeros(label.size(0), label.size(1), dtype=torch.uint8, device=DEVICE)\n",
    "        for rgb, idx in RGB2label_dict.items(): # Mask the pixels for every class type\n",
    "            rgb_tensor = torch.tensor(rgb, device=DEVICE)\n",
    "            masked_label[(label == rgb_tensor).all(axis=-1)] = idx\n",
    "\n",
    "        return image, masked_label.long()\n",
    "        "
   ]
  },
  {
   "cell_type": "code",
   "execution_count": 6,
   "id": "cb771f10",
   "metadata": {
    "execution": {
     "iopub.execute_input": "2024-11-26T20:08:07.287442Z",
     "iopub.status.busy": "2024-11-26T20:08:07.287213Z",
     "iopub.status.idle": "2024-11-26T20:08:07.386385Z",
     "shell.execute_reply": "2024-11-26T20:08:07.385734Z"
    },
    "papermill": {
     "duration": 0.105366,
     "end_time": "2024-11-26T20:08:07.388262",
     "exception": false,
     "start_time": "2024-11-26T20:08:07.282896",
     "status": "completed"
    },
    "tags": []
   },
   "outputs": [],
   "source": [
    "train_img_dir = '/kaggle/input/camvid/CamVid/train'\n",
    "train_label_dir ='/kaggle/input/camvid/CamVid/train_labels'\n",
    "train_dataset = CamVidDataset(train_img_dir, train_label_dir, False)\n",
    "\n",
    "val_img_dir = '/kaggle/input/camvid/CamVid/val'\n",
    "val_label_dir = '/kaggle/input/camvid/CamVid/val_labels'\n",
    "val_dataset = CamVidDataset(val_img_dir, val_label_dir, False)"
   ]
  },
  {
   "cell_type": "code",
   "execution_count": 7,
   "id": "4e9c6ad2",
   "metadata": {
    "execution": {
     "iopub.execute_input": "2024-11-26T20:08:07.397271Z",
     "iopub.status.busy": "2024-11-26T20:08:07.396587Z",
     "iopub.status.idle": "2024-11-26T20:08:08.115921Z",
     "shell.execute_reply": "2024-11-26T20:08:08.114997Z"
    },
    "papermill": {
     "duration": 0.725749,
     "end_time": "2024-11-26T20:08:08.117847",
     "exception": false,
     "start_time": "2024-11-26T20:08:07.392098",
     "status": "completed"
    },
    "tags": []
   },
   "outputs": [
    {
     "data": {
      "text/plain": [
       "(tensor([[[0.5804, 0.5725, 0.5725,  ..., 0.0980, 0.1059, 0.0824],\n",
       "          [0.5922, 0.5843, 0.5804,  ..., 0.1059, 0.1020, 0.0824],\n",
       "          [0.6039, 0.5961, 0.5922,  ..., 0.1098, 0.1059, 0.0902],\n",
       "          ...,\n",
       "          [0.0745, 0.0745, 0.0706,  ..., 0.1020, 0.0980, 0.0902],\n",
       "          [0.0706, 0.0667, 0.0588,  ..., 0.0941, 0.1059, 0.0941],\n",
       "          [0.0627, 0.0549, 0.0510,  ..., 0.0824, 0.0902, 0.0863]],\n",
       " \n",
       "         [[0.6863, 0.6863, 0.6980,  ..., 0.1137, 0.1216, 0.0980],\n",
       "          [0.6941, 0.6941, 0.7020,  ..., 0.1137, 0.1137, 0.0980],\n",
       "          [0.7020, 0.7020, 0.7098,  ..., 0.1137, 0.1098, 0.0941],\n",
       "          ...,\n",
       "          [0.0784, 0.0784, 0.0745,  ..., 0.1412, 0.1412, 0.1294],\n",
       "          [0.0745, 0.0706, 0.0627,  ..., 0.1294, 0.1412, 0.1333],\n",
       "          [0.0667, 0.0588, 0.0549,  ..., 0.1216, 0.1255, 0.1294]],\n",
       " \n",
       "         [[0.7216, 0.7255, 0.7412,  ..., 0.1137, 0.1216, 0.1059],\n",
       "          [0.7333, 0.7373, 0.7451,  ..., 0.1255, 0.1176, 0.1059],\n",
       "          [0.7412, 0.7451, 0.7529,  ..., 0.1333, 0.1176, 0.1098],\n",
       "          ...,\n",
       "          [0.0824, 0.0784, 0.0745,  ..., 0.1569, 0.1490, 0.1333],\n",
       "          [0.0784, 0.0745, 0.0667,  ..., 0.1451, 0.1529, 0.1333],\n",
       "          [0.0667, 0.0588, 0.0549,  ..., 0.1333, 0.1373, 0.1294]]],\n",
       "        device='cuda:0'),\n",
       " tensor([[21, 21, 21,  ..., 26, 26, 26],\n",
       "         [21, 21, 21,  ..., 26, 26, 26],\n",
       "         [21, 21, 21,  ..., 26, 26, 26],\n",
       "         ...,\n",
       "         [19, 19, 19,  ..., 30, 30, 30],\n",
       "         [19, 19, 19,  ..., 30, 30, 30],\n",
       "         [19, 19, 19,  ..., 30, 30, 30]], device='cuda:0'))"
      ]
     },
     "execution_count": 7,
     "metadata": {},
     "output_type": "execute_result"
    }
   ],
   "source": [
    "train_dataset[1]"
   ]
  },
  {
   "cell_type": "code",
   "execution_count": 8,
   "id": "07c0fe66",
   "metadata": {
    "execution": {
     "iopub.execute_input": "2024-11-26T20:08:08.126801Z",
     "iopub.status.busy": "2024-11-26T20:08:08.126542Z",
     "iopub.status.idle": "2024-11-26T20:08:08.130978Z",
     "shell.execute_reply": "2024-11-26T20:08:08.130152Z"
    },
    "papermill": {
     "duration": 0.010746,
     "end_time": "2024-11-26T20:08:08.132594",
     "exception": false,
     "start_time": "2024-11-26T20:08:08.121848",
     "status": "completed"
    },
    "tags": []
   },
   "outputs": [],
   "source": [
    "BATCH_SIZE = 4\n",
    "train_dataloader = DataLoader(train_dataset,\n",
    "                              batch_size=BATCH_SIZE,\n",
    "                              shuffle=True)\n",
    "val_dataloader = DataLoader(val_dataset,\n",
    "                            batch_size=BATCH_SIZE,\n",
    "                            shuffle=False)"
   ]
  },
  {
   "cell_type": "markdown",
   "id": "ad474327",
   "metadata": {
    "papermill": {
     "duration": 0.003517,
     "end_time": "2024-11-26T20:08:08.139835",
     "exception": false,
     "start_time": "2024-11-26T20:08:08.136318",
     "status": "completed"
    },
    "tags": []
   },
   "source": [
    "# Model"
   ]
  },
  {
   "cell_type": "code",
   "execution_count": 9,
   "id": "adcebf80",
   "metadata": {
    "execution": {
     "iopub.execute_input": "2024-11-26T20:08:08.148486Z",
     "iopub.status.busy": "2024-11-26T20:08:08.148242Z",
     "iopub.status.idle": "2024-11-26T20:08:08.158507Z",
     "shell.execute_reply": "2024-11-26T20:08:08.157841Z"
    },
    "papermill": {
     "duration": 0.016546,
     "end_time": "2024-11-26T20:08:08.160058",
     "exception": false,
     "start_time": "2024-11-26T20:08:08.143512",
     "status": "completed"
    },
    "tags": []
   },
   "outputs": [],
   "source": [
    "import torch\n",
    "from torch import nn\n",
    "import torchvision.models as models\n",
    "\n",
    "class FCN_8s(nn.Module):\n",
    "    def __init__(self, num_classes):\n",
    "        super().__init__()\n",
    "\n",
    "        vgg16 = models.vgg16_bn(weights=\"IMAGENET1K_V1\", progress=True)\n",
    "\n",
    "        # Use the features from vgg16\n",
    "        self.features = vgg16.features\n",
    "\n",
    "        # Replace the classifier with convolutional layers\n",
    "        self.score_pool4 = nn.Sequential(\n",
    "            nn.Conv2d(512, num_classes, kernel_size=1),\n",
    "            nn.ReLU(inplace=True),\n",
    "            nn.Dropout(0.5)\n",
    "        )\n",
    "        self.score_pool3 = nn.Sequential(\n",
    "            nn.Conv2d(256, num_classes, kernel_size=1),\n",
    "            nn.ReLU(inplace=True),\n",
    "            nn.Dropout(0.5)\n",
    "        )\n",
    "\n",
    "        self.score_fr = nn.Sequential(\n",
    "            nn.Conv2d(512, 4096, kernel_size=1),\n",
    "            nn.ReLU(inplace=True),\n",
    "            nn.Dropout2d(),\n",
    "            nn.Conv2d(4096, 4096, kernel_size=1),\n",
    "            nn.ReLU(inplace=True),\n",
    "            nn.Dropout2d(),\n",
    "            nn.Conv2d(4096, num_classes, kernel_size=1)\n",
    "        )\n",
    "\n",
    "        # Transposed convolution layers for upsampling\n",
    "        '''\n",
    "        score_fr*2 means score_fr upsampled by factor of 2 using Transposed Convolution\n",
    "        '''\n",
    "        self.upscore_pool5 = nn.ConvTranspose2d(\n",
    "            num_classes, num_classes, kernel_size=2, stride=2, bias=False\n",
    "        ) # Upsamples the score_fr by factor of 2\n",
    "        self.upscore_pool4 = nn.ConvTranspose2d(\n",
    "            num_classes, num_classes, kernel_size=2, stride=2, bias=False\n",
    "        ) # Upsamples the (score_fr*2 + score_pool4) by factor of 2\n",
    "        self.upscore_pool3 = nn.ConvTranspose2d(\n",
    "            num_classes, num_classes, kernel_size=8, stride=8, bias=False\n",
    "        ) # Upsamples the [(score_fr*2 + score_pool4)*2 + score_pool3] by factor of 8\n",
    "\n",
    "    def forward(self, x):\n",
    "        # Store intermediate outputs for skip connections\n",
    "        pool3 = None\n",
    "        pool4 = None\n",
    "\n",
    "        '''input x: [N, 3, 384, 480] '''\n",
    "        # Forward pass through VGG16 features\n",
    "        for i in range(len(self.features)):\n",
    "            x = self.features[i](x) # Feed forwarding the previous output to each layer coming next\n",
    "            if i == 23: # After pool_3 layer passed\n",
    "                pool3 = x \n",
    "                ''' pool3: [N, 256, 48, 60] '''\n",
    "            elif i == 33: # After pool_4 layer passed\n",
    "                pool4 = x \n",
    "                ''' pool4: [N, 512, 24, 30] '''\n",
    "            elif i == 43: \n",
    "                ''' x: [N, 512, 12, 15] '''\n",
    "                break;\n",
    "\n",
    "        # Classify the features\n",
    "        # x is now the output from the last pooling layer(pool_5) of vgg16_bn\n",
    "        ''' x: [N, 32, 12, 15] '''\n",
    "        x = self.score_fr(x) # (N, num_classes, H/32, W/32)\n",
    "\n",
    "        # Upsample the pool5 score by factor of 2\n",
    "        ''' x: [N, 32, 24, 30] '''\n",
    "        x = self.upscore_pool5(x) # (N, num_classes, H/16, W/16)\n",
    "        # Add skip connection from pool4\n",
    "        ''' score_pool4: [N, 32, 24, 30] '''\n",
    "        score_pool4 = self.score_pool4(pool4)\n",
    "        x = x + score_pool4\n",
    "\n",
    "        # Upsample the skip-connected pool4+pool5 score by factor of 2\n",
    "        ''' x: [N, 32, 48, 60] '''\n",
    "        x = self.upscore_pool4(x) # (N, num_classes, H/8, W/8)\n",
    "        # Add skip connection from pool3\n",
    "        ''' score_pool3: [N, 32, 48, 60] '''\n",
    "        score_pool3 = self.score_pool3(pool3)\n",
    "        x = x + score_pool3\n",
    "\n",
    "        # Finally, upsample the skip-connected pool3+pool4+pool5 score by factor of 8\n",
    "        x = self.upscore_pool3(x) # (N, num_classes, H, W)\n",
    "        ''' x: [N, 32, 384, 480] '''\n",
    "        # The output tensor now has the same spatial dimensions as the input\n",
    "        return x"
   ]
  },
  {
   "cell_type": "code",
   "execution_count": 10,
   "id": "2fa0d426",
   "metadata": {
    "execution": {
     "iopub.execute_input": "2024-11-26T20:08:08.168312Z",
     "iopub.status.busy": "2024-11-26T20:08:08.168070Z",
     "iopub.status.idle": "2024-11-26T20:08:12.746069Z",
     "shell.execute_reply": "2024-11-26T20:08:12.745091Z"
    },
    "papermill": {
     "duration": 4.584476,
     "end_time": "2024-11-26T20:08:12.748207",
     "exception": false,
     "start_time": "2024-11-26T20:08:08.163731",
     "status": "completed"
    },
    "tags": []
   },
   "outputs": [
    {
     "name": "stderr",
     "output_type": "stream",
     "text": [
      "Downloading: \"https://download.pytorch.org/models/vgg16_bn-6c64b313.pth\" to /root/.cache/torch/hub/checkpoints/vgg16_bn-6c64b313.pth\n",
      "100%|██████████| 528M/528M [00:02<00:00, 213MB/s]\n"
     ]
    }
   ],
   "source": [
    "fcn_8s = FCN_8s(num_classes=32).to(DEVICE)"
   ]
  },
  {
   "cell_type": "markdown",
   "id": "10d70085",
   "metadata": {
    "papermill": {
     "duration": 0.005169,
     "end_time": "2024-11-26T20:08:12.762051",
     "exception": false,
     "start_time": "2024-11-26T20:08:12.756882",
     "status": "completed"
    },
    "tags": []
   },
   "source": [
    "# Train"
   ]
  },
  {
   "cell_type": "code",
   "execution_count": 11,
   "id": "a23356a2",
   "metadata": {
    "execution": {
     "iopub.execute_input": "2024-11-26T20:08:12.774758Z",
     "iopub.status.busy": "2024-11-26T20:08:12.774470Z",
     "iopub.status.idle": "2024-11-26T20:08:12.778804Z",
     "shell.execute_reply": "2024-11-26T20:08:12.777841Z"
    },
    "papermill": {
     "duration": 0.012217,
     "end_time": "2024-11-26T20:08:12.780597",
     "exception": false,
     "start_time": "2024-11-26T20:08:12.768380",
     "status": "completed"
    },
    "tags": []
   },
   "outputs": [],
   "source": [
    "loss_acc_dict = {\n",
    "    'train_loss_lst' : [],\n",
    "    'train_acc_lst' : [],\n",
    "    'val_loss_lst' : [],\n",
    "    'val_acc_lst' : []\n",
    "}"
   ]
  },
  {
   "cell_type": "code",
   "execution_count": 12,
   "id": "cdbc424b",
   "metadata": {
    "execution": {
     "iopub.execute_input": "2024-11-26T20:08:12.794679Z",
     "iopub.status.busy": "2024-11-26T20:08:12.794429Z",
     "iopub.status.idle": "2024-11-26T20:08:12.803076Z",
     "shell.execute_reply": "2024-11-26T20:08:12.802364Z"
    },
    "papermill": {
     "duration": 0.017758,
     "end_time": "2024-11-26T20:08:12.804745",
     "exception": false,
     "start_time": "2024-11-26T20:08:12.786987",
     "status": "completed"
    },
    "tags": []
   },
   "outputs": [],
   "source": [
    "import random\n",
    "import matplotlib.pyplot as plt\n",
    "\n",
    "def label_to_rgb_tensor(label_tensor: torch.Tensor) -> torch.Tensor:\n",
    "    height, width = label_tensor.shape\n",
    "    rgb_image = torch.zeros(3, height, width, dtype=torch.uint8)\n",
    "\n",
    "    for label, rgb in label2RGB_dict.items():\n",
    "        mask = (label_tensor == label)\n",
    "        rgb_image[0][mask] = rgb[0]  # Red\n",
    "        rgb_image[1][mask] = rgb[1]  # Green\n",
    "        rgb_image[2][mask] = rgb[2]  # Blue\n",
    "\n",
    "    return rgb_image\n",
    "\n",
    "def visualize_segmentation(model, val_loader, device, epoch):\n",
    "    model.eval()\n",
    "    batch_idx = random.randint(0, len(val_loader) - 1)\n",
    "    images, labels = list(val_loader)[batch_idx]\n",
    "    images = images.to(device)\n",
    "    labels = labels.to(device)\n",
    "\n",
    "    with torch.no_grad():\n",
    "        outputs = model(images)\n",
    "        preds = torch.argmax(outputs, dim=1)\n",
    "\n",
    "    img_idx = random.randint(0, len(images) - 1)\n",
    "    img = images[img_idx].cpu().numpy().transpose(1, 2, 0)\n",
    "    label = labels[img_idx].cpu().numpy()\n",
    "    pred = preds[img_idx].cpu().numpy()\n",
    "    pred_rgb = label_to_rgb_tensor(pred).cpu().numpy().transpose(1, 2, 0)\n",
    "\n",
    "    fig, axes = plt.subplots(1, 3, figsize=(15, 5))\n",
    "    axes[0].imshow(img)\n",
    "    axes[0].set_title('Original Image')\n",
    "    \n",
    "    axes[1].imshow(label_to_rgb_tensor(label).permute(1, 2, 0).cpu().numpy())\n",
    "    axes[1].set_title('Ground Truth')\n",
    "\n",
    "    axes[2].imshow(pred_rgb)\n",
    "    axes[2].set_title('Predicted Mask')\n",
    "\n",
    "    # 이미지 파일 저장\n",
    "    output_path = f'/kaggle/working/segmentation_epoch_{epoch}.png'\n",
    "    plt.savefig(output_path)\n",
    "    plt.close()\n",
    "\n",
    "    print(f\"Segmentation visualization saved at {output_path}\")"
   ]
  },
  {
   "cell_type": "code",
   "execution_count": 13,
   "id": "d304242f",
   "metadata": {
    "execution": {
     "iopub.execute_input": "2024-11-26T20:08:12.817688Z",
     "iopub.status.busy": "2024-11-26T20:08:12.817220Z",
     "iopub.status.idle": "2024-11-26T20:08:12.822950Z",
     "shell.execute_reply": "2024-11-26T20:08:12.822144Z"
    },
    "papermill": {
     "duration": 0.014784,
     "end_time": "2024-11-26T20:08:12.824564",
     "exception": false,
     "start_time": "2024-11-26T20:08:12.809780",
     "status": "completed"
    },
    "tags": []
   },
   "outputs": [],
   "source": [
    "from tqdm import tqdm\n",
    "\n",
    "def train(model, dataloader, optimizer, loss_fn):\n",
    "    model.train()\n",
    "    train_loss, train_acc = 0.0, 0.0\n",
    "    total_pixels, correct_pixels = 0, 0\n",
    "\n",
    "    for images, label_images in tqdm(dataloader):\n",
    "        images = images.to(DEVICE)\n",
    "        label_images = label_images.to(DEVICE)\n",
    "\n",
    "        optimizer.zero_grad()\n",
    "        y_logits = model(images)\n",
    "        loss = loss_fn(y_logits, label_images)\n",
    "        loss.backward()\n",
    "        optimizer.step()\n",
    "\n",
    "        train_loss += loss.item()\n",
    "        # y_preds: (N, H, W)\n",
    "        y_preds = torch.argmax(y_logits, axis=1) # argmax along channels (N, C, H, W)\n",
    "        correct_pixels += (label_images == y_preds).sum().item()\n",
    "        total_pixels += label_images.numel()\n",
    "\n",
    "    # Calculate average loss and accuracy for the batch\n",
    "    train_loss /= len(dataloader)\n",
    "    train_acc = 100 * (correct_pixels / total_pixels)\n",
    "\n",
    "    return train_loss, train_acc"
   ]
  },
  {
   "cell_type": "code",
   "execution_count": 14,
   "id": "e2ee45c6",
   "metadata": {
    "execution": {
     "iopub.execute_input": "2024-11-26T20:08:12.837093Z",
     "iopub.status.busy": "2024-11-26T20:08:12.836592Z",
     "iopub.status.idle": "2024-11-26T20:08:12.841684Z",
     "shell.execute_reply": "2024-11-26T20:08:12.840956Z"
    },
    "papermill": {
     "duration": 0.013574,
     "end_time": "2024-11-26T20:08:12.843264",
     "exception": false,
     "start_time": "2024-11-26T20:08:12.829690",
     "status": "completed"
    },
    "tags": []
   },
   "outputs": [],
   "source": [
    "def evaluate(model, dataloader, optimizer, loss_fn):\n",
    "    model.eval()\n",
    "    val_loss, val_acc = 0.0, 0.0\n",
    "    correct_pixels, total_pixels = 0, 0\n",
    "\n",
    "    for images, label_images, in dataloader:\n",
    "        images = images.to(DEVICE)\n",
    "        label_images = label_images.to(DEVICE)\n",
    "\n",
    "        y_logits = model(images)\n",
    "        loss = loss_fn(y_logits, label_images)\n",
    "\n",
    "        val_loss += loss.item()\n",
    "        y_preds = torch.argmax(y_logits, axis=1)\n",
    "        correct_pixels += (label_images == y_preds).sum().item()\n",
    "        total_pixels += label_images.numel()\n",
    "\n",
    "    # Average loss/acc over the batches\n",
    "    val_loss /= len(dataloader)\n",
    "    val_acc = 100 * (correct_pixels / total_pixels)\n",
    "    return val_loss, val_acc"
   ]
  },
  {
   "cell_type": "code",
   "execution_count": 15,
   "id": "3b328fea",
   "metadata": {
    "execution": {
     "iopub.execute_input": "2024-11-26T20:08:12.854702Z",
     "iopub.status.busy": "2024-11-26T20:08:12.854423Z",
     "iopub.status.idle": "2024-11-26T20:08:12.861315Z",
     "shell.execute_reply": "2024-11-26T20:08:12.860656Z"
    },
    "papermill": {
     "duration": 0.014443,
     "end_time": "2024-11-26T20:08:12.862856",
     "exception": false,
     "start_time": "2024-11-26T20:08:12.848413",
     "status": "completed"
    },
    "tags": []
   },
   "outputs": [],
   "source": [
    "import time\n",
    "import copy\n",
    "from torch.optim import lr_scheduler\n",
    "\n",
    "def train_model(model, \n",
    "                train_dataloader, \n",
    "                val_dataloader,\n",
    "                optimizer,\n",
    "                loss_fn,\n",
    "                num_epochs=1):\n",
    "    best_acc = 0.0\n",
    "    best_model_wts = copy.deepcopy(model.state_dict())\n",
    "\n",
    "    for epoch in range(1, num_epochs + 1):\n",
    "        start = time.time()\n",
    "        # Feed forward / backprop on train_dataloader\n",
    "        train_loss, train_acc = train(model, train_dataloader, optimizer, loss_fn)\n",
    "        # Feed forward on val_dataloader\n",
    "        val_loss, val_acc = evaluate(model, val_dataloader, optimizer, loss_fn)\n",
    "\n",
    "        # Storing epoch histories\n",
    "        loss_acc_dict['train_loss_lst'].append(train_loss)\n",
    "        loss_acc_dict['train_acc_lst'].append(train_acc)\n",
    "        loss_acc_dict['val_loss_lst'].append(val_loss)\n",
    "        loss_acc_dict['val_acc_lst'].append(val_acc)\n",
    "\n",
    "        # Update model depending on its peformance on validation data\n",
    "        if val_acc > best_acc:\n",
    "            best_acc = val_acc\n",
    "            best_model_wts = copy.deepcopy(model.state_dict())\n",
    "\n",
    "        # Scheduler Update\n",
    "        scheduler.step()\n",
    "        \n",
    "        end = time.time()\n",
    "        time_elapsed = end - start\n",
    "        print(f\"------------ epoch {epoch} ------------\")\n",
    "        print(f\"Train loss: {train_loss:.4f} | Train acc: {train_acc:.2f}%\")\n",
    "        print(f\"Validation loss: {val_loss:.4f} | Validation acc: {val_acc:.2f}%\")\n",
    "        print(f\"Time taken: {time_elapsed / 60:.0f}min {time_elapsed % 60:.0f}s\")\n",
    "\n",
    "        if (epoch - 1) % 10 == 0:\n",
    "            visualize_segmentation(model, val_dataloader, DEVICE, epoch - 1)\n",
    "\n",
    "    \n",
    "    model.load_state_dict(best_model_wts)\n",
    "    return model"
   ]
  },
  {
   "cell_type": "code",
   "execution_count": 16,
   "id": "156e6754",
   "metadata": {
    "execution": {
     "iopub.execute_input": "2024-11-26T20:08:12.874225Z",
     "iopub.status.busy": "2024-11-26T20:08:12.873958Z",
     "iopub.status.idle": "2024-11-26T20:08:12.877588Z",
     "shell.execute_reply": "2024-11-26T20:08:12.876917Z"
    },
    "papermill": {
     "duration": 0.011999,
     "end_time": "2024-11-26T20:08:12.880000",
     "exception": false,
     "start_time": "2024-11-26T20:08:12.868001",
     "status": "completed"
    },
    "tags": []
   },
   "outputs": [],
   "source": [
    "# loss_fn = nn.CrossEntropyLoss()\n",
    "# optimizer = torch.optim.SGD([\n",
    "#     {'params': fcn_8s.features.parameters(), 'lr': 1e-4},\n",
    "#     {'params': fcn_8s.score_pool3.parameters(), 'lr': 1e-3},\n",
    "#     {'params': fcn_8s.score_pool4.parameters(), 'lr': 1e-3},\n",
    "#     {'params': fcn_8s.score_fr.parameters(), 'lr': 1e-3},\n",
    "#     {'params': fcn_8s.upscore_pool3.parameters(), 'lr': 1e-3},\n",
    "#     {'params': fcn_8s.upscore_pool4.parameters(), 'lr': 1e-3},\n",
    "#     {'params': fcn_8s.upscore_pool5.parameters(), 'lr': 1e-3}\n",
    "# ], momentum=0.9, weight_decay=0.0005)\n",
    "# scheduler = lr_scheduler.StepLR(optimizer, step_size=15, gamma=0.1)"
   ]
  },
  {
   "cell_type": "code",
   "execution_count": 17,
   "id": "db201be9",
   "metadata": {
    "execution": {
     "iopub.execute_input": "2024-11-26T20:08:12.891534Z",
     "iopub.status.busy": "2024-11-26T20:08:12.891264Z",
     "iopub.status.idle": "2024-11-26T20:08:12.896482Z",
     "shell.execute_reply": "2024-11-26T20:08:12.895774Z"
    },
    "papermill": {
     "duration": 0.012951,
     "end_time": "2024-11-26T20:08:12.898136",
     "exception": false,
     "start_time": "2024-11-26T20:08:12.885185",
     "status": "completed"
    },
    "tags": []
   },
   "outputs": [],
   "source": [
    "loss_fn = nn.CrossEntropyLoss()\n",
    "optimizer = torch.optim.Adam(fcn_8s.parameters(), lr=1e-3)\n",
    "scheduler = lr_scheduler.StepLR(optimizer, step_size=20, gamma=0.1)"
   ]
  },
  {
   "cell_type": "code",
   "execution_count": 18,
   "id": "e38f65d2",
   "metadata": {
    "execution": {
     "iopub.execute_input": "2024-11-26T20:08:12.909620Z",
     "iopub.status.busy": "2024-11-26T20:08:12.909370Z",
     "iopub.status.idle": "2024-11-26T20:47:20.942726Z",
     "shell.execute_reply": "2024-11-26T20:47:20.941763Z"
    },
    "papermill": {
     "duration": 2348.041369,
     "end_time": "2024-11-26T20:47:20.944836",
     "exception": false,
     "start_time": "2024-11-26T20:08:12.903467",
     "status": "completed"
    },
    "tags": []
   },
   "outputs": [
    {
     "name": "stderr",
     "output_type": "stream",
     "text": [
      "100%|██████████| 93/93 [00:44<00:00,  2.11it/s]\n"
     ]
    },
    {
     "name": "stdout",
     "output_type": "stream",
     "text": [
      "------------ epoch 1 ------------\n",
      "Train loss: 1.9978 | Train acc: 32.28%\n",
      "Validation loss: 1.4659 | Validation acc: 56.67%\n",
      "Time taken: 1min 53s\n",
      "Segmentation visualization saved at /kaggle/working/segmentation_epoch_0.png\n"
     ]
    },
    {
     "name": "stderr",
     "output_type": "stream",
     "text": [
      "100%|██████████| 93/93 [00:32<00:00,  2.84it/s]\n"
     ]
    },
    {
     "name": "stdout",
     "output_type": "stream",
     "text": [
      "------------ epoch 2 ------------\n",
      "Train loss: 1.1762 | Train acc: 64.74%\n",
      "Validation loss: 1.0955 | Validation acc: 68.57%\n",
      "Time taken: 1min 39s\n"
     ]
    },
    {
     "name": "stderr",
     "output_type": "stream",
     "text": [
      "100%|██████████| 93/93 [00:32<00:00,  2.83it/s]\n"
     ]
    },
    {
     "name": "stdout",
     "output_type": "stream",
     "text": [
      "------------ epoch 3 ------------\n",
      "Train loss: 0.9420 | Train acc: 73.25%\n",
      "Validation loss: 0.9302 | Validation acc: 73.35%\n",
      "Time taken: 1min 39s\n"
     ]
    },
    {
     "name": "stderr",
     "output_type": "stream",
     "text": [
      "100%|██████████| 93/93 [00:32<00:00,  2.86it/s]\n"
     ]
    },
    {
     "name": "stdout",
     "output_type": "stream",
     "text": [
      "------------ epoch 4 ------------\n",
      "Train loss: 0.8731 | Train acc: 74.96%\n",
      "Validation loss: 0.8224 | Validation acc: 75.96%\n",
      "Time taken: 1min 39s\n"
     ]
    },
    {
     "name": "stderr",
     "output_type": "stream",
     "text": [
      "100%|██████████| 93/93 [00:32<00:00,  2.86it/s]\n"
     ]
    },
    {
     "name": "stdout",
     "output_type": "stream",
     "text": [
      "------------ epoch 5 ------------\n",
      "Train loss: 0.7704 | Train acc: 77.41%\n",
      "Validation loss: 0.7242 | Validation acc: 79.24%\n",
      "Time taken: 1min 38s\n"
     ]
    },
    {
     "name": "stderr",
     "output_type": "stream",
     "text": [
      "100%|██████████| 93/93 [00:32<00:00,  2.85it/s]\n"
     ]
    },
    {
     "name": "stdout",
     "output_type": "stream",
     "text": [
      "------------ epoch 6 ------------\n",
      "Train loss: 0.6944 | Train acc: 79.09%\n",
      "Validation loss: 0.7223 | Validation acc: 78.72%\n",
      "Time taken: 1min 39s\n"
     ]
    },
    {
     "name": "stderr",
     "output_type": "stream",
     "text": [
      "100%|██████████| 93/93 [00:32<00:00,  2.88it/s]\n"
     ]
    },
    {
     "name": "stdout",
     "output_type": "stream",
     "text": [
      "------------ epoch 7 ------------\n",
      "Train loss: 0.6662 | Train acc: 79.71%\n",
      "Validation loss: 0.6544 | Validation acc: 80.82%\n",
      "Time taken: 1min 38s\n"
     ]
    },
    {
     "name": "stderr",
     "output_type": "stream",
     "text": [
      "100%|██████████| 93/93 [00:32<00:00,  2.87it/s]\n"
     ]
    },
    {
     "name": "stdout",
     "output_type": "stream",
     "text": [
      "------------ epoch 8 ------------\n",
      "Train loss: 0.6343 | Train acc: 80.66%\n",
      "Validation loss: 0.6850 | Validation acc: 79.69%\n",
      "Time taken: 1min 38s\n"
     ]
    },
    {
     "name": "stderr",
     "output_type": "stream",
     "text": [
      "100%|██████████| 93/93 [00:32<00:00,  2.87it/s]\n"
     ]
    },
    {
     "name": "stdout",
     "output_type": "stream",
     "text": [
      "------------ epoch 9 ------------\n",
      "Train loss: 0.5952 | Train acc: 81.40%\n",
      "Validation loss: 0.5997 | Validation acc: 81.46%\n",
      "Time taken: 1min 38s\n"
     ]
    },
    {
     "name": "stderr",
     "output_type": "stream",
     "text": [
      "100%|██████████| 93/93 [00:32<00:00,  2.88it/s]\n"
     ]
    },
    {
     "name": "stdout",
     "output_type": "stream",
     "text": [
      "------------ epoch 10 ------------\n",
      "Train loss: 0.5621 | Train acc: 82.19%\n",
      "Validation loss: 0.7396 | Validation acc: 77.56%\n",
      "Time taken: 1min 38s\n"
     ]
    },
    {
     "name": "stderr",
     "output_type": "stream",
     "text": [
      "100%|██████████| 93/93 [00:32<00:00,  2.89it/s]\n"
     ]
    },
    {
     "name": "stdout",
     "output_type": "stream",
     "text": [
      "------------ epoch 11 ------------\n",
      "Train loss: 0.6096 | Train acc: 81.02%\n",
      "Validation loss: 0.7121 | Validation acc: 79.10%\n",
      "Time taken: 1min 38s\n",
      "Segmentation visualization saved at /kaggle/working/segmentation_epoch_10.png\n"
     ]
    },
    {
     "name": "stderr",
     "output_type": "stream",
     "text": [
      "100%|██████████| 93/93 [00:32<00:00,  2.88it/s]\n"
     ]
    },
    {
     "name": "stdout",
     "output_type": "stream",
     "text": [
      "------------ epoch 12 ------------\n",
      "Train loss: 0.5642 | Train acc: 82.16%\n",
      "Validation loss: 0.5522 | Validation acc: 82.71%\n",
      "Time taken: 1min 38s\n"
     ]
    },
    {
     "name": "stderr",
     "output_type": "stream",
     "text": [
      "100%|██████████| 93/93 [00:32<00:00,  2.87it/s]\n"
     ]
    },
    {
     "name": "stdout",
     "output_type": "stream",
     "text": [
      "------------ epoch 13 ------------\n",
      "Train loss: 0.5350 | Train acc: 83.18%\n",
      "Validation loss: 0.5810 | Validation acc: 82.19%\n",
      "Time taken: 1min 38s\n"
     ]
    },
    {
     "name": "stderr",
     "output_type": "stream",
     "text": [
      "100%|██████████| 93/93 [00:32<00:00,  2.88it/s]\n"
     ]
    },
    {
     "name": "stdout",
     "output_type": "stream",
     "text": [
      "------------ epoch 14 ------------\n",
      "Train loss: 0.5808 | Train acc: 81.81%\n",
      "Validation loss: 0.5440 | Validation acc: 82.85%\n",
      "Time taken: 1min 38s\n"
     ]
    },
    {
     "name": "stderr",
     "output_type": "stream",
     "text": [
      "100%|██████████| 93/93 [00:32<00:00,  2.89it/s]\n"
     ]
    },
    {
     "name": "stdout",
     "output_type": "stream",
     "text": [
      "------------ epoch 15 ------------\n",
      "Train loss: 0.4972 | Train acc: 83.93%\n",
      "Validation loss: 0.5345 | Validation acc: 83.27%\n",
      "Time taken: 1min 38s\n"
     ]
    },
    {
     "name": "stderr",
     "output_type": "stream",
     "text": [
      "100%|██████████| 93/93 [00:32<00:00,  2.87it/s]\n"
     ]
    },
    {
     "name": "stdout",
     "output_type": "stream",
     "text": [
      "------------ epoch 16 ------------\n",
      "Train loss: 0.4913 | Train acc: 84.03%\n",
      "Validation loss: 0.5294 | Validation acc: 83.22%\n",
      "Time taken: 1min 39s\n"
     ]
    },
    {
     "name": "stderr",
     "output_type": "stream",
     "text": [
      "100%|██████████| 93/93 [00:32<00:00,  2.88it/s]\n"
     ]
    },
    {
     "name": "stdout",
     "output_type": "stream",
     "text": [
      "------------ epoch 17 ------------\n",
      "Train loss: 0.4726 | Train acc: 84.47%\n",
      "Validation loss: 0.5002 | Validation acc: 84.12%\n",
      "Time taken: 1min 38s\n"
     ]
    },
    {
     "name": "stderr",
     "output_type": "stream",
     "text": [
      "100%|██████████| 93/93 [00:32<00:00,  2.86it/s]\n"
     ]
    },
    {
     "name": "stdout",
     "output_type": "stream",
     "text": [
      "------------ epoch 18 ------------\n",
      "Train loss: 0.4588 | Train acc: 84.96%\n",
      "Validation loss: 0.5139 | Validation acc: 84.19%\n",
      "Time taken: 1min 39s\n"
     ]
    },
    {
     "name": "stderr",
     "output_type": "stream",
     "text": [
      "100%|██████████| 93/93 [00:32<00:00,  2.87it/s]\n"
     ]
    },
    {
     "name": "stdout",
     "output_type": "stream",
     "text": [
      "------------ epoch 19 ------------\n",
      "Train loss: 0.4296 | Train acc: 85.74%\n",
      "Validation loss: 0.5172 | Validation acc: 83.82%\n",
      "Time taken: 1min 38s\n"
     ]
    },
    {
     "name": "stderr",
     "output_type": "stream",
     "text": [
      "100%|██████████| 93/93 [00:32<00:00,  2.88it/s]\n"
     ]
    },
    {
     "name": "stdout",
     "output_type": "stream",
     "text": [
      "------------ epoch 20 ------------\n",
      "Train loss: 0.4300 | Train acc: 85.67%\n",
      "Validation loss: 0.4992 | Validation acc: 84.37%\n",
      "Time taken: 1min 38s\n"
     ]
    },
    {
     "name": "stderr",
     "output_type": "stream",
     "text": [
      "100%|██████████| 93/93 [00:32<00:00,  2.88it/s]\n"
     ]
    },
    {
     "name": "stdout",
     "output_type": "stream",
     "text": [
      "------------ epoch 21 ------------\n",
      "Train loss: 0.3886 | Train acc: 86.89%\n",
      "Validation loss: 0.4673 | Validation acc: 85.16%\n",
      "Time taken: 1min 39s\n",
      "Segmentation visualization saved at /kaggle/working/segmentation_epoch_20.png\n"
     ]
    },
    {
     "name": "stderr",
     "output_type": "stream",
     "text": [
      "100%|██████████| 93/93 [00:32<00:00,  2.87it/s]\n"
     ]
    },
    {
     "name": "stdout",
     "output_type": "stream",
     "text": [
      "------------ epoch 22 ------------\n",
      "Train loss: 0.3763 | Train acc: 87.14%\n",
      "Validation loss: 0.4650 | Validation acc: 85.25%\n",
      "Time taken: 1min 38s\n"
     ]
    },
    {
     "name": "stderr",
     "output_type": "stream",
     "text": [
      "100%|██████████| 93/93 [00:32<00:00,  2.86it/s]\n"
     ]
    },
    {
     "name": "stdout",
     "output_type": "stream",
     "text": [
      "------------ epoch 23 ------------\n",
      "Train loss: 0.3713 | Train acc: 87.24%\n",
      "Validation loss: 0.4648 | Validation acc: 85.29%\n",
      "Time taken: 1min 38s\n"
     ]
    },
    {
     "name": "stderr",
     "output_type": "stream",
     "text": [
      "100%|██████████| 93/93 [00:32<00:00,  2.90it/s]\n"
     ]
    },
    {
     "name": "stdout",
     "output_type": "stream",
     "text": [
      "------------ epoch 24 ------------\n",
      "Train loss: 0.3702 | Train acc: 87.35%\n",
      "Validation loss: 0.4679 | Validation acc: 85.33%\n",
      "Time taken: 1min 38s\n"
     ]
    },
    {
     "name": "stderr",
     "output_type": "stream",
     "text": [
      "100%|██████████| 93/93 [00:32<00:00,  2.88it/s]\n"
     ]
    },
    {
     "name": "stdout",
     "output_type": "stream",
     "text": [
      "------------ epoch 25 ------------\n",
      "Train loss: 0.3670 | Train acc: 87.40%\n",
      "Validation loss: 0.4665 | Validation acc: 85.32%\n",
      "Time taken: 1min 38s\n"
     ]
    },
    {
     "name": "stderr",
     "output_type": "stream",
     "text": [
      "100%|██████████| 93/93 [00:32<00:00,  2.86it/s]\n"
     ]
    },
    {
     "name": "stdout",
     "output_type": "stream",
     "text": [
      "------------ epoch 26 ------------\n",
      "Train loss: 0.3625 | Train acc: 87.49%\n",
      "Validation loss: 0.4640 | Validation acc: 85.50%\n",
      "Time taken: 1min 39s\n"
     ]
    },
    {
     "name": "stderr",
     "output_type": "stream",
     "text": [
      "100%|██████████| 93/93 [00:32<00:00,  2.88it/s]\n"
     ]
    },
    {
     "name": "stdout",
     "output_type": "stream",
     "text": [
      "------------ epoch 27 ------------\n",
      "Train loss: 0.3590 | Train acc: 87.56%\n",
      "Validation loss: 0.4658 | Validation acc: 85.37%\n",
      "Time taken: 1min 38s\n"
     ]
    },
    {
     "name": "stderr",
     "output_type": "stream",
     "text": [
      "100%|██████████| 93/93 [00:32<00:00,  2.86it/s]\n"
     ]
    },
    {
     "name": "stdout",
     "output_type": "stream",
     "text": [
      "------------ epoch 28 ------------\n",
      "Train loss: 0.3570 | Train acc: 87.62%\n",
      "Validation loss: 0.4634 | Validation acc: 85.45%\n",
      "Time taken: 1min 38s\n"
     ]
    },
    {
     "name": "stderr",
     "output_type": "stream",
     "text": [
      "100%|██████████| 93/93 [00:32<00:00,  2.88it/s]\n"
     ]
    },
    {
     "name": "stdout",
     "output_type": "stream",
     "text": [
      "------------ epoch 29 ------------\n",
      "Train loss: 0.3527 | Train acc: 87.69%\n",
      "Validation loss: 0.4626 | Validation acc: 85.47%\n",
      "Time taken: 1min 38s\n"
     ]
    },
    {
     "name": "stderr",
     "output_type": "stream",
     "text": [
      "100%|██████████| 93/93 [00:32<00:00,  2.88it/s]\n"
     ]
    },
    {
     "name": "stdout",
     "output_type": "stream",
     "text": [
      "------------ epoch 30 ------------\n",
      "Train loss: 0.3518 | Train acc: 87.76%\n",
      "Validation loss: 0.4671 | Validation acc: 85.39%\n",
      "Time taken: 1min 38s\n"
     ]
    },
    {
     "name": "stderr",
     "output_type": "stream",
     "text": [
      "100%|██████████| 93/93 [00:32<00:00,  2.88it/s]\n"
     ]
    },
    {
     "name": "stdout",
     "output_type": "stream",
     "text": [
      "------------ epoch 31 ------------\n",
      "Train loss: 0.3483 | Train acc: 87.83%\n",
      "Validation loss: 0.4665 | Validation acc: 85.43%\n",
      "Time taken: 1min 38s\n",
      "Segmentation visualization saved at /kaggle/working/segmentation_epoch_30.png\n"
     ]
    },
    {
     "name": "stderr",
     "output_type": "stream",
     "text": [
      "100%|██████████| 93/93 [00:32<00:00,  2.88it/s]\n"
     ]
    },
    {
     "name": "stdout",
     "output_type": "stream",
     "text": [
      "------------ epoch 32 ------------\n",
      "Train loss: 0.3456 | Train acc: 87.91%\n",
      "Validation loss: 0.4649 | Validation acc: 85.56%\n",
      "Time taken: 1min 38s\n"
     ]
    },
    {
     "name": "stderr",
     "output_type": "stream",
     "text": [
      "100%|██████████| 93/93 [00:32<00:00,  2.88it/s]\n"
     ]
    },
    {
     "name": "stdout",
     "output_type": "stream",
     "text": [
      "------------ epoch 33 ------------\n",
      "Train loss: 0.3439 | Train acc: 87.95%\n",
      "Validation loss: 0.4671 | Validation acc: 85.60%\n",
      "Time taken: 1min 38s\n"
     ]
    },
    {
     "name": "stderr",
     "output_type": "stream",
     "text": [
      "100%|██████████| 93/93 [00:32<00:00,  2.86it/s]\n"
     ]
    },
    {
     "name": "stdout",
     "output_type": "stream",
     "text": [
      "------------ epoch 34 ------------\n",
      "Train loss: 0.3416 | Train acc: 88.02%\n",
      "Validation loss: 0.4674 | Validation acc: 85.55%\n",
      "Time taken: 1min 39s\n"
     ]
    },
    {
     "name": "stderr",
     "output_type": "stream",
     "text": [
      "100%|██████████| 93/93 [00:32<00:00,  2.86it/s]\n"
     ]
    },
    {
     "name": "stdout",
     "output_type": "stream",
     "text": [
      "------------ epoch 35 ------------\n",
      "Train loss: 0.3405 | Train acc: 88.04%\n",
      "Validation loss: 0.4662 | Validation acc: 85.65%\n",
      "Time taken: 1min 39s\n"
     ]
    },
    {
     "name": "stderr",
     "output_type": "stream",
     "text": [
      "100%|██████████| 93/93 [00:32<00:00,  2.88it/s]\n"
     ]
    },
    {
     "name": "stdout",
     "output_type": "stream",
     "text": [
      "------------ epoch 36 ------------\n",
      "Train loss: 0.3357 | Train acc: 88.14%\n",
      "Validation loss: 0.4696 | Validation acc: 85.67%\n",
      "Time taken: 1min 38s\n"
     ]
    },
    {
     "name": "stderr",
     "output_type": "stream",
     "text": [
      "100%|██████████| 93/93 [00:32<00:00,  2.87it/s]\n"
     ]
    },
    {
     "name": "stdout",
     "output_type": "stream",
     "text": [
      "------------ epoch 37 ------------\n",
      "Train loss: 0.3368 | Train acc: 88.17%\n",
      "Validation loss: 0.4669 | Validation acc: 85.62%\n",
      "Time taken: 1min 38s\n"
     ]
    },
    {
     "name": "stderr",
     "output_type": "stream",
     "text": [
      "100%|██████████| 93/93 [00:32<00:00,  2.88it/s]\n"
     ]
    },
    {
     "name": "stdout",
     "output_type": "stream",
     "text": [
      "------------ epoch 38 ------------\n",
      "Train loss: 0.3327 | Train acc: 88.21%\n",
      "Validation loss: 0.4725 | Validation acc: 85.66%\n",
      "Time taken: 1min 38s\n"
     ]
    },
    {
     "name": "stderr",
     "output_type": "stream",
     "text": [
      "100%|██████████| 93/93 [00:32<00:00,  2.87it/s]\n"
     ]
    },
    {
     "name": "stdout",
     "output_type": "stream",
     "text": [
      "------------ epoch 39 ------------\n",
      "Train loss: 0.3293 | Train acc: 88.29%\n",
      "Validation loss: 0.4685 | Validation acc: 85.79%\n",
      "Time taken: 1min 39s\n"
     ]
    },
    {
     "name": "stderr",
     "output_type": "stream",
     "text": [
      "100%|██████████| 93/93 [00:32<00:00,  2.87it/s]\n"
     ]
    },
    {
     "name": "stdout",
     "output_type": "stream",
     "text": [
      "------------ epoch 40 ------------\n",
      "Train loss: 0.3266 | Train acc: 88.38%\n",
      "Validation loss: 0.4712 | Validation acc: 85.62%\n",
      "Time taken: 1min 38s\n"
     ]
    },
    {
     "name": "stderr",
     "output_type": "stream",
     "text": [
      "100%|██████████| 93/93 [00:32<00:00,  2.87it/s]\n"
     ]
    },
    {
     "name": "stdout",
     "output_type": "stream",
     "text": [
      "------------ epoch 41 ------------\n",
      "Train loss: 0.3218 | Train acc: 88.50%\n",
      "Validation loss: 0.4662 | Validation acc: 85.77%\n",
      "Time taken: 1min 38s\n",
      "Segmentation visualization saved at /kaggle/working/segmentation_epoch_40.png\n"
     ]
    },
    {
     "name": "stderr",
     "output_type": "stream",
     "text": [
      "100%|██████████| 93/93 [00:32<00:00,  2.86it/s]\n"
     ]
    },
    {
     "name": "stdout",
     "output_type": "stream",
     "text": [
      "------------ epoch 42 ------------\n",
      "Train loss: 0.3227 | Train acc: 88.54%\n",
      "Validation loss: 0.4695 | Validation acc: 85.75%\n",
      "Time taken: 1min 38s\n"
     ]
    },
    {
     "name": "stderr",
     "output_type": "stream",
     "text": [
      "100%|██████████| 93/93 [00:32<00:00,  2.88it/s]\n"
     ]
    },
    {
     "name": "stdout",
     "output_type": "stream",
     "text": [
      "------------ epoch 43 ------------\n",
      "Train loss: 0.3204 | Train acc: 88.55%\n",
      "Validation loss: 0.4681 | Validation acc: 85.76%\n",
      "Time taken: 1min 39s\n"
     ]
    },
    {
     "name": "stderr",
     "output_type": "stream",
     "text": [
      "100%|██████████| 93/93 [00:32<00:00,  2.86it/s]\n"
     ]
    },
    {
     "name": "stdout",
     "output_type": "stream",
     "text": [
      "------------ epoch 44 ------------\n",
      "Train loss: 0.3209 | Train acc: 88.55%\n",
      "Validation loss: 0.4708 | Validation acc: 85.79%\n",
      "Time taken: 1min 39s\n"
     ]
    },
    {
     "name": "stderr",
     "output_type": "stream",
     "text": [
      "100%|██████████| 93/93 [00:32<00:00,  2.89it/s]\n"
     ]
    },
    {
     "name": "stdout",
     "output_type": "stream",
     "text": [
      "------------ epoch 45 ------------\n",
      "Train loss: 0.3211 | Train acc: 88.54%\n",
      "Validation loss: 0.4701 | Validation acc: 85.77%\n",
      "Time taken: 1min 38s\n"
     ]
    },
    {
     "name": "stderr",
     "output_type": "stream",
     "text": [
      "100%|██████████| 93/93 [00:32<00:00,  2.87it/s]\n"
     ]
    },
    {
     "name": "stdout",
     "output_type": "stream",
     "text": [
      "------------ epoch 46 ------------\n",
      "Train loss: 0.3200 | Train acc: 88.56%\n",
      "Validation loss: 0.4699 | Validation acc: 85.78%\n",
      "Time taken: 1min 38s\n"
     ]
    },
    {
     "name": "stderr",
     "output_type": "stream",
     "text": [
      "100%|██████████| 93/93 [00:32<00:00,  2.87it/s]\n"
     ]
    },
    {
     "name": "stdout",
     "output_type": "stream",
     "text": [
      "------------ epoch 47 ------------\n",
      "Train loss: 0.3191 | Train acc: 88.59%\n",
      "Validation loss: 0.4707 | Validation acc: 85.75%\n",
      "Time taken: 1min 38s\n"
     ]
    },
    {
     "name": "stderr",
     "output_type": "stream",
     "text": [
      "100%|██████████| 93/93 [00:32<00:00,  2.87it/s]\n"
     ]
    },
    {
     "name": "stdout",
     "output_type": "stream",
     "text": [
      "------------ epoch 48 ------------\n",
      "Train loss: 0.3190 | Train acc: 88.58%\n",
      "Validation loss: 0.4695 | Validation acc: 85.77%\n",
      "Time taken: 1min 38s\n"
     ]
    },
    {
     "name": "stderr",
     "output_type": "stream",
     "text": [
      "100%|██████████| 93/93 [00:32<00:00,  2.85it/s]\n"
     ]
    },
    {
     "name": "stdout",
     "output_type": "stream",
     "text": [
      "------------ epoch 49 ------------\n",
      "Train loss: 0.3181 | Train acc: 88.60%\n",
      "Validation loss: 0.4688 | Validation acc: 85.80%\n",
      "Time taken: 1min 39s\n"
     ]
    },
    {
     "name": "stderr",
     "output_type": "stream",
     "text": [
      "100%|██████████| 93/93 [00:32<00:00,  2.87it/s]\n"
     ]
    },
    {
     "name": "stdout",
     "output_type": "stream",
     "text": [
      "------------ epoch 50 ------------\n",
      "Train loss: 0.3209 | Train acc: 88.61%\n",
      "Validation loss: 0.4733 | Validation acc: 85.77%\n",
      "Time taken: 1min 38s\n"
     ]
    },
    {
     "name": "stderr",
     "output_type": "stream",
     "text": [
      "100%|██████████| 93/93 [00:32<00:00,  2.89it/s]\n"
     ]
    },
    {
     "name": "stdout",
     "output_type": "stream",
     "text": [
      "------------ epoch 51 ------------\n",
      "Train loss: 0.3194 | Train acc: 88.61%\n",
      "Validation loss: 0.4708 | Validation acc: 85.75%\n",
      "Time taken: 1min 38s\n",
      "Segmentation visualization saved at /kaggle/working/segmentation_epoch_50.png\n"
     ]
    },
    {
     "name": "stderr",
     "output_type": "stream",
     "text": [
      "100%|██████████| 93/93 [00:32<00:00,  2.88it/s]\n"
     ]
    },
    {
     "name": "stdout",
     "output_type": "stream",
     "text": [
      "------------ epoch 52 ------------\n",
      "Train loss: 0.3182 | Train acc: 88.63%\n",
      "Validation loss: 0.4711 | Validation acc: 85.77%\n",
      "Time taken: 1min 38s\n"
     ]
    },
    {
     "name": "stderr",
     "output_type": "stream",
     "text": [
      "100%|██████████| 93/93 [00:32<00:00,  2.88it/s]\n"
     ]
    },
    {
     "name": "stdout",
     "output_type": "stream",
     "text": [
      "------------ epoch 53 ------------\n",
      "Train loss: 0.3179 | Train acc: 88.59%\n",
      "Validation loss: 0.4692 | Validation acc: 85.78%\n",
      "Time taken: 1min 38s\n"
     ]
    },
    {
     "name": "stderr",
     "output_type": "stream",
     "text": [
      "100%|██████████| 93/93 [00:32<00:00,  2.86it/s]\n"
     ]
    },
    {
     "name": "stdout",
     "output_type": "stream",
     "text": [
      "------------ epoch 54 ------------\n",
      "Train loss: 0.3173 | Train acc: 88.63%\n",
      "Validation loss: 0.4699 | Validation acc: 85.80%\n",
      "Time taken: 1min 38s\n"
     ]
    },
    {
     "name": "stderr",
     "output_type": "stream",
     "text": [
      "100%|██████████| 93/93 [00:32<00:00,  2.88it/s]\n"
     ]
    },
    {
     "name": "stdout",
     "output_type": "stream",
     "text": [
      "------------ epoch 55 ------------\n",
      "Train loss: 0.3180 | Train acc: 88.65%\n",
      "Validation loss: 0.4723 | Validation acc: 85.81%\n",
      "Time taken: 1min 38s\n"
     ]
    },
    {
     "name": "stderr",
     "output_type": "stream",
     "text": [
      "100%|██████████| 93/93 [00:32<00:00,  2.88it/s]\n"
     ]
    },
    {
     "name": "stdout",
     "output_type": "stream",
     "text": [
      "------------ epoch 56 ------------\n",
      "Train loss: 0.3164 | Train acc: 88.63%\n",
      "Validation loss: 0.4723 | Validation acc: 85.74%\n",
      "Time taken: 1min 38s\n"
     ]
    },
    {
     "name": "stderr",
     "output_type": "stream",
     "text": [
      "100%|██████████| 93/93 [00:32<00:00,  2.88it/s]\n"
     ]
    },
    {
     "name": "stdout",
     "output_type": "stream",
     "text": [
      "------------ epoch 57 ------------\n",
      "Train loss: 0.3156 | Train acc: 88.65%\n",
      "Validation loss: 0.4708 | Validation acc: 85.81%\n",
      "Time taken: 1min 38s\n"
     ]
    },
    {
     "name": "stderr",
     "output_type": "stream",
     "text": [
      "100%|██████████| 93/93 [00:32<00:00,  2.86it/s]\n"
     ]
    },
    {
     "name": "stdout",
     "output_type": "stream",
     "text": [
      "------------ epoch 58 ------------\n",
      "Train loss: 0.3157 | Train acc: 88.65%\n",
      "Validation loss: 0.4715 | Validation acc: 85.80%\n",
      "Time taken: 1min 38s\n"
     ]
    },
    {
     "name": "stderr",
     "output_type": "stream",
     "text": [
      "100%|██████████| 93/93 [00:32<00:00,  2.90it/s]\n"
     ]
    },
    {
     "name": "stdout",
     "output_type": "stream",
     "text": [
      "------------ epoch 59 ------------\n",
      "Train loss: 0.3166 | Train acc: 88.67%\n",
      "Validation loss: 0.4706 | Validation acc: 85.81%\n",
      "Time taken: 1min 38s\n"
     ]
    },
    {
     "name": "stderr",
     "output_type": "stream",
     "text": [
      "100%|██████████| 93/93 [00:32<00:00,  2.87it/s]\n"
     ]
    },
    {
     "name": "stdout",
     "output_type": "stream",
     "text": [
      "------------ epoch 60 ------------\n",
      "Train loss: 0.3147 | Train acc: 88.69%\n",
      "Validation loss: 0.4708 | Validation acc: 85.82%\n",
      "Time taken: 1min 38s\n"
     ]
    }
   ],
   "source": [
    "fcn8s_trained = train_model(fcn_8s,\n",
    "                            train_dataloader,\n",
    "                            val_dataloader,\n",
    "                            optimizer,\n",
    "                            loss_fn,\n",
    "                            num_epochs=60)"
   ]
  },
  {
   "cell_type": "markdown",
   "id": "46b380f2",
   "metadata": {
    "papermill": {
     "duration": 0.247689,
     "end_time": "2024-11-26T20:47:21.457427",
     "exception": false,
     "start_time": "2024-11-26T20:47:21.209738",
     "status": "completed"
    },
    "tags": []
   },
   "source": [
    "# Saving Results"
   ]
  },
  {
   "cell_type": "code",
   "execution_count": 19,
   "id": "bc7f6245",
   "metadata": {
    "execution": {
     "iopub.execute_input": "2024-11-26T20:47:22.004602Z",
     "iopub.status.busy": "2024-11-26T20:47:22.003882Z",
     "iopub.status.idle": "2024-11-26T20:47:22.234980Z",
     "shell.execute_reply": "2024-11-26T20:47:22.233996Z"
    },
    "papermill": {
     "duration": 0.53009,
     "end_time": "2024-11-26T20:47:22.237182",
     "exception": false,
     "start_time": "2024-11-26T20:47:21.707092",
     "status": "completed"
    },
    "tags": []
   },
   "outputs": [],
   "source": [
    "import pickle as pkl\n",
    "\n",
    "with open('/kaggle/working/loss_acc_dict.pkl', 'wb') as f:\n",
    "    pkl.dump(loss_acc_dict, f)\n",
    "\n",
    "torch.save(fcn8s_trained.state_dict(), '/kaggle/working/fcn8s.pth')"
   ]
  }
 ],
 "metadata": {
  "kaggle": {
   "accelerator": "none",
   "dataSources": [
    {
     "datasetId": 635428,
     "sourceId": 1132317,
     "sourceType": "datasetVersion"
    }
   ],
   "dockerImageVersionId": 30786,
   "isGpuEnabled": false,
   "isInternetEnabled": true,
   "language": "python",
   "sourceType": "notebook"
  },
  "kernelspec": {
   "display_name": "Python 3 (ipykernel)",
   "language": "python",
   "name": "python3"
  },
  "language_info": {
   "codemirror_mode": {
    "name": "ipython",
    "version": 3
   },
   "file_extension": ".py",
   "mimetype": "text/x-python",
   "name": "python",
   "nbconvert_exporter": "python",
   "pygments_lexer": "ipython3",
   "version": "3.8.19"
  },
  "papermill": {
   "default_parameters": {},
   "duration": 2364.416611,
   "end_time": "2024-11-26T20:47:23.811892",
   "environment_variables": {},
   "exception": null,
   "input_path": "__notebook__.ipynb",
   "output_path": "__notebook__.ipynb",
   "parameters": {},
   "start_time": "2024-11-26T20:07:59.395281",
   "version": "2.6.0"
  }
 },
 "nbformat": 4,
 "nbformat_minor": 5
}
