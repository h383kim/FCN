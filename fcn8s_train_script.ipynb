{
 "cells": [
  {
   "cell_type": "code",
   "execution_count": 1,
   "id": "6d84998f",
   "metadata": {
    "_cell_guid": "b1076dfc-b9ad-4769-8c92-a6c4dae69d19",
    "_uuid": "8f2839f25d086af736a60e9eeb907d3b93b6e0e5",
    "execution": {
     "iopub.execute_input": "2024-11-26T17:06:14.302792Z",
     "iopub.status.busy": "2024-11-26T17:06:14.301996Z",
     "iopub.status.idle": "2024-11-26T17:06:17.939962Z",
     "shell.execute_reply": "2024-11-26T17:06:17.939045Z"
    },
    "papermill": {
     "duration": 3.646223,
     "end_time": "2024-11-26T17:06:17.942139",
     "exception": false,
     "start_time": "2024-11-26T17:06:14.295916",
     "status": "completed"
    },
    "tags": []
   },
   "outputs": [],
   "source": [
    "import torch\n",
    "import os\n",
    "import pandas as pd"
   ]
  },
  {
   "cell_type": "code",
   "execution_count": 2,
   "id": "756422a8",
   "metadata": {
    "execution": {
     "iopub.execute_input": "2024-11-26T17:06:17.951525Z",
     "iopub.status.busy": "2024-11-26T17:06:17.951131Z",
     "iopub.status.idle": "2024-11-26T17:06:18.013928Z",
     "shell.execute_reply": "2024-11-26T17:06:18.013083Z"
    },
    "papermill": {
     "duration": 0.069111,
     "end_time": "2024-11-26T17:06:18.015557",
     "exception": false,
     "start_time": "2024-11-26T17:06:17.946446",
     "status": "completed"
    },
    "tags": []
   },
   "outputs": [
    {
     "data": {
      "text/plain": [
       "'cuda'"
      ]
     },
     "execution_count": 2,
     "metadata": {},
     "output_type": "execute_result"
    }
   ],
   "source": [
    "DEVICE = 'cuda' if torch.cuda.is_available() else 'cpu'\n",
    "DEVICE"
   ]
  },
  {
   "cell_type": "markdown",
   "id": "45e56a7b",
   "metadata": {
    "papermill": {
     "duration": 0.003753,
     "end_time": "2024-11-26T17:06:18.023373",
     "exception": false,
     "start_time": "2024-11-26T17:06:18.019620",
     "status": "completed"
    },
    "tags": []
   },
   "source": [
    "# Custom Dataset"
   ]
  },
  {
   "cell_type": "code",
   "execution_count": 3,
   "id": "9e9c9c40",
   "metadata": {
    "execution": {
     "iopub.execute_input": "2024-11-26T17:06:18.032955Z",
     "iopub.status.busy": "2024-11-26T17:06:18.032716Z",
     "iopub.status.idle": "2024-11-26T17:06:19.525623Z",
     "shell.execute_reply": "2024-11-26T17:06:19.524844Z"
    },
    "papermill": {
     "duration": 1.499514,
     "end_time": "2024-11-26T17:06:19.527653",
     "exception": false,
     "start_time": "2024-11-26T17:06:18.028139",
     "status": "completed"
    },
    "tags": []
   },
   "outputs": [],
   "source": [
    "import os\n",
    "import torch\n",
    "from torch.utils.data import Dataset, DataLoader\n",
    "from torchvision import transforms\n",
    "from PIL import Image\n",
    "import torchvision.transforms.functional as transforms_F\n",
    "import pandas as pd"
   ]
  },
  {
   "cell_type": "code",
   "execution_count": 4,
   "id": "05d2688c",
   "metadata": {
    "execution": {
     "iopub.execute_input": "2024-11-26T17:06:19.538049Z",
     "iopub.status.busy": "2024-11-26T17:06:19.537594Z",
     "iopub.status.idle": "2024-11-26T17:06:19.564309Z",
     "shell.execute_reply": "2024-11-26T17:06:19.563660Z"
    },
    "papermill": {
     "duration": 0.033989,
     "end_time": "2024-11-26T17:06:19.565969",
     "exception": false,
     "start_time": "2024-11-26T17:06:19.531980",
     "status": "completed"
    },
    "tags": []
   },
   "outputs": [],
   "source": [
    "class_df = pd.read_csv('/kaggle/input/camvid/CamVid/class_dict.csv')\n",
    "# Create a dictionary that maps rgb value to 32 CamVid's class indices\n",
    "RGB2label_dict = {\n",
    "    (row['r'], row['g'], row['b']): idx\n",
    "    for idx, row in class_df.iterrows()\n",
    "}\n",
    "label2RGB_dict = {\n",
    "    v: k for k, v in RGB2label_dict.items()\n",
    "}"
   ]
  },
  {
   "cell_type": "code",
   "execution_count": 5,
   "id": "abad9276",
   "metadata": {
    "execution": {
     "iopub.execute_input": "2024-11-26T17:06:19.574979Z",
     "iopub.status.busy": "2024-11-26T17:06:19.574723Z",
     "iopub.status.idle": "2024-11-26T17:06:19.584507Z",
     "shell.execute_reply": "2024-11-26T17:06:19.583675Z"
    },
    "papermill": {
     "duration": 0.016239,
     "end_time": "2024-11-26T17:06:19.586168",
     "exception": false,
     "start_time": "2024-11-26T17:06:19.569929",
     "status": "completed"
    },
    "tags": []
   },
   "outputs": [],
   "source": [
    "class CamVidDataset(Dataset):\n",
    "    def __init__(self, img_dir: str, label_dir: str, augmentation: bool=False):\n",
    "        self.img_dir = img_dir\n",
    "        self.label_dir = label_dir\n",
    "        self.augmentation = augmentation\n",
    "        self.img_files = os.listdir(self.img_dir)\n",
    "        self.label_files = os.listdir(self.label_dir)\n",
    "\n",
    "        self.transform = transforms.Compose([\n",
    "            transforms.Resize((384, 480)),\n",
    "            transforms.ToTensor()\n",
    "        ])\n",
    "        \n",
    "    def __len__(self):\n",
    "        return len(self.img_files)\n",
    "\n",
    "    def _augment(self, image: torch.Tensor, label: torch.Tensor) -> tuple[torch.Tensor, torch.Tensor]:\n",
    "        # Horizontal flip with p=0.5\n",
    "        if torch.randn(1) > 0.5:\n",
    "            image = transforms_F.hflip(image)\n",
    "            label = transforms_F.hflip(label)\n",
    "        # Pad for cropping\n",
    "        image = transforms_F.pad(image, (10, 10, 10, 10))\n",
    "        label = transforms_F.pad(label, (10, 10, 10, 10))\n",
    "        # RandomCrop\n",
    "        i, j, h, w = transforms.RandomCrop.get_params(image, output_size=(384, 480))\n",
    "        image = transforms_F.crop(image, i, j, h, w)\n",
    "        label = transforms_F.crop(label, i, j, h, w)\n",
    "\n",
    "        image = transforms.ColorJitter(brightness=0.1, contrast=0, saturation=0, hue=0.2)(image)\n",
    "        return image, label\n",
    "        \n",
    "    def __getitem__(self, idx):\n",
    "        img_file = self.img_files[idx]\n",
    "        label_file = self.label_files[idx]\n",
    "\n",
    "        img_path = os.path.join(self.img_dir, img_file)\n",
    "        label_path = os.path.join(self.label_dir, label_file)\n",
    "\n",
    "        image = Image.open(img_path)\n",
    "        label = Image.open(label_path)\n",
    "\n",
    "        # Transform\n",
    "        image = self.transform(image).to(DEVICE)\n",
    "        label = self.transform(label).to(DEVICE)\n",
    "\n",
    "        # If augmentation is on, apply augmentation\n",
    "        if self.augmentation:\n",
    "            image, label = self._augment(image, label)\n",
    "\n",
    "        # Masking label image pixel by pixel\n",
    "        label = label.permute(1, 2, 0) # (C, H, W) -> (H, W, C)\n",
    "        label = (label * 255).int() # Scale back to 0~255 as torch.ToTensor() scaled the image to 0~1\n",
    "        masked_label = torch.zeros(label.size(0), label.size(1), dtype=torch.uint8, device=DEVICE)\n",
    "        for rgb, idx in RGB2label_dict.items(): # Mask the pixels for every class type\n",
    "            rgb_tensor = torch.tensor(rgb, device=DEVICE)\n",
    "            masked_label[(label == rgb_tensor).all(axis=-1)] = idx\n",
    "\n",
    "        return image, masked_label.long()\n",
    "        "
   ]
  },
  {
   "cell_type": "code",
   "execution_count": 6,
   "id": "73400389",
   "metadata": {
    "execution": {
     "iopub.execute_input": "2024-11-26T17:06:19.594840Z",
     "iopub.status.busy": "2024-11-26T17:06:19.594595Z",
     "iopub.status.idle": "2024-11-26T17:06:19.640763Z",
     "shell.execute_reply": "2024-11-26T17:06:19.639259Z"
    },
    "papermill": {
     "duration": 0.052632,
     "end_time": "2024-11-26T17:06:19.642683",
     "exception": false,
     "start_time": "2024-11-26T17:06:19.590051",
     "status": "completed"
    },
    "tags": []
   },
   "outputs": [],
   "source": [
    "train_img_dir = '/kaggle/input/camvid/CamVid/train'\n",
    "train_label_dir ='/kaggle/input/camvid/CamVid/train_labels'\n",
    "train_dataset = CamVidDataset(train_img_dir, train_label_dir, False)\n",
    "\n",
    "val_img_dir = '/kaggle/input/camvid/CamVid/val'\n",
    "val_label_dir = '/kaggle/input/camvid/CamVid/val_labels'\n",
    "val_dataset =CamVidDataset(val_img_dir, val_label_dir, False)"
   ]
  },
  {
   "cell_type": "code",
   "execution_count": 7,
   "id": "9b0f6bb1",
   "metadata": {
    "execution": {
     "iopub.execute_input": "2024-11-26T17:06:19.654402Z",
     "iopub.status.busy": "2024-11-26T17:06:19.653765Z",
     "iopub.status.idle": "2024-11-26T17:06:20.186251Z",
     "shell.execute_reply": "2024-11-26T17:06:20.185435Z"
    },
    "papermill": {
     "duration": 0.540595,
     "end_time": "2024-11-26T17:06:20.187985",
     "exception": false,
     "start_time": "2024-11-26T17:06:19.647390",
     "status": "completed"
    },
    "tags": []
   },
   "outputs": [
    {
     "data": {
      "text/plain": [
       "torch.Size([3, 384, 480])"
      ]
     },
     "execution_count": 7,
     "metadata": {},
     "output_type": "execute_result"
    }
   ],
   "source": [
    "train_dataset[0][0].shape"
   ]
  },
  {
   "cell_type": "code",
   "execution_count": 8,
   "id": "348ad042",
   "metadata": {
    "execution": {
     "iopub.execute_input": "2024-11-26T17:06:20.197420Z",
     "iopub.status.busy": "2024-11-26T17:06:20.197124Z",
     "iopub.status.idle": "2024-11-26T17:06:20.201421Z",
     "shell.execute_reply": "2024-11-26T17:06:20.200721Z"
    },
    "papermill": {
     "duration": 0.011071,
     "end_time": "2024-11-26T17:06:20.203196",
     "exception": false,
     "start_time": "2024-11-26T17:06:20.192125",
     "status": "completed"
    },
    "tags": []
   },
   "outputs": [],
   "source": [
    "BATCH_SIZE = 8\n",
    "train_dataloader = DataLoader(train_dataset,\n",
    "                              batch_size=BATCH_SIZE,\n",
    "                              shuffle=True)\n",
    "val_dataloader = DataLoader(val_dataset,\n",
    "                            batch_size=BATCH_SIZE,\n",
    "                            shuffle=False)"
   ]
  },
  {
   "cell_type": "markdown",
   "id": "8ef92f4d",
   "metadata": {
    "papermill": {
     "duration": 0.003728,
     "end_time": "2024-11-26T17:06:20.210826",
     "exception": false,
     "start_time": "2024-11-26T17:06:20.207098",
     "status": "completed"
    },
    "tags": []
   },
   "source": [
    "# Model"
   ]
  },
  {
   "cell_type": "code",
   "execution_count": 9,
   "id": "2f2cbe64",
   "metadata": {
    "execution": {
     "iopub.execute_input": "2024-11-26T17:06:20.219698Z",
     "iopub.status.busy": "2024-11-26T17:06:20.219456Z",
     "iopub.status.idle": "2024-11-26T17:06:20.229263Z",
     "shell.execute_reply": "2024-11-26T17:06:20.228508Z"
    },
    "papermill": {
     "duration": 0.01609,
     "end_time": "2024-11-26T17:06:20.230822",
     "exception": false,
     "start_time": "2024-11-26T17:06:20.214732",
     "status": "completed"
    },
    "tags": []
   },
   "outputs": [],
   "source": [
    "import torch\n",
    "from torch import nn\n",
    "import torchvision.models as models\n",
    "\n",
    "class FCN_8s(nn.Module):\n",
    "    def __init__(self, num_classes):\n",
    "        super().__init__()\n",
    "\n",
    "        vgg16 = models.vgg16_bn(weights=\"IMAGENET1K_V1\", progress=True)\n",
    "\n",
    "        # Use the features from vgg16\n",
    "        self.features = vgg16.features\n",
    "\n",
    "        # Replace the classifier with convolutional layers\n",
    "        self.score_pool4 = nn.Conv2d(512, num_classes, kernel_size=1)\n",
    "        self.score_pool3 = nn.Conv2d(256, num_classes, kernel_size=1)\n",
    "\n",
    "        self.score_fr = nn.Sequential(\n",
    "            nn.Conv2d(512, 4096, kernel_size=1),\n",
    "            nn.ReLU(inplace=True),\n",
    "            nn.Dropout2d(),\n",
    "            nn.Conv2d(4096, 4096, kernel_size=1),\n",
    "            nn.ReLU(inplace=True),\n",
    "            nn.Dropout2d(),\n",
    "            nn.Conv2d(4096, num_classes, kernel_size=1)\n",
    "        )\n",
    "\n",
    "        # Transposed convolution layers for upsampling\n",
    "        '''\n",
    "        score_fr*2 means score_fr upsampled by factor of 2 using Transposed Convolution\n",
    "        '''\n",
    "        self.upscore_pool5 = nn.ConvTranspose2d(\n",
    "            num_classes, num_classes, kernel_size=4, stride=2, padding=1\n",
    "        ) # Upsamples the score_fr by factor of 2\n",
    "        self.upscore_pool4 = nn.ConvTranspose2d(\n",
    "            num_classes, num_classes, kernel_size=4, stride=2, padding=1\n",
    "        ) # Upsamples the (score_fr*2 + score_pool4) by factor of 2\n",
    "        self.upscore_pool3 = nn.ConvTranspose2d(\n",
    "            num_classes, num_classes, kernel_size=16, stride=8, padding=4\n",
    "        ) # Upsamples the [(score_fr*2 + score_pool4)*2 + score_pool3] by factor of 8\n",
    "\n",
    "    def forward(self, x):\n",
    "        # Store intermediate outputs for skip connections\n",
    "        pool3 = None\n",
    "        pool4 = None\n",
    "\n",
    "        '''input x: [N, 3, 384, 480] '''\n",
    "        # Forward pass through VGG16 features\n",
    "        for i in range(len(self.features)):\n",
    "            x = self.features[i](x) # Feed forwarding the previous output to each layer coming next\n",
    "            if i == 23: # After pool_3 layer passed\n",
    "                pool3 = x \n",
    "                ''' pool3: [N, 256, 48, 60] '''\n",
    "            elif i == 33: # After pool_4 layer passed\n",
    "                pool4 = x \n",
    "                ''' pool4: [N, 512, 24, 30] '''\n",
    "            elif i == 43: \n",
    "                ''' x: [N, 512, 12, 15] '''\n",
    "                break;\n",
    "\n",
    "        # Classify the features\n",
    "        # x is now the output from the last pooling layer(pool_5) of vgg16_bn\n",
    "        ''' x: [N, 32, 12, 15] '''\n",
    "        x = self.score_fr(x) # (N, num_classes, H/32, W/32)\n",
    "\n",
    "        # Upsample the pool5 score by factor of 2\n",
    "        ''' x: [N, 32, 24, 30] '''\n",
    "        x = self.upscore_pool5(x) # (N, num_classes, H/16, W/16)\n",
    "        # Add skip connection from pool4\n",
    "        ''' score_pool4: [N, 32, 24, 30] '''\n",
    "        score_pool4 = self.score_pool4(pool4)\n",
    "        x = x + score_pool4\n",
    "\n",
    "        # Upsample the skip-connected pool4+pool5 score by factor of 2\n",
    "        ''' x: [N, 32, 48, 60] '''\n",
    "        x = self.upscore_pool4(x) # (N, num_classes, H/8, W/8)\n",
    "        # Add skip connection from pool3\n",
    "        ''' score_pool3: [N, 32, 48, 60] '''\n",
    "        score_pool3 = self.score_pool3(pool3)\n",
    "        x = x + score_pool3\n",
    "\n",
    "        # Finally, upsample the skip-connected pool3+pool4+pool5 score by factor of 8\n",
    "        x = self.upscore_pool3(x) # (N, num_classes, H, W)\n",
    "        ''' x: [N, 32, 384, 480] '''\n",
    "        # The output tensor now has the same spatial dimensions as the input\n",
    "        return x\n",
    "        "
   ]
  },
  {
   "cell_type": "code",
   "execution_count": 10,
   "id": "bbc7d4ec",
   "metadata": {
    "execution": {
     "iopub.execute_input": "2024-11-26T17:06:20.239491Z",
     "iopub.status.busy": "2024-11-26T17:06:20.239230Z",
     "iopub.status.idle": "2024-11-26T17:06:30.824042Z",
     "shell.execute_reply": "2024-11-26T17:06:30.823171Z"
    },
    "papermill": {
     "duration": 10.591421,
     "end_time": "2024-11-26T17:06:30.826106",
     "exception": false,
     "start_time": "2024-11-26T17:06:20.234685",
     "status": "completed"
    },
    "tags": []
   },
   "outputs": [
    {
     "name": "stderr",
     "output_type": "stream",
     "text": [
      "Downloading: \"https://download.pytorch.org/models/vgg16_bn-6c64b313.pth\" to /root/.cache/torch/hub/checkpoints/vgg16_bn-6c64b313.pth\n",
      "100%|██████████| 528M/528M [00:08<00:00, 65.2MB/s]\n"
     ]
    }
   ],
   "source": [
    "fcn_8s = FCN_8s(num_classes=32).to(DEVICE)"
   ]
  },
  {
   "cell_type": "markdown",
   "id": "a460a03e",
   "metadata": {
    "papermill": {
     "duration": 0.007262,
     "end_time": "2024-11-26T17:06:30.841355",
     "exception": false,
     "start_time": "2024-11-26T17:06:30.834093",
     "status": "completed"
    },
    "tags": []
   },
   "source": [
    "# Train"
   ]
  },
  {
   "cell_type": "code",
   "execution_count": 11,
   "id": "e4a9a2f2",
   "metadata": {
    "execution": {
     "iopub.execute_input": "2024-11-26T17:06:30.858142Z",
     "iopub.status.busy": "2024-11-26T17:06:30.857342Z",
     "iopub.status.idle": "2024-11-26T17:06:30.862007Z",
     "shell.execute_reply": "2024-11-26T17:06:30.861212Z"
    },
    "papermill": {
     "duration": 0.014813,
     "end_time": "2024-11-26T17:06:30.863634",
     "exception": false,
     "start_time": "2024-11-26T17:06:30.848821",
     "status": "completed"
    },
    "tags": []
   },
   "outputs": [],
   "source": [
    "loss_acc_dict = {\n",
    "    'train_loss_lst' : [],\n",
    "    'train_acc_lst' : [],\n",
    "    'val_loss_lst' : [],\n",
    "    'val_acc_lst' : []\n",
    "}"
   ]
  },
  {
   "cell_type": "code",
   "execution_count": 12,
   "id": "852264a4",
   "metadata": {
    "execution": {
     "iopub.execute_input": "2024-11-26T17:06:30.880570Z",
     "iopub.status.busy": "2024-11-26T17:06:30.879714Z",
     "iopub.status.idle": "2024-11-26T17:06:30.893503Z",
     "shell.execute_reply": "2024-11-26T17:06:30.892698Z"
    },
    "papermill": {
     "duration": 0.024154,
     "end_time": "2024-11-26T17:06:30.895249",
     "exception": false,
     "start_time": "2024-11-26T17:06:30.871095",
     "status": "completed"
    },
    "tags": []
   },
   "outputs": [],
   "source": [
    "import random\n",
    "import matplotlib.pyplot as plt\n",
    "\n",
    "def label_to_rgb_tensor(label_tensor: torch.Tensor) -> torch.Tensor:\n",
    "    height, width = label_tensor.shape\n",
    "    rgb_image = torch.zeros(3, height, width, dtype=torch.uint8)\n",
    "\n",
    "    for label, rgb in label2RGB_dict.items():\n",
    "        mask = (label_tensor == label)\n",
    "        rgb_image[0][mask] = rgb[0]  # Red\n",
    "        rgb_image[1][mask] = rgb[1]  # Green\n",
    "        rgb_image[2][mask] = rgb[2]  # Blue\n",
    "\n",
    "    return rgb_image\n",
    "\n",
    "def visualize_segmentation(model, val_loader, device, epoch):\n",
    "    model.eval()\n",
    "    batch_idx = random.randint(0, len(val_loader) - 1)\n",
    "    images, labels = list(val_loader)[batch_idx]\n",
    "    images = images.to(device)\n",
    "    labels = labels.to(device)\n",
    "\n",
    "    with torch.no_grad():\n",
    "        outputs = model(images)\n",
    "        preds = torch.argmax(outputs, dim=1)\n",
    "\n",
    "    img_idx = random.randint(0, len(images) - 1)\n",
    "    img = images[img_idx].cpu().numpy().transpose(1, 2, 0)\n",
    "    label = labels[img_idx].cpu().numpy()\n",
    "    pred = preds[img_idx].cpu().numpy()\n",
    "    pred_rgb = label_to_rgb_tensor(pred).cpu().numpy().transpose(1, 2, 0)\n",
    "\n",
    "    fig, axes = plt.subplots(1, 3, figsize=(15, 5))\n",
    "    axes[0].imshow(img)\n",
    "    axes[0].set_title('Original Image')\n",
    "    \n",
    "    axes[1].imshow(label_to_rgb_tensor(label).permute(1, 2, 0).cpu().numpy())\n",
    "    axes[1].set_title('Ground Truth')\n",
    "\n",
    "    axes[2].imshow(pred_rgb)\n",
    "    axes[2].set_title('Predicted Mask')\n",
    "\n",
    "    # 이미지 파일 저장\n",
    "    output_path = f'/kaggle/working/segmentation_epoch_{epoch}.png'\n",
    "    plt.savefig(output_path)\n",
    "    plt.close()\n",
    "\n",
    "    print(f\"Segmentation visualization saved at {output_path}\")"
   ]
  },
  {
   "cell_type": "code",
   "execution_count": 13,
   "id": "98797704",
   "metadata": {
    "execution": {
     "iopub.execute_input": "2024-11-26T17:06:30.911962Z",
     "iopub.status.busy": "2024-11-26T17:06:30.911606Z",
     "iopub.status.idle": "2024-11-26T17:06:30.919777Z",
     "shell.execute_reply": "2024-11-26T17:06:30.918991Z"
    },
    "papermill": {
     "duration": 0.018289,
     "end_time": "2024-11-26T17:06:30.921442",
     "exception": false,
     "start_time": "2024-11-26T17:06:30.903153",
     "status": "completed"
    },
    "tags": []
   },
   "outputs": [],
   "source": [
    "from tqdm import tqdm\n",
    "\n",
    "def train(model, dataloader, optimizer, loss_fn):\n",
    "    model.train()\n",
    "    train_loss, train_acc = 0.0, 0.0\n",
    "    total_pixels, correct_pixels = 0, 0\n",
    "\n",
    "    for images, label_images in tqdm(dataloader):\n",
    "        images = images.to(DEVICE)\n",
    "        label_images = label_images.to(DEVICE)\n",
    "\n",
    "        optimizer.zero_grad()\n",
    "        y_logits = model(images)\n",
    "        loss = loss_fn(y_logits, label_images)\n",
    "        loss.backward()\n",
    "        optimizer.step()\n",
    "\n",
    "        train_loss += loss.item()\n",
    "        # y_preds: (N, H, W)\n",
    "        y_preds = torch.argmax(y_logits, axis=1) # argmax along channels (N, C, H, W)\n",
    "        correct_pixels += (label_images == y_preds).sum().item()\n",
    "        total_pixels += label_images.numel()\n",
    "\n",
    "    # Calculate average loss and accuracy for the batch\n",
    "    train_loss /= len(dataloader)\n",
    "    train_acc = 100 * (correct_pixels / total_pixels)\n",
    "\n",
    "    return train_loss, train_acc"
   ]
  },
  {
   "cell_type": "code",
   "execution_count": 14,
   "id": "d7abbb8b",
   "metadata": {
    "execution": {
     "iopub.execute_input": "2024-11-26T17:06:30.937907Z",
     "iopub.status.busy": "2024-11-26T17:06:30.937605Z",
     "iopub.status.idle": "2024-11-26T17:06:30.943491Z",
     "shell.execute_reply": "2024-11-26T17:06:30.942710Z"
    },
    "papermill": {
     "duration": 0.016344,
     "end_time": "2024-11-26T17:06:30.945186",
     "exception": false,
     "start_time": "2024-11-26T17:06:30.928842",
     "status": "completed"
    },
    "tags": []
   },
   "outputs": [],
   "source": [
    "def evaluate(model, dataloader, optimizer, loss_fn):\n",
    "    model.eval()\n",
    "    val_loss, val_acc = 0.0, 0.0\n",
    "    correct_pixels, total_pixels = 0, 0\n",
    "\n",
    "    for images, label_images, in dataloader:\n",
    "        images = images.to(DEVICE)\n",
    "        label_images = label_images.to(DEVICE)\n",
    "\n",
    "        y_logits = model(images)\n",
    "        loss = loss_fn(y_logits, label_images)\n",
    "\n",
    "        val_loss += loss.item()\n",
    "        y_preds = torch.argmax(y_logits, axis=1)\n",
    "        correct_pixels += (label_images == y_preds).sum().item()\n",
    "        total_pixels += label_images.numel()\n",
    "\n",
    "    # Average loss/acc over the batches\n",
    "    val_loss /= len(dataloader)\n",
    "    val_acc = 100 * (correct_pixels / total_pixels)\n",
    "    return val_loss, val_acc"
   ]
  },
  {
   "cell_type": "code",
   "execution_count": 15,
   "id": "fe907f4c",
   "metadata": {
    "execution": {
     "iopub.execute_input": "2024-11-26T17:06:30.961247Z",
     "iopub.status.busy": "2024-11-26T17:06:30.960969Z",
     "iopub.status.idle": "2024-11-26T17:06:30.968191Z",
     "shell.execute_reply": "2024-11-26T17:06:30.967394Z"
    },
    "papermill": {
     "duration": 0.017693,
     "end_time": "2024-11-26T17:06:30.970268",
     "exception": false,
     "start_time": "2024-11-26T17:06:30.952575",
     "status": "completed"
    },
    "tags": []
   },
   "outputs": [],
   "source": [
    "import time\n",
    "import copy\n",
    "from torch.optim import lr_scheduler\n",
    "\n",
    "def train_model(model, \n",
    "                train_dataloader, \n",
    "                val_dataloader,\n",
    "                optimizer,\n",
    "                loss_fn,\n",
    "                num_epochs=1):\n",
    "    best_acc = 0.0\n",
    "    best_model_wts = copy.deepcopy(model.state_dict())\n",
    "\n",
    "    for epoch in range(1, num_epochs + 1):\n",
    "        start = time.time()\n",
    "        # Feed forward / backprop on train_dataloader\n",
    "        train_loss, train_acc = train(model, train_dataloader, optimizer, loss_fn)\n",
    "        # Feed forward on val_dataloader\n",
    "        val_loss, val_acc = evaluate(model, val_dataloader, optimizer, loss_fn)\n",
    "\n",
    "        # Storing epoch histories\n",
    "        loss_acc_dict['train_loss_lst'].append(train_loss)\n",
    "        loss_acc_dict['train_acc_lst'].append(train_acc)\n",
    "        loss_acc_dict['val_loss_lst'].append(val_loss)\n",
    "        loss_acc_dict['val_acc_lst'].append(val_acc)\n",
    "\n",
    "        # Update model depending on its peformance on validation data\n",
    "        if val_acc > best_acc:\n",
    "            best_acc = val_acc\n",
    "            best_model_wts = copy.deepcopy(model.state_dict())\n",
    "\n",
    "        # Scheduler Update\n",
    "        # scheduler.step()\n",
    "        \n",
    "        end = time.time()\n",
    "        time_elapsed = end - start\n",
    "        print(f\"------------ epoch {epoch} ------------\")\n",
    "        print(f\"Train loss: {train_loss:.4f} | Train acc: {train_acc:.2f}%\")\n",
    "        print(f\"Validation loss: {val_loss:.4f} | Validation acc: {val_acc:.2f}%\")\n",
    "        print(f\"Time taken: {time_elapsed / 60:.0f}min {time_elapsed % 60:.0f}s\")\n",
    "\n",
    "        if (epoch - 1) % 10 == 0:\n",
    "            visualize_segmentation(model, val_dataloader, DEVICE, epoch - 1)\n",
    "\n",
    "    \n",
    "    model.load_state_dict(best_model_wts)\n",
    "    return model"
   ]
  },
  {
   "cell_type": "code",
   "execution_count": 16,
   "id": "0ca1c06e",
   "metadata": {
    "execution": {
     "iopub.execute_input": "2024-11-26T17:06:30.991967Z",
     "iopub.status.busy": "2024-11-26T17:06:30.991637Z",
     "iopub.status.idle": "2024-11-26T17:06:30.996043Z",
     "shell.execute_reply": "2024-11-26T17:06:30.995209Z"
    },
    "papermill": {
     "duration": 0.01495,
     "end_time": "2024-11-26T17:06:30.998165",
     "exception": false,
     "start_time": "2024-11-26T17:06:30.983215",
     "status": "completed"
    },
    "tags": []
   },
   "outputs": [],
   "source": [
    "# loss_fn = nn.CrossEntropyLoss()\n",
    "# optimizer = torch.optim.SGD([\n",
    "#     {'params': fcn_8s.features.parameters(), 'lr': 1e-4},\n",
    "#     {'params': fcn_8s.score_pool3.parameters(), 'lr': 1e-3},\n",
    "#     {'params': fcn_8s.score_pool4.parameters(), 'lr': 1e-3},\n",
    "#     {'params': fcn_8s.score_fr.parameters(), 'lr': 1e-3},\n",
    "#     {'params': fcn_8s.upscore_pool3.parameters(), 'lr': 1e-3},\n",
    "#     {'params': fcn_8s.upscore_pool4.parameters(), 'lr': 1e-3},\n",
    "#     {'params': fcn_8s.upscore_pool5.parameters(), 'lr': 1e-3}\n",
    "# ], momentum=0.9, weight_decay=0.0005)\n",
    "# scheduler = lr_scheduler.StepLR(optimizer, step_size=20, gamma=0.1)"
   ]
  },
  {
   "cell_type": "code",
   "execution_count": 17,
   "id": "1982f985",
   "metadata": {
    "execution": {
     "iopub.execute_input": "2024-11-26T17:06:31.024358Z",
     "iopub.status.busy": "2024-11-26T17:06:31.023717Z",
     "iopub.status.idle": "2024-11-26T17:06:31.028816Z",
     "shell.execute_reply": "2024-11-26T17:06:31.028066Z"
    },
    "papermill": {
     "duration": 0.018045,
     "end_time": "2024-11-26T17:06:31.030567",
     "exception": false,
     "start_time": "2024-11-26T17:06:31.012522",
     "status": "completed"
    },
    "tags": []
   },
   "outputs": [],
   "source": [
    "loss_fn = nn.CrossEntropyLoss()\n",
    "optimizer = torch.optim.Adam(fcn_8s.parameters(), lr=1e-3)\n",
    "#scheduler = lr_scheduler.StepLR(optimizer, step_size=30, gamma=0.1)"
   ]
  },
  {
   "cell_type": "code",
   "execution_count": 18,
   "id": "29102d70",
   "metadata": {
    "execution": {
     "iopub.execute_input": "2024-11-26T17:06:31.046671Z",
     "iopub.status.busy": "2024-11-26T17:06:31.046348Z",
     "iopub.status.idle": "2024-11-26T17:58:08.312222Z",
     "shell.execute_reply": "2024-11-26T17:58:08.311157Z"
    },
    "papermill": {
     "duration": 3097.276412,
     "end_time": "2024-11-26T17:58:08.314369",
     "exception": false,
     "start_time": "2024-11-26T17:06:31.037957",
     "status": "completed"
    },
    "tags": []
   },
   "outputs": [
    {
     "name": "stderr",
     "output_type": "stream",
     "text": [
      "100%|██████████| 47/47 [00:46<00:00,  1.01it/s]\n"
     ]
    },
    {
     "name": "stdout",
     "output_type": "stream",
     "text": [
      "------------ epoch 1 ------------\n",
      "Train loss: 2.2520 | Train acc: 27.45%\n",
      "Validation loss: 1.8569 | Validation acc: 43.18%\n",
      "Time taken: 1min 57s\n",
      "Segmentation visualization saved at /kaggle/working/segmentation_epoch_0.png\n"
     ]
    },
    {
     "name": "stderr",
     "output_type": "stream",
     "text": [
      "100%|██████████| 47/47 [00:31<00:00,  1.48it/s]\n"
     ]
    },
    {
     "name": "stdout",
     "output_type": "stream",
     "text": [
      "------------ epoch 2 ------------\n",
      "Train loss: 1.6371 | Train acc: 48.34%\n",
      "Validation loss: 1.5705 | Validation acc: 52.67%\n",
      "Time taken: 1min 38s\n"
     ]
    },
    {
     "name": "stderr",
     "output_type": "stream",
     "text": [
      "100%|██████████| 47/47 [00:31<00:00,  1.47it/s]\n"
     ]
    },
    {
     "name": "stdout",
     "output_type": "stream",
     "text": [
      "------------ epoch 3 ------------\n",
      "Train loss: 1.5129 | Train acc: 53.03%\n",
      "Validation loss: 1.5372 | Validation acc: 53.47%\n",
      "Time taken: 1min 38s\n"
     ]
    },
    {
     "name": "stderr",
     "output_type": "stream",
     "text": [
      "100%|██████████| 47/47 [00:32<00:00,  1.46it/s]\n"
     ]
    },
    {
     "name": "stdout",
     "output_type": "stream",
     "text": [
      "------------ epoch 4 ------------\n",
      "Train loss: 1.4538 | Train acc: 54.14%\n",
      "Validation loss: 1.4379 | Validation acc: 55.51%\n",
      "Time taken: 1min 38s\n"
     ]
    },
    {
     "name": "stderr",
     "output_type": "stream",
     "text": [
      "100%|██████████| 47/47 [00:31<00:00,  1.48it/s]\n"
     ]
    },
    {
     "name": "stdout",
     "output_type": "stream",
     "text": [
      "------------ epoch 5 ------------\n",
      "Train loss: 1.4229 | Train acc: 54.86%\n",
      "Validation loss: 1.4018 | Validation acc: 55.78%\n",
      "Time taken: 1min 38s\n"
     ]
    },
    {
     "name": "stderr",
     "output_type": "stream",
     "text": [
      "100%|██████████| 47/47 [00:32<00:00,  1.45it/s]\n"
     ]
    },
    {
     "name": "stdout",
     "output_type": "stream",
     "text": [
      "------------ epoch 6 ------------\n",
      "Train loss: 1.4098 | Train acc: 55.52%\n",
      "Validation loss: 1.4533 | Validation acc: 52.63%\n",
      "Time taken: 1min 39s\n"
     ]
    },
    {
     "name": "stderr",
     "output_type": "stream",
     "text": [
      "100%|██████████| 47/47 [00:31<00:00,  1.48it/s]\n"
     ]
    },
    {
     "name": "stdout",
     "output_type": "stream",
     "text": [
      "------------ epoch 7 ------------\n",
      "Train loss: 1.4062 | Train acc: 55.06%\n",
      "Validation loss: 1.4564 | Validation acc: 53.83%\n",
      "Time taken: 1min 38s\n"
     ]
    },
    {
     "name": "stderr",
     "output_type": "stream",
     "text": [
      "100%|██████████| 47/47 [00:31<00:00,  1.49it/s]\n"
     ]
    },
    {
     "name": "stdout",
     "output_type": "stream",
     "text": [
      "------------ epoch 8 ------------\n",
      "Train loss: 1.3757 | Train acc: 56.04%\n",
      "Validation loss: 1.4268 | Validation acc: 55.02%\n",
      "Time taken: 1min 37s\n"
     ]
    },
    {
     "name": "stderr",
     "output_type": "stream",
     "text": [
      "100%|██████████| 47/47 [00:31<00:00,  1.49it/s]\n"
     ]
    },
    {
     "name": "stdout",
     "output_type": "stream",
     "text": [
      "------------ epoch 9 ------------\n",
      "Train loss: 1.3780 | Train acc: 55.99%\n",
      "Validation loss: 1.4504 | Validation acc: 55.83%\n",
      "Time taken: 1min 38s\n"
     ]
    },
    {
     "name": "stderr",
     "output_type": "stream",
     "text": [
      "100%|██████████| 47/47 [00:31<00:00,  1.49it/s]\n"
     ]
    },
    {
     "name": "stdout",
     "output_type": "stream",
     "text": [
      "------------ epoch 10 ------------\n",
      "Train loss: 1.3626 | Train acc: 56.30%\n",
      "Validation loss: 1.4817 | Validation acc: 54.41%\n",
      "Time taken: 1min 38s\n"
     ]
    },
    {
     "name": "stderr",
     "output_type": "stream",
     "text": [
      "100%|██████████| 47/47 [00:31<00:00,  1.49it/s]\n"
     ]
    },
    {
     "name": "stdout",
     "output_type": "stream",
     "text": [
      "------------ epoch 11 ------------\n",
      "Train loss: 1.3377 | Train acc: 57.04%\n",
      "Validation loss: 1.4125 | Validation acc: 55.02%\n",
      "Time taken: 1min 38s\n",
      "Segmentation visualization saved at /kaggle/working/segmentation_epoch_10.png\n"
     ]
    },
    {
     "name": "stderr",
     "output_type": "stream",
     "text": [
      "100%|██████████| 47/47 [00:32<00:00,  1.46it/s]\n"
     ]
    },
    {
     "name": "stdout",
     "output_type": "stream",
     "text": [
      "------------ epoch 12 ------------\n",
      "Train loss: 1.3381 | Train acc: 57.62%\n",
      "Validation loss: 1.4399 | Validation acc: 53.28%\n",
      "Time taken: 1min 38s\n"
     ]
    },
    {
     "name": "stderr",
     "output_type": "stream",
     "text": [
      "100%|██████████| 47/47 [00:32<00:00,  1.45it/s]\n"
     ]
    },
    {
     "name": "stdout",
     "output_type": "stream",
     "text": [
      "------------ epoch 13 ------------\n",
      "Train loss: 1.3464 | Train acc: 57.28%\n",
      "Validation loss: 1.4227 | Validation acc: 55.22%\n",
      "Time taken: 1min 38s\n"
     ]
    },
    {
     "name": "stderr",
     "output_type": "stream",
     "text": [
      "100%|██████████| 47/47 [00:31<00:00,  1.49it/s]\n"
     ]
    },
    {
     "name": "stdout",
     "output_type": "stream",
     "text": [
      "------------ epoch 14 ------------\n",
      "Train loss: 1.3112 | Train acc: 58.06%\n",
      "Validation loss: 1.4670 | Validation acc: 54.42%\n",
      "Time taken: 1min 38s\n"
     ]
    },
    {
     "name": "stderr",
     "output_type": "stream",
     "text": [
      "100%|██████████| 47/47 [00:32<00:00,  1.46it/s]\n"
     ]
    },
    {
     "name": "stdout",
     "output_type": "stream",
     "text": [
      "------------ epoch 15 ------------\n",
      "Train loss: 1.3102 | Train acc: 58.61%\n",
      "Validation loss: 1.6173 | Validation acc: 49.72%\n",
      "Time taken: 1min 38s\n"
     ]
    },
    {
     "name": "stderr",
     "output_type": "stream",
     "text": [
      "100%|██████████| 47/47 [00:31<00:00,  1.49it/s]\n"
     ]
    },
    {
     "name": "stdout",
     "output_type": "stream",
     "text": [
      "------------ epoch 16 ------------\n",
      "Train loss: 1.3298 | Train acc: 57.95%\n",
      "Validation loss: 1.5241 | Validation acc: 53.93%\n",
      "Time taken: 1min 38s\n"
     ]
    },
    {
     "name": "stderr",
     "output_type": "stream",
     "text": [
      "100%|██████████| 47/47 [00:31<00:00,  1.49it/s]\n"
     ]
    },
    {
     "name": "stdout",
     "output_type": "stream",
     "text": [
      "------------ epoch 17 ------------\n",
      "Train loss: 1.2678 | Train acc: 59.57%\n",
      "Validation loss: 1.4660 | Validation acc: 53.43%\n",
      "Time taken: 1min 38s\n"
     ]
    },
    {
     "name": "stderr",
     "output_type": "stream",
     "text": [
      "100%|██████████| 47/47 [00:31<00:00,  1.49it/s]\n"
     ]
    },
    {
     "name": "stdout",
     "output_type": "stream",
     "text": [
      "------------ epoch 18 ------------\n",
      "Train loss: 1.2312 | Train acc: 60.93%\n",
      "Validation loss: 1.4743 | Validation acc: 54.31%\n",
      "Time taken: 1min 37s\n"
     ]
    },
    {
     "name": "stderr",
     "output_type": "stream",
     "text": [
      "100%|██████████| 47/47 [00:31<00:00,  1.49it/s]\n"
     ]
    },
    {
     "name": "stdout",
     "output_type": "stream",
     "text": [
      "------------ epoch 19 ------------\n",
      "Train loss: 1.2119 | Train acc: 61.51%\n",
      "Validation loss: 1.5222 | Validation acc: 51.85%\n",
      "Time taken: 1min 38s\n"
     ]
    },
    {
     "name": "stderr",
     "output_type": "stream",
     "text": [
      "100%|██████████| 47/47 [00:31<00:00,  1.48it/s]\n"
     ]
    },
    {
     "name": "stdout",
     "output_type": "stream",
     "text": [
      "------------ epoch 20 ------------\n",
      "Train loss: 1.1844 | Train acc: 62.50%\n",
      "Validation loss: 1.5387 | Validation acc: 51.06%\n",
      "Time taken: 1min 38s\n"
     ]
    },
    {
     "name": "stderr",
     "output_type": "stream",
     "text": [
      "100%|██████████| 47/47 [00:31<00:00,  1.49it/s]\n"
     ]
    },
    {
     "name": "stdout",
     "output_type": "stream",
     "text": [
      "------------ epoch 21 ------------\n",
      "Train loss: 1.1731 | Train acc: 63.11%\n",
      "Validation loss: 1.5327 | Validation acc: 54.46%\n",
      "Time taken: 1min 37s\n",
      "Segmentation visualization saved at /kaggle/working/segmentation_epoch_20.png\n"
     ]
    },
    {
     "name": "stderr",
     "output_type": "stream",
     "text": [
      "100%|██████████| 47/47 [00:31<00:00,  1.49it/s]\n"
     ]
    },
    {
     "name": "stdout",
     "output_type": "stream",
     "text": [
      "------------ epoch 22 ------------\n",
      "Train loss: 1.1410 | Train acc: 64.94%\n",
      "Validation loss: 1.6738 | Validation acc: 52.03%\n",
      "Time taken: 1min 38s\n"
     ]
    },
    {
     "name": "stderr",
     "output_type": "stream",
     "text": [
      "100%|██████████| 47/47 [00:31<00:00,  1.49it/s]\n"
     ]
    },
    {
     "name": "stdout",
     "output_type": "stream",
     "text": [
      "------------ epoch 23 ------------\n",
      "Train loss: 1.1233 | Train acc: 65.86%\n",
      "Validation loss: 1.6082 | Validation acc: 52.81%\n",
      "Time taken: 1min 37s\n"
     ]
    },
    {
     "name": "stderr",
     "output_type": "stream",
     "text": [
      "100%|██████████| 47/47 [00:31<00:00,  1.49it/s]\n"
     ]
    },
    {
     "name": "stdout",
     "output_type": "stream",
     "text": [
      "------------ epoch 24 ------------\n",
      "Train loss: 1.1017 | Train acc: 66.50%\n",
      "Validation loss: 1.7117 | Validation acc: 45.44%\n",
      "Time taken: 1min 37s\n"
     ]
    },
    {
     "name": "stderr",
     "output_type": "stream",
     "text": [
      "100%|██████████| 47/47 [00:31<00:00,  1.48it/s]\n"
     ]
    },
    {
     "name": "stdout",
     "output_type": "stream",
     "text": [
      "------------ epoch 25 ------------\n",
      "Train loss: 1.0986 | Train acc: 66.79%\n",
      "Validation loss: 1.7053 | Validation acc: 49.25%\n",
      "Time taken: 1min 38s\n"
     ]
    },
    {
     "name": "stderr",
     "output_type": "stream",
     "text": [
      "100%|██████████| 47/47 [00:32<00:00,  1.43it/s]\n"
     ]
    },
    {
     "name": "stdout",
     "output_type": "stream",
     "text": [
      "------------ epoch 26 ------------\n",
      "Train loss: 1.0468 | Train acc: 68.43%\n",
      "Validation loss: 1.6407 | Validation acc: 51.51%\n",
      "Time taken: 1min 39s\n"
     ]
    },
    {
     "name": "stderr",
     "output_type": "stream",
     "text": [
      "100%|██████████| 47/47 [00:33<00:00,  1.42it/s]\n"
     ]
    },
    {
     "name": "stdout",
     "output_type": "stream",
     "text": [
      "------------ epoch 27 ------------\n",
      "Train loss: 1.0035 | Train acc: 69.80%\n",
      "Validation loss: 1.6482 | Validation acc: 51.22%\n",
      "Time taken: 1min 40s\n"
     ]
    },
    {
     "name": "stderr",
     "output_type": "stream",
     "text": [
      "100%|██████████| 47/47 [00:32<00:00,  1.45it/s]\n"
     ]
    },
    {
     "name": "stdout",
     "output_type": "stream",
     "text": [
      "------------ epoch 28 ------------\n",
      "Train loss: 0.9767 | Train acc: 70.75%\n",
      "Validation loss: 1.8788 | Validation acc: 48.77%\n",
      "Time taken: 1min 39s\n"
     ]
    },
    {
     "name": "stderr",
     "output_type": "stream",
     "text": [
      "100%|██████████| 47/47 [00:32<00:00,  1.44it/s]\n"
     ]
    },
    {
     "name": "stdout",
     "output_type": "stream",
     "text": [
      "------------ epoch 29 ------------\n",
      "Train loss: 0.9465 | Train acc: 71.86%\n",
      "Validation loss: 1.7658 | Validation acc: 46.31%\n",
      "Time taken: 1min 39s\n"
     ]
    },
    {
     "name": "stderr",
     "output_type": "stream",
     "text": [
      "100%|██████████| 47/47 [00:32<00:00,  1.45it/s]\n"
     ]
    },
    {
     "name": "stdout",
     "output_type": "stream",
     "text": [
      "------------ epoch 30 ------------\n",
      "Train loss: 0.9556 | Train acc: 71.98%\n",
      "Validation loss: 1.7955 | Validation acc: 48.65%\n",
      "Time taken: 1min 38s\n"
     ]
    },
    {
     "name": "stderr",
     "output_type": "stream",
     "text": [
      "100%|██████████| 47/47 [00:33<00:00,  1.42it/s]\n"
     ]
    },
    {
     "name": "stdout",
     "output_type": "stream",
     "text": [
      "------------ epoch 31 ------------\n",
      "Train loss: 0.9458 | Train acc: 71.91%\n",
      "Validation loss: 1.7683 | Validation acc: 50.61%\n",
      "Time taken: 1min 39s\n",
      "Segmentation visualization saved at /kaggle/working/segmentation_epoch_30.png\n"
     ]
    },
    {
     "name": "stderr",
     "output_type": "stream",
     "text": [
      "100%|██████████| 47/47 [00:32<00:00,  1.44it/s]\n"
     ]
    },
    {
     "name": "stdout",
     "output_type": "stream",
     "text": [
      "------------ epoch 32 ------------\n",
      "Train loss: 0.8850 | Train acc: 73.56%\n",
      "Validation loss: 1.8682 | Validation acc: 51.30%\n",
      "Time taken: 1min 39s\n"
     ]
    },
    {
     "name": "stderr",
     "output_type": "stream",
     "text": [
      "100%|██████████| 47/47 [00:33<00:00,  1.42it/s]\n"
     ]
    },
    {
     "name": "stdout",
     "output_type": "stream",
     "text": [
      "------------ epoch 33 ------------\n",
      "Train loss: 0.8637 | Train acc: 74.74%\n",
      "Validation loss: 1.8525 | Validation acc: 48.14%\n",
      "Time taken: 1min 39s\n"
     ]
    },
    {
     "name": "stderr",
     "output_type": "stream",
     "text": [
      "100%|██████████| 47/47 [00:33<00:00,  1.41it/s]\n"
     ]
    },
    {
     "name": "stdout",
     "output_type": "stream",
     "text": [
      "------------ epoch 34 ------------\n",
      "Train loss: 0.8870 | Train acc: 73.69%\n",
      "Validation loss: 1.9651 | Validation acc: 46.57%\n",
      "Time taken: 1min 39s\n"
     ]
    },
    {
     "name": "stderr",
     "output_type": "stream",
     "text": [
      "100%|██████████| 47/47 [00:31<00:00,  1.48it/s]\n"
     ]
    },
    {
     "name": "stdout",
     "output_type": "stream",
     "text": [
      "------------ epoch 35 ------------\n",
      "Train loss: 0.8709 | Train acc: 73.96%\n",
      "Validation loss: 1.7588 | Validation acc: 49.24%\n",
      "Time taken: 1min 38s\n"
     ]
    },
    {
     "name": "stderr",
     "output_type": "stream",
     "text": [
      "100%|██████████| 47/47 [00:32<00:00,  1.46it/s]\n"
     ]
    },
    {
     "name": "stdout",
     "output_type": "stream",
     "text": [
      "------------ epoch 36 ------------\n",
      "Train loss: 0.8444 | Train acc: 74.93%\n",
      "Validation loss: 1.8256 | Validation acc: 49.99%\n",
      "Time taken: 1min 38s\n"
     ]
    },
    {
     "name": "stderr",
     "output_type": "stream",
     "text": [
      "100%|██████████| 47/47 [00:32<00:00,  1.47it/s]\n"
     ]
    },
    {
     "name": "stdout",
     "output_type": "stream",
     "text": [
      "------------ epoch 37 ------------\n",
      "Train loss: 0.8286 | Train acc: 75.88%\n",
      "Validation loss: 1.8328 | Validation acc: 48.11%\n",
      "Time taken: 1min 38s\n"
     ]
    },
    {
     "name": "stderr",
     "output_type": "stream",
     "text": [
      "100%|██████████| 47/47 [00:31<00:00,  1.48it/s]\n"
     ]
    },
    {
     "name": "stdout",
     "output_type": "stream",
     "text": [
      "------------ epoch 38 ------------\n",
      "Train loss: 0.8555 | Train acc: 74.40%\n",
      "Validation loss: 2.0936 | Validation acc: 47.84%\n",
      "Time taken: 1min 38s\n"
     ]
    },
    {
     "name": "stderr",
     "output_type": "stream",
     "text": [
      "100%|██████████| 47/47 [00:31<00:00,  1.48it/s]\n"
     ]
    },
    {
     "name": "stdout",
     "output_type": "stream",
     "text": [
      "------------ epoch 39 ------------\n",
      "Train loss: 0.7725 | Train acc: 76.55%\n",
      "Validation loss: 1.8090 | Validation acc: 50.45%\n",
      "Time taken: 1min 38s\n"
     ]
    },
    {
     "name": "stderr",
     "output_type": "stream",
     "text": [
      "100%|██████████| 47/47 [00:31<00:00,  1.47it/s]\n"
     ]
    },
    {
     "name": "stdout",
     "output_type": "stream",
     "text": [
      "------------ epoch 40 ------------\n",
      "Train loss: 0.7330 | Train acc: 77.72%\n",
      "Validation loss: 1.9453 | Validation acc: 51.02%\n",
      "Time taken: 1min 38s\n"
     ]
    },
    {
     "name": "stderr",
     "output_type": "stream",
     "text": [
      "100%|██████████| 47/47 [00:31<00:00,  1.48it/s]\n"
     ]
    },
    {
     "name": "stdout",
     "output_type": "stream",
     "text": [
      "------------ epoch 41 ------------\n",
      "Train loss: 0.7184 | Train acc: 78.28%\n",
      "Validation loss: 1.8791 | Validation acc: 50.50%\n",
      "Time taken: 1min 38s\n",
      "Segmentation visualization saved at /kaggle/working/segmentation_epoch_40.png\n"
     ]
    },
    {
     "name": "stderr",
     "output_type": "stream",
     "text": [
      "100%|██████████| 47/47 [00:32<00:00,  1.46it/s]\n"
     ]
    },
    {
     "name": "stdout",
     "output_type": "stream",
     "text": [
      "------------ epoch 42 ------------\n",
      "Train loss: 0.7071 | Train acc: 78.56%\n",
      "Validation loss: 1.9126 | Validation acc: 49.45%\n",
      "Time taken: 1min 38s\n"
     ]
    },
    {
     "name": "stderr",
     "output_type": "stream",
     "text": [
      "100%|██████████| 47/47 [00:31<00:00,  1.47it/s]\n"
     ]
    },
    {
     "name": "stdout",
     "output_type": "stream",
     "text": [
      "------------ epoch 43 ------------\n",
      "Train loss: 0.7122 | Train acc: 78.53%\n",
      "Validation loss: 1.9752 | Validation acc: 49.09%\n",
      "Time taken: 1min 38s\n"
     ]
    },
    {
     "name": "stderr",
     "output_type": "stream",
     "text": [
      "100%|██████████| 47/47 [00:31<00:00,  1.47it/s]\n"
     ]
    },
    {
     "name": "stdout",
     "output_type": "stream",
     "text": [
      "------------ epoch 44 ------------\n",
      "Train loss: 0.7583 | Train acc: 77.14%\n",
      "Validation loss: 1.9710 | Validation acc: 47.78%\n",
      "Time taken: 1min 38s\n"
     ]
    },
    {
     "name": "stderr",
     "output_type": "stream",
     "text": [
      "100%|██████████| 47/47 [00:32<00:00,  1.46it/s]\n"
     ]
    },
    {
     "name": "stdout",
     "output_type": "stream",
     "text": [
      "------------ epoch 45 ------------\n",
      "Train loss: 0.7104 | Train acc: 78.33%\n",
      "Validation loss: 1.8925 | Validation acc: 50.73%\n",
      "Time taken: 1min 38s\n"
     ]
    },
    {
     "name": "stderr",
     "output_type": "stream",
     "text": [
      "100%|██████████| 47/47 [00:31<00:00,  1.47it/s]\n"
     ]
    },
    {
     "name": "stdout",
     "output_type": "stream",
     "text": [
      "------------ epoch 46 ------------\n",
      "Train loss: 0.6629 | Train acc: 79.61%\n",
      "Validation loss: 1.9839 | Validation acc: 48.55%\n",
      "Time taken: 1min 38s\n"
     ]
    },
    {
     "name": "stderr",
     "output_type": "stream",
     "text": [
      "100%|██████████| 47/47 [00:31<00:00,  1.47it/s]\n"
     ]
    },
    {
     "name": "stdout",
     "output_type": "stream",
     "text": [
      "------------ epoch 47 ------------\n",
      "Train loss: 0.6292 | Train acc: 80.25%\n",
      "Validation loss: 2.1037 | Validation acc: 50.74%\n",
      "Time taken: 1min 38s\n"
     ]
    },
    {
     "name": "stderr",
     "output_type": "stream",
     "text": [
      "100%|██████████| 47/47 [00:31<00:00,  1.48it/s]\n"
     ]
    },
    {
     "name": "stdout",
     "output_type": "stream",
     "text": [
      "------------ epoch 48 ------------\n",
      "Train loss: 0.6191 | Train acc: 80.59%\n",
      "Validation loss: 2.0463 | Validation acc: 50.58%\n",
      "Time taken: 1min 38s\n"
     ]
    },
    {
     "name": "stderr",
     "output_type": "stream",
     "text": [
      "100%|██████████| 47/47 [00:32<00:00,  1.44it/s]\n"
     ]
    },
    {
     "name": "stdout",
     "output_type": "stream",
     "text": [
      "------------ epoch 49 ------------\n",
      "Train loss: 0.5968 | Train acc: 81.31%\n",
      "Validation loss: 2.0933 | Validation acc: 49.10%\n",
      "Time taken: 1min 39s\n"
     ]
    },
    {
     "name": "stderr",
     "output_type": "stream",
     "text": [
      "100%|██████████| 47/47 [00:31<00:00,  1.48it/s]\n"
     ]
    },
    {
     "name": "stdout",
     "output_type": "stream",
     "text": [
      "------------ epoch 50 ------------\n",
      "Train loss: 0.6302 | Train acc: 80.35%\n",
      "Validation loss: 2.0870 | Validation acc: 49.18%\n",
      "Time taken: 1min 38s\n"
     ]
    },
    {
     "name": "stderr",
     "output_type": "stream",
     "text": [
      "100%|██████████| 47/47 [00:32<00:00,  1.46it/s]\n"
     ]
    },
    {
     "name": "stdout",
     "output_type": "stream",
     "text": [
      "------------ epoch 51 ------------\n",
      "Train loss: 0.5969 | Train acc: 81.13%\n",
      "Validation loss: 1.9602 | Validation acc: 49.26%\n",
      "Time taken: 1min 39s\n",
      "Segmentation visualization saved at /kaggle/working/segmentation_epoch_50.png\n"
     ]
    },
    {
     "name": "stderr",
     "output_type": "stream",
     "text": [
      "100%|██████████| 47/47 [00:31<00:00,  1.48it/s]\n"
     ]
    },
    {
     "name": "stdout",
     "output_type": "stream",
     "text": [
      "------------ epoch 52 ------------\n",
      "Train loss: 0.5702 | Train acc: 82.13%\n",
      "Validation loss: 2.1430 | Validation acc: 49.18%\n",
      "Time taken: 1min 38s\n"
     ]
    },
    {
     "name": "stderr",
     "output_type": "stream",
     "text": [
      "100%|██████████| 47/47 [00:31<00:00,  1.49it/s]\n"
     ]
    },
    {
     "name": "stdout",
     "output_type": "stream",
     "text": [
      "------------ epoch 53 ------------\n",
      "Train loss: 0.5755 | Train acc: 81.88%\n",
      "Validation loss: 2.2985 | Validation acc: 47.67%\n",
      "Time taken: 1min 37s\n"
     ]
    },
    {
     "name": "stderr",
     "output_type": "stream",
     "text": [
      "100%|██████████| 47/47 [00:31<00:00,  1.48it/s]\n"
     ]
    },
    {
     "name": "stdout",
     "output_type": "stream",
     "text": [
      "------------ epoch 54 ------------\n",
      "Train loss: 0.5717 | Train acc: 82.06%\n",
      "Validation loss: 2.1380 | Validation acc: 49.79%\n",
      "Time taken: 1min 38s\n"
     ]
    },
    {
     "name": "stderr",
     "output_type": "stream",
     "text": [
      "100%|██████████| 47/47 [00:31<00:00,  1.49it/s]\n"
     ]
    },
    {
     "name": "stdout",
     "output_type": "stream",
     "text": [
      "------------ epoch 55 ------------\n",
      "Train loss: 0.5868 | Train acc: 81.38%\n",
      "Validation loss: 2.2285 | Validation acc: 49.74%\n",
      "Time taken: 1min 37s\n"
     ]
    },
    {
     "name": "stderr",
     "output_type": "stream",
     "text": [
      "100%|██████████| 47/47 [00:31<00:00,  1.49it/s]\n"
     ]
    },
    {
     "name": "stdout",
     "output_type": "stream",
     "text": [
      "------------ epoch 56 ------------\n",
      "Train loss: 0.5523 | Train acc: 82.28%\n",
      "Validation loss: 2.2028 | Validation acc: 47.91%\n",
      "Time taken: 1min 38s\n"
     ]
    },
    {
     "name": "stderr",
     "output_type": "stream",
     "text": [
      "100%|██████████| 47/47 [00:32<00:00,  1.46it/s]\n"
     ]
    },
    {
     "name": "stdout",
     "output_type": "stream",
     "text": [
      "------------ epoch 57 ------------\n",
      "Train loss: 0.5320 | Train acc: 82.82%\n",
      "Validation loss: 2.1764 | Validation acc: 50.46%\n",
      "Time taken: 1min 39s\n"
     ]
    },
    {
     "name": "stderr",
     "output_type": "stream",
     "text": [
      "100%|██████████| 47/47 [00:31<00:00,  1.50it/s]\n"
     ]
    },
    {
     "name": "stdout",
     "output_type": "stream",
     "text": [
      "------------ epoch 58 ------------\n",
      "Train loss: 0.5102 | Train acc: 83.64%\n",
      "Validation loss: 2.3507 | Validation acc: 49.29%\n",
      "Time taken: 1min 37s\n"
     ]
    },
    {
     "name": "stderr",
     "output_type": "stream",
     "text": [
      "100%|██████████| 47/47 [00:31<00:00,  1.49it/s]\n"
     ]
    },
    {
     "name": "stdout",
     "output_type": "stream",
     "text": [
      "------------ epoch 59 ------------\n",
      "Train loss: 0.5335 | Train acc: 82.77%\n",
      "Validation loss: 2.1650 | Validation acc: 49.77%\n",
      "Time taken: 1min 37s\n"
     ]
    },
    {
     "name": "stderr",
     "output_type": "stream",
     "text": [
      "100%|██████████| 47/47 [00:32<00:00,  1.45it/s]\n"
     ]
    },
    {
     "name": "stdout",
     "output_type": "stream",
     "text": [
      "------------ epoch 60 ------------\n",
      "Train loss: 0.5113 | Train acc: 83.41%\n",
      "Validation loss: 2.2197 | Validation acc: 49.74%\n",
      "Time taken: 1min 38s\n"
     ]
    },
    {
     "name": "stderr",
     "output_type": "stream",
     "text": [
      "100%|██████████| 47/47 [00:31<00:00,  1.49it/s]\n"
     ]
    },
    {
     "name": "stdout",
     "output_type": "stream",
     "text": [
      "------------ epoch 61 ------------\n",
      "Train loss: 0.4771 | Train acc: 84.32%\n",
      "Validation loss: 2.2578 | Validation acc: 50.57%\n",
      "Time taken: 1min 38s\n",
      "Segmentation visualization saved at /kaggle/working/segmentation_epoch_60.png\n"
     ]
    },
    {
     "name": "stderr",
     "output_type": "stream",
     "text": [
      "100%|██████████| 47/47 [00:31<00:00,  1.49it/s]\n"
     ]
    },
    {
     "name": "stdout",
     "output_type": "stream",
     "text": [
      "------------ epoch 62 ------------\n",
      "Train loss: 0.5597 | Train acc: 81.96%\n",
      "Validation loss: 2.1984 | Validation acc: 47.24%\n",
      "Time taken: 1min 37s\n"
     ]
    },
    {
     "name": "stderr",
     "output_type": "stream",
     "text": [
      "100%|██████████| 47/47 [00:32<00:00,  1.45it/s]\n"
     ]
    },
    {
     "name": "stdout",
     "output_type": "stream",
     "text": [
      "------------ epoch 63 ------------\n",
      "Train loss: 0.5077 | Train acc: 83.34%\n",
      "Validation loss: 2.4587 | Validation acc: 46.57%\n",
      "Time taken: 1min 38s\n"
     ]
    },
    {
     "name": "stderr",
     "output_type": "stream",
     "text": [
      "100%|██████████| 47/47 [00:31<00:00,  1.50it/s]\n"
     ]
    },
    {
     "name": "stdout",
     "output_type": "stream",
     "text": [
      "------------ epoch 64 ------------\n",
      "Train loss: 0.5892 | Train acc: 81.04%\n",
      "Validation loss: 2.2256 | Validation acc: 47.69%\n",
      "Time taken: 1min 37s\n"
     ]
    },
    {
     "name": "stderr",
     "output_type": "stream",
     "text": [
      "100%|██████████| 47/47 [00:31<00:00,  1.50it/s]\n"
     ]
    },
    {
     "name": "stdout",
     "output_type": "stream",
     "text": [
      "------------ epoch 65 ------------\n",
      "Train loss: 0.5048 | Train acc: 83.43%\n",
      "Validation loss: 2.1926 | Validation acc: 49.78%\n",
      "Time taken: 1min 37s\n"
     ]
    },
    {
     "name": "stderr",
     "output_type": "stream",
     "text": [
      "100%|██████████| 47/47 [00:31<00:00,  1.48it/s]\n"
     ]
    },
    {
     "name": "stdout",
     "output_type": "stream",
     "text": [
      "------------ epoch 66 ------------\n",
      "Train loss: 0.4693 | Train acc: 84.32%\n",
      "Validation loss: 2.2731 | Validation acc: 49.55%\n",
      "Time taken: 1min 38s\n"
     ]
    },
    {
     "name": "stderr",
     "output_type": "stream",
     "text": [
      "100%|██████████| 47/47 [00:31<00:00,  1.48it/s]\n"
     ]
    },
    {
     "name": "stdout",
     "output_type": "stream",
     "text": [
      "------------ epoch 67 ------------\n",
      "Train loss: 0.4372 | Train acc: 85.28%\n",
      "Validation loss: 2.4357 | Validation acc: 49.47%\n",
      "Time taken: 1min 38s\n"
     ]
    },
    {
     "name": "stderr",
     "output_type": "stream",
     "text": [
      "100%|██████████| 47/47 [00:31<00:00,  1.49it/s]\n"
     ]
    },
    {
     "name": "stdout",
     "output_type": "stream",
     "text": [
      "------------ epoch 68 ------------\n",
      "Train loss: 0.4193 | Train acc: 85.64%\n",
      "Validation loss: 2.4004 | Validation acc: 49.74%\n",
      "Time taken: 1min 37s\n"
     ]
    },
    {
     "name": "stderr",
     "output_type": "stream",
     "text": [
      "100%|██████████| 47/47 [00:31<00:00,  1.49it/s]\n"
     ]
    },
    {
     "name": "stdout",
     "output_type": "stream",
     "text": [
      "------------ epoch 69 ------------\n",
      "Train loss: 0.4090 | Train acc: 85.99%\n",
      "Validation loss: 2.4121 | Validation acc: 48.40%\n",
      "Time taken: 1min 37s\n"
     ]
    },
    {
     "name": "stderr",
     "output_type": "stream",
     "text": [
      "100%|██████████| 47/47 [00:32<00:00,  1.47it/s]\n"
     ]
    },
    {
     "name": "stdout",
     "output_type": "stream",
     "text": [
      "------------ epoch 70 ------------\n",
      "Train loss: 0.3953 | Train acc: 86.21%\n",
      "Validation loss: 2.4312 | Validation acc: 49.62%\n",
      "Time taken: 1min 38s\n"
     ]
    },
    {
     "name": "stderr",
     "output_type": "stream",
     "text": [
      "100%|██████████| 47/47 [00:31<00:00,  1.50it/s]\n"
     ]
    },
    {
     "name": "stdout",
     "output_type": "stream",
     "text": [
      "------------ epoch 71 ------------\n",
      "Train loss: 0.3863 | Train acc: 86.56%\n",
      "Validation loss: 2.5400 | Validation acc: 48.32%\n",
      "Time taken: 1min 38s\n",
      "Segmentation visualization saved at /kaggle/working/segmentation_epoch_70.png\n"
     ]
    },
    {
     "name": "stderr",
     "output_type": "stream",
     "text": [
      "100%|██████████| 47/47 [00:31<00:00,  1.48it/s]\n"
     ]
    },
    {
     "name": "stdout",
     "output_type": "stream",
     "text": [
      "------------ epoch 72 ------------\n",
      "Train loss: 0.3966 | Train acc: 86.19%\n",
      "Validation loss: 2.5722 | Validation acc: 48.57%\n",
      "Time taken: 1min 38s\n"
     ]
    },
    {
     "name": "stderr",
     "output_type": "stream",
     "text": [
      "100%|██████████| 47/47 [00:31<00:00,  1.49it/s]\n"
     ]
    },
    {
     "name": "stdout",
     "output_type": "stream",
     "text": [
      "------------ epoch 73 ------------\n",
      "Train loss: 0.3910 | Train acc: 86.28%\n",
      "Validation loss: 2.4406 | Validation acc: 49.33%\n",
      "Time taken: 1min 37s\n"
     ]
    },
    {
     "name": "stderr",
     "output_type": "stream",
     "text": [
      "100%|██████████| 47/47 [00:31<00:00,  1.49it/s]\n"
     ]
    },
    {
     "name": "stdout",
     "output_type": "stream",
     "text": [
      "------------ epoch 74 ------------\n",
      "Train loss: 0.3801 | Train acc: 86.63%\n",
      "Validation loss: 2.5202 | Validation acc: 48.37%\n",
      "Time taken: 1min 38s\n"
     ]
    },
    {
     "name": "stderr",
     "output_type": "stream",
     "text": [
      "100%|██████████| 47/47 [00:32<00:00,  1.47it/s]\n"
     ]
    },
    {
     "name": "stdout",
     "output_type": "stream",
     "text": [
      "------------ epoch 75 ------------\n",
      "Train loss: 0.3650 | Train acc: 86.94%\n",
      "Validation loss: 2.6184 | Validation acc: 50.33%\n",
      "Time taken: 1min 38s\n"
     ]
    },
    {
     "name": "stderr",
     "output_type": "stream",
     "text": [
      "100%|██████████| 47/47 [00:31<00:00,  1.50it/s]\n"
     ]
    },
    {
     "name": "stdout",
     "output_type": "stream",
     "text": [
      "------------ epoch 76 ------------\n",
      "Train loss: 0.3554 | Train acc: 87.23%\n",
      "Validation loss: 2.6843 | Validation acc: 48.88%\n",
      "Time taken: 1min 37s\n"
     ]
    },
    {
     "name": "stderr",
     "output_type": "stream",
     "text": [
      "100%|██████████| 47/47 [00:31<00:00,  1.49it/s]\n"
     ]
    },
    {
     "name": "stdout",
     "output_type": "stream",
     "text": [
      "------------ epoch 77 ------------\n",
      "Train loss: 0.3463 | Train acc: 87.53%\n",
      "Validation loss: 2.7005 | Validation acc: 47.22%\n",
      "Time taken: 1min 37s\n"
     ]
    },
    {
     "name": "stderr",
     "output_type": "stream",
     "text": [
      "100%|██████████| 47/47 [00:31<00:00,  1.48it/s]\n"
     ]
    },
    {
     "name": "stdout",
     "output_type": "stream",
     "text": [
      "------------ epoch 78 ------------\n",
      "Train loss: 0.3625 | Train acc: 87.06%\n",
      "Validation loss: 2.6595 | Validation acc: 48.61%\n",
      "Time taken: 1min 38s\n"
     ]
    },
    {
     "name": "stderr",
     "output_type": "stream",
     "text": [
      "100%|██████████| 47/47 [00:31<00:00,  1.48it/s]\n"
     ]
    },
    {
     "name": "stdout",
     "output_type": "stream",
     "text": [
      "------------ epoch 79 ------------\n",
      "Train loss: 0.3513 | Train acc: 87.40%\n",
      "Validation loss: 2.6963 | Validation acc: 50.53%\n",
      "Time taken: 1min 38s\n"
     ]
    },
    {
     "name": "stderr",
     "output_type": "stream",
     "text": [
      "100%|██████████| 47/47 [00:31<00:00,  1.49it/s]\n"
     ]
    },
    {
     "name": "stdout",
     "output_type": "stream",
     "text": [
      "------------ epoch 80 ------------\n",
      "Train loss: 0.3413 | Train acc: 87.69%\n",
      "Validation loss: 2.7681 | Validation acc: 49.94%\n",
      "Time taken: 1min 37s\n"
     ]
    }
   ],
   "source": [
    "fcn8s_trained = train_model(fcn_8s,\n",
    "                            train_dataloader,\n",
    "                            val_dataloader,\n",
    "                            optimizer,\n",
    "                            loss_fn,\n",
    "                            num_epochs=80)"
   ]
  },
  {
   "cell_type": "markdown",
   "id": "df8281ab",
   "metadata": {
    "papermill": {
     "duration": 0.207788,
     "end_time": "2024-11-26T17:58:08.773541",
     "exception": false,
     "start_time": "2024-11-26T17:58:08.565753",
     "status": "completed"
    },
    "tags": []
   },
   "source": [
    "# Saving Results"
   ]
  },
  {
   "cell_type": "code",
   "execution_count": 19,
   "id": "9078c0ba",
   "metadata": {
    "execution": {
     "iopub.execute_input": "2024-11-26T17:58:09.137581Z",
     "iopub.status.busy": "2024-11-26T17:58:09.136685Z",
     "iopub.status.idle": "2024-11-26T17:58:09.383184Z",
     "shell.execute_reply": "2024-11-26T17:58:09.382355Z"
    },
    "papermill": {
     "duration": 0.429181,
     "end_time": "2024-11-26T17:58:09.385270",
     "exception": false,
     "start_time": "2024-11-26T17:58:08.956089",
     "status": "completed"
    },
    "tags": []
   },
   "outputs": [],
   "source": [
    "import pickle as pkl\n",
    "\n",
    "with open('/kaggle/working/loss_acc_dict.pkl', 'wb') as f:\n",
    "    pkl.dump(loss_acc_dict, f)\n",
    "\n",
    "torch.save(fcn8s_trained.state_dict(), '/kaggle/working/fcn8s.pth')"
   ]
  }
 ],
 "metadata": {
  "kaggle": {
   "accelerator": "gpu",
   "dataSources": [
    {
     "datasetId": 635428,
     "sourceId": 1132317,
     "sourceType": "datasetVersion"
    }
   ],
   "dockerImageVersionId": 30786,
   "isGpuEnabled": true,
   "isInternetEnabled": true,
   "language": "python",
   "sourceType": "notebook"
  },
  "kernelspec": {
   "display_name": "Python 3",
   "language": "python",
   "name": "python3"
  },
  "language_info": {
   "codemirror_mode": {
    "name": "ipython",
    "version": 3
   },
   "file_extension": ".py",
   "mimetype": "text/x-python",
   "name": "python",
   "nbconvert_exporter": "python",
   "pygments_lexer": "ipython3",
   "version": "3.10.14"
  },
  "papermill": {
   "default_parameters": {},
   "duration": 3119.177103,
   "end_time": "2024-11-26T17:58:11.083708",
   "environment_variables": {},
   "exception": null,
   "input_path": "__notebook__.ipynb",
   "output_path": "__notebook__.ipynb",
   "parameters": {},
   "start_time": "2024-11-26T17:06:11.906605",
   "version": "2.6.0"
  }
 },
 "nbformat": 4,
 "nbformat_minor": 5
}
