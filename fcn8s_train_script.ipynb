{
 "cells": [
  {
   "cell_type": "code",
   "execution_count": 1,
   "id": "9b337602",
   "metadata": {
    "_cell_guid": "b1076dfc-b9ad-4769-8c92-a6c4dae69d19",
    "_uuid": "8f2839f25d086af736a60e9eeb907d3b93b6e0e5",
    "execution": {
     "iopub.execute_input": "2024-11-26T06:42:23.819313Z",
     "iopub.status.busy": "2024-11-26T06:42:23.819047Z",
     "iopub.status.idle": "2024-11-26T06:42:27.241409Z",
     "shell.execute_reply": "2024-11-26T06:42:27.240537Z"
    },
    "papermill": {
     "duration": 3.429872,
     "end_time": "2024-11-26T06:42:27.243529",
     "exception": false,
     "start_time": "2024-11-26T06:42:23.813657",
     "status": "completed"
    },
    "tags": []
   },
   "outputs": [],
   "source": [
    "import torch\n",
    "import os\n",
    "import pandas as pd"
   ]
  },
  {
   "cell_type": "code",
   "execution_count": 2,
   "id": "28433728",
   "metadata": {
    "execution": {
     "iopub.execute_input": "2024-11-26T06:42:27.252717Z",
     "iopub.status.busy": "2024-11-26T06:42:27.252348Z",
     "iopub.status.idle": "2024-11-26T06:42:27.388761Z",
     "shell.execute_reply": "2024-11-26T06:42:27.387945Z"
    },
    "papermill": {
     "duration": 0.142665,
     "end_time": "2024-11-26T06:42:27.390394",
     "exception": false,
     "start_time": "2024-11-26T06:42:27.247729",
     "status": "completed"
    },
    "tags": []
   },
   "outputs": [
    {
     "data": {
      "text/plain": [
       "'cuda'"
      ]
     },
     "execution_count": 2,
     "metadata": {},
     "output_type": "execute_result"
    }
   ],
   "source": [
    "DEVICE = 'cuda' if torch.cuda.is_available() else 'cpu'\n",
    "DEVICE"
   ]
  },
  {
   "cell_type": "markdown",
   "id": "6946afa3",
   "metadata": {
    "papermill": {
     "duration": 0.00376,
     "end_time": "2024-11-26T06:42:27.398282",
     "exception": false,
     "start_time": "2024-11-26T06:42:27.394522",
     "status": "completed"
    },
    "tags": []
   },
   "source": [
    "# Custom Dataset"
   ]
  },
  {
   "cell_type": "code",
   "execution_count": 3,
   "id": "320d741e",
   "metadata": {
    "execution": {
     "iopub.execute_input": "2024-11-26T06:42:27.408025Z",
     "iopub.status.busy": "2024-11-26T06:42:27.407502Z",
     "iopub.status.idle": "2024-11-26T06:42:28.796761Z",
     "shell.execute_reply": "2024-11-26T06:42:28.795680Z"
    },
    "papermill": {
     "duration": 1.396189,
     "end_time": "2024-11-26T06:42:28.799188",
     "exception": false,
     "start_time": "2024-11-26T06:42:27.402999",
     "status": "completed"
    },
    "tags": []
   },
   "outputs": [],
   "source": [
    "import os\n",
    "import torch\n",
    "from torch.utils.data import Dataset, DataLoader\n",
    "from torchvision import transforms\n",
    "from PIL import Image\n",
    "import torchvision.transforms.functional as transforms_F\n",
    "import pandas as pd"
   ]
  },
  {
   "cell_type": "code",
   "execution_count": 4,
   "id": "5b80d026",
   "metadata": {
    "execution": {
     "iopub.execute_input": "2024-11-26T06:42:28.813865Z",
     "iopub.status.busy": "2024-11-26T06:42:28.813020Z",
     "iopub.status.idle": "2024-11-26T06:42:28.841689Z",
     "shell.execute_reply": "2024-11-26T06:42:28.840874Z"
    },
    "papermill": {
     "duration": 0.038037,
     "end_time": "2024-11-26T06:42:28.843261",
     "exception": false,
     "start_time": "2024-11-26T06:42:28.805224",
     "status": "completed"
    },
    "tags": []
   },
   "outputs": [],
   "source": [
    "class_df = pd.read_csv('/kaggle/input/camvid/CamVid/class_dict.csv')\n",
    "# Create a dictionary that maps rgb value to 32 CamVid's class indices\n",
    "RGB2label_dict = {\n",
    "    (row['r'], row['g'], row['b']): idx\n",
    "    for idx, row in class_df.iterrows()\n",
    "}\n",
    "label2RGB_dict = {\n",
    "    v: k for k, v in RGB2label_dict.items()\n",
    "}"
   ]
  },
  {
   "cell_type": "code",
   "execution_count": 5,
   "id": "8e2a85b8",
   "metadata": {
    "execution": {
     "iopub.execute_input": "2024-11-26T06:42:28.852249Z",
     "iopub.status.busy": "2024-11-26T06:42:28.851989Z",
     "iopub.status.idle": "2024-11-26T06:42:28.861766Z",
     "shell.execute_reply": "2024-11-26T06:42:28.861140Z"
    },
    "papermill": {
     "duration": 0.01611,
     "end_time": "2024-11-26T06:42:28.863316",
     "exception": false,
     "start_time": "2024-11-26T06:42:28.847206",
     "status": "completed"
    },
    "tags": []
   },
   "outputs": [],
   "source": [
    "class CamVidDataset(Dataset):\n",
    "    def __init__(self, img_dir: str, label_dir: str, augmentation: bool=False):\n",
    "        self.img_dir = img_dir\n",
    "        self.label_dir = label_dir\n",
    "        self.augmentation = augmentation\n",
    "        self.img_files = os.listdir(self.img_dir)\n",
    "        self.label_files = os.listdir(self.label_dir)\n",
    "\n",
    "        self.transform = transforms.Compose([\n",
    "            transforms.Resize((384, 480)),\n",
    "            transforms.ToTensor()\n",
    "        ])\n",
    "        \n",
    "    def __len__(self):\n",
    "        return len(self.img_files)\n",
    "\n",
    "    def _augment(self, image: torch.Tensor, label: torch.Tensor) -> tuple[torch.Tensor, torch.Tensor]:\n",
    "        # Horizontal flip with p=0.5\n",
    "        if torch.randn(1) > 0.5:\n",
    "            image = transforms_F.hflip(image)\n",
    "            label = transforms_F.hflip(label)\n",
    "        # Pad for cropping\n",
    "        image = transforms_F.pad(image, (10, 10, 10, 10))\n",
    "        label = transforms_F.pad(label, (10, 10, 10, 10))\n",
    "        # RandomCrop\n",
    "        i, j, h, w = transforms.RandomCrop.get_params(image, output_size=(384, 480))\n",
    "        image = transforms_F.crop(image, i, j, h, w)\n",
    "        label = transforms_F.crop(label, i, j, h, w)\n",
    "\n",
    "        image = transforms.ColorJitter(brightness=0.1, contrast=0, saturation=0, hue=0.2)(image)\n",
    "        return image, label\n",
    "        \n",
    "    def __getitem__(self, idx):\n",
    "        img_file = self.img_files[idx]\n",
    "        label_file = self.label_files[idx]\n",
    "\n",
    "        img_path = os.path.join(self.img_dir, img_file)\n",
    "        label_path = os.path.join(self.label_dir, label_file)\n",
    "\n",
    "        image = Image.open(img_path)\n",
    "        label = Image.open(label_path)\n",
    "\n",
    "        # Transform\n",
    "        image = self.transform(image).to(DEVICE)\n",
    "        label = self.transform(label).to(DEVICE)\n",
    "\n",
    "        # If augmentation is on, apply augmentation\n",
    "        if self.augmentation:\n",
    "            image, label = self._augment(image, label)\n",
    "\n",
    "        # Masking label image pixel by pixel\n",
    "        label = label.permute(1, 2, 0) # (C, H, W) -> (H, W, C)\n",
    "        label = (label * 255).int() # Scale back to 0~255 as torch.ToTensor() scaled the image to 0~1\n",
    "        masked_label = torch.zeros(label.size(0), label.size(1), dtype=torch.uint8, device=DEVICE)\n",
    "        for rgb, idx in RGB2label_dict.items(): # Mask the pixels for every class type\n",
    "            rgb_tensor = torch.tensor(rgb, device=DEVICE)\n",
    "            masked_label[(label == rgb_tensor).all(axis=-1)] = idx\n",
    "\n",
    "        return image, masked_label.long()\n",
    "        "
   ]
  },
  {
   "cell_type": "code",
   "execution_count": 6,
   "id": "b25556e0",
   "metadata": {
    "execution": {
     "iopub.execute_input": "2024-11-26T06:42:28.871767Z",
     "iopub.status.busy": "2024-11-26T06:42:28.871524Z",
     "iopub.status.idle": "2024-11-26T06:42:28.906349Z",
     "shell.execute_reply": "2024-11-26T06:42:28.905699Z"
    },
    "papermill": {
     "duration": 0.04085,
     "end_time": "2024-11-26T06:42:28.908012",
     "exception": false,
     "start_time": "2024-11-26T06:42:28.867162",
     "status": "completed"
    },
    "tags": []
   },
   "outputs": [],
   "source": [
    "train_img_dir = '/kaggle/input/camvid/CamVid/train'\n",
    "train_label_dir ='/kaggle/input/camvid/CamVid/train_labels'\n",
    "train_dataset = CamVidDataset(train_img_dir, train_label_dir, True)\n",
    "\n",
    "val_img_dir = '/kaggle/input/camvid/CamVid/val'\n",
    "val_label_dir = '/kaggle/input/camvid/CamVid/val_labels'\n",
    "val_dataset =CamVidDataset(val_img_dir, val_label_dir, False)"
   ]
  },
  {
   "cell_type": "code",
   "execution_count": 7,
   "id": "869fa8ac",
   "metadata": {
    "execution": {
     "iopub.execute_input": "2024-11-26T06:42:28.916698Z",
     "iopub.status.busy": "2024-11-26T06:42:28.916418Z",
     "iopub.status.idle": "2024-11-26T06:42:29.846950Z",
     "shell.execute_reply": "2024-11-26T06:42:29.845876Z"
    },
    "papermill": {
     "duration": 0.936977,
     "end_time": "2024-11-26T06:42:29.848730",
     "exception": false,
     "start_time": "2024-11-26T06:42:28.911753",
     "status": "completed"
    },
    "tags": []
   },
   "outputs": [
    {
     "data": {
      "text/plain": [
       "torch.Size([3, 384, 480])"
      ]
     },
     "execution_count": 7,
     "metadata": {},
     "output_type": "execute_result"
    }
   ],
   "source": [
    "train_dataset[0][0].shape"
   ]
  },
  {
   "cell_type": "code",
   "execution_count": 8,
   "id": "bc9809ec",
   "metadata": {
    "execution": {
     "iopub.execute_input": "2024-11-26T06:42:29.857872Z",
     "iopub.status.busy": "2024-11-26T06:42:29.857598Z",
     "iopub.status.idle": "2024-11-26T06:42:29.861769Z",
     "shell.execute_reply": "2024-11-26T06:42:29.861123Z"
    },
    "papermill": {
     "duration": 0.010487,
     "end_time": "2024-11-26T06:42:29.863342",
     "exception": false,
     "start_time": "2024-11-26T06:42:29.852855",
     "status": "completed"
    },
    "tags": []
   },
   "outputs": [],
   "source": [
    "BATCH_SIZE = 8\n",
    "train_dataloader = DataLoader(train_dataset,\n",
    "                              batch_size=BATCH_SIZE,\n",
    "                              shuffle=True)\n",
    "val_dataloader = DataLoader(val_dataset,\n",
    "                            batch_size=BATCH_SIZE,\n",
    "                            shuffle=False)"
   ]
  },
  {
   "cell_type": "markdown",
   "id": "f3169cd8",
   "metadata": {
    "papermill": {
     "duration": 0.003729,
     "end_time": "2024-11-26T06:42:29.871017",
     "exception": false,
     "start_time": "2024-11-26T06:42:29.867288",
     "status": "completed"
    },
    "tags": []
   },
   "source": [
    "# Model"
   ]
  },
  {
   "cell_type": "code",
   "execution_count": 9,
   "id": "e1187149",
   "metadata": {
    "execution": {
     "iopub.execute_input": "2024-11-26T06:42:29.879652Z",
     "iopub.status.busy": "2024-11-26T06:42:29.879408Z",
     "iopub.status.idle": "2024-11-26T06:42:29.889355Z",
     "shell.execute_reply": "2024-11-26T06:42:29.888596Z"
    },
    "papermill": {
     "duration": 0.016117,
     "end_time": "2024-11-26T06:42:29.890853",
     "exception": false,
     "start_time": "2024-11-26T06:42:29.874736",
     "status": "completed"
    },
    "tags": []
   },
   "outputs": [],
   "source": [
    "import torch\n",
    "from torch import nn\n",
    "import torchvision.models as models\n",
    "\n",
    "class FCN_8s(nn.Module):\n",
    "    def __init__(self, num_classes):\n",
    "        super().__init__()\n",
    "\n",
    "        vgg16 = models.vgg16_bn(weights=\"IMAGENET1K_V1\", progress=True)\n",
    "\n",
    "        # Use the features from vgg16\n",
    "        self.features = vgg16.features\n",
    "\n",
    "        # Replace the classifier with convolutional layers\n",
    "        self.score_pool4 = nn.Conv2d(512, num_classes, kernel_size=1)\n",
    "        self.score_pool3 = nn.Conv2d(256, num_classes, kernel_size=1)\n",
    "\n",
    "        self.score_fr = nn.Sequential(\n",
    "            nn.Conv2d(512, 4096, kernel_size=1),\n",
    "            nn.ReLU(inplace=True),\n",
    "            nn.Dropout2d(),\n",
    "            nn.Conv2d(4096, 4096, kernel_size=1),\n",
    "            nn.ReLU(inplace=True),\n",
    "            nn.Dropout2d(),\n",
    "            nn.Conv2d(4096, num_classes, kernel_size=1)\n",
    "        )\n",
    "\n",
    "        # Transposed convolution layers for upsampling\n",
    "        '''\n",
    "        score_fr*2 means score_fr upsampled by factor of 2 using Transposed Convolution\n",
    "        '''\n",
    "        self.upscore_pool5 = nn.ConvTranspose2d(\n",
    "            num_classes, num_classes, kernel_size=4, stride=2, padding=1\n",
    "        ) # Upsamples the score_fr by factor of 2\n",
    "        self.upscore_pool4 = nn.ConvTranspose2d(\n",
    "            num_classes, num_classes, kernel_size=4, stride=2, padding=1\n",
    "        ) # Upsamples the (score_fr*2 + score_pool4) by factor of 2\n",
    "        self.upscore_pool3 = nn.ConvTranspose2d(\n",
    "            num_classes, num_classes, kernel_size=16, stride=8, padding=4\n",
    "        ) # Upsamples the [(score_fr*2 + score_pool4)*2 + score_pool3] by factor of 8\n",
    "\n",
    "    def forward(self, x):\n",
    "        # Store intermediate outputs for skip connections\n",
    "        pool3 = None\n",
    "        pool4 = None\n",
    "\n",
    "        '''input x: [N, 3, 384, 480] '''\n",
    "        # Forward pass through VGG16 features\n",
    "        for i in range(len(self.features)):\n",
    "            x = self.features[i](x) # Feed forwarding the previous output to each layer coming next\n",
    "            if i == 23: # After pool_3 layer passed\n",
    "                pool3 = x \n",
    "                ''' pool3: [N, 256, 48, 60] '''\n",
    "            elif i == 33: # After pool_4 layer passed\n",
    "                pool4 = x \n",
    "                ''' pool4: [N, 512, 24, 30] '''\n",
    "            elif i == 43: \n",
    "                ''' x: [N, 512, 12, 15] '''\n",
    "                break;\n",
    "\n",
    "        # Classify the features\n",
    "        # x is now the output from the last pooling layer(pool_5) of vgg16_bn\n",
    "        ''' x: [N, 32, 12, 15] '''\n",
    "        x = self.score_fr(x) # (N, num_classes, H/32, W/32)\n",
    "\n",
    "        # Upsample the pool5 score by factor of 2\n",
    "        ''' x: [N, 32, 24, 30] '''\n",
    "        x = self.upscore_pool5(x) # (N, num_classes, H/16, W/16)\n",
    "        # Add skip connection from pool4\n",
    "        ''' score_pool4: [N, 32, 24, 30] '''\n",
    "        score_pool4 = self.score_pool4(pool4)\n",
    "        x = x + score_pool4\n",
    "\n",
    "        # Upsample the skip-connected pool4+pool5 score by factor of 2\n",
    "        ''' x: [N, 32, 48, 60] '''\n",
    "        x = self.upscore_pool4(x) # (N, num_classes, H/8, W/8)\n",
    "        # Add skip connection from pool3\n",
    "        ''' score_pool3: [N, 32, 48, 60] '''\n",
    "        score_pool3 = self.score_pool3(pool3)\n",
    "        x = x + score_pool3\n",
    "\n",
    "        # Finally, upsample the skip-connected pool3+pool4+pool5 score by factor of 8\n",
    "        x = self.upscore_pool3(x) # (N, num_classes, H, W)\n",
    "        ''' x: [N, 32, 384, 480] '''\n",
    "        # The output tensor now has the same spatial dimensions as the input\n",
    "        return x\n",
    "        "
   ]
  },
  {
   "cell_type": "code",
   "execution_count": 10,
   "id": "48918878",
   "metadata": {
    "execution": {
     "iopub.execute_input": "2024-11-26T06:42:29.899484Z",
     "iopub.status.busy": "2024-11-26T06:42:29.899044Z",
     "iopub.status.idle": "2024-11-26T06:42:38.990319Z",
     "shell.execute_reply": "2024-11-26T06:42:38.989655Z"
    },
    "papermill": {
     "duration": 9.097638,
     "end_time": "2024-11-26T06:42:38.992258",
     "exception": false,
     "start_time": "2024-11-26T06:42:29.894620",
     "status": "completed"
    },
    "tags": []
   },
   "outputs": [
    {
     "name": "stderr",
     "output_type": "stream",
     "text": [
      "Downloading: \"https://download.pytorch.org/models/vgg16_bn-6c64b313.pth\" to /root/.cache/torch/hub/checkpoints/vgg16_bn-6c64b313.pth\n",
      "100%|██████████| 528M/528M [00:07<00:00, 78.1MB/s]\n"
     ]
    }
   ],
   "source": [
    "fcn_8s = FCN_8s(num_classes=32).to(DEVICE)"
   ]
  },
  {
   "cell_type": "markdown",
   "id": "550b8039",
   "metadata": {
    "papermill": {
     "duration": 0.009645,
     "end_time": "2024-11-26T06:42:39.013303",
     "exception": false,
     "start_time": "2024-11-26T06:42:39.003658",
     "status": "completed"
    },
    "tags": []
   },
   "source": [
    "# Train"
   ]
  },
  {
   "cell_type": "code",
   "execution_count": 11,
   "id": "a6b51027",
   "metadata": {
    "execution": {
     "iopub.execute_input": "2024-11-26T06:42:39.028272Z",
     "iopub.status.busy": "2024-11-26T06:42:39.028006Z",
     "iopub.status.idle": "2024-11-26T06:42:39.031971Z",
     "shell.execute_reply": "2024-11-26T06:42:39.031094Z"
    },
    "papermill": {
     "duration": 0.013385,
     "end_time": "2024-11-26T06:42:39.033615",
     "exception": false,
     "start_time": "2024-11-26T06:42:39.020230",
     "status": "completed"
    },
    "tags": []
   },
   "outputs": [],
   "source": [
    "loss_acc_dict = {\n",
    "    'train_loss_lst' : [],\n",
    "    'train_acc_lst' : [],\n",
    "    'val_loss_lst' : [],\n",
    "    'val_acc_lst' : []\n",
    "}"
   ]
  },
  {
   "cell_type": "code",
   "execution_count": 12,
   "id": "416fa536",
   "metadata": {
    "execution": {
     "iopub.execute_input": "2024-11-26T06:42:39.048994Z",
     "iopub.status.busy": "2024-11-26T06:42:39.048721Z",
     "iopub.status.idle": "2024-11-26T06:42:39.057624Z",
     "shell.execute_reply": "2024-11-26T06:42:39.057069Z"
    },
    "papermill": {
     "duration": 0.018827,
     "end_time": "2024-11-26T06:42:39.059212",
     "exception": false,
     "start_time": "2024-11-26T06:42:39.040385",
     "status": "completed"
    },
    "tags": []
   },
   "outputs": [],
   "source": [
    "import random\n",
    "import matplotlib.pyplot as plt\n",
    "\n",
    "def label_to_rgb_tensor(label_tensor: torch.Tensor) -> torch.Tensor:\n",
    "    height, width = label_tensor.shape\n",
    "    rgb_image = torch.zeros(3, height, width, dtype=torch.uint8)\n",
    "\n",
    "    for label, rgb in label2RGB_dict.items():\n",
    "        mask = (label_tensor == label)\n",
    "        rgb_image[0][mask] = rgb[0]  # Red\n",
    "        rgb_image[1][mask] = rgb[1]  # Green\n",
    "        rgb_image[2][mask] = rgb[2]  # Blue\n",
    "\n",
    "    return rgb_image\n",
    "\n",
    "def visualize_segmentation(model, val_loader, device, epoch):\n",
    "    model.eval()\n",
    "    batch_idx = random.randint(0, len(val_loader) - 1)\n",
    "    images, labels = list(val_loader)[batch_idx]\n",
    "    images = images.to(device)\n",
    "    labels = labels.to(device)\n",
    "\n",
    "    with torch.no_grad():\n",
    "        outputs = model(images)\n",
    "        preds = torch.argmax(outputs, dim=1)\n",
    "\n",
    "    img_idx = random.randint(0, len(images) - 1)\n",
    "    img = images[img_idx].cpu().numpy().transpose(1, 2, 0)\n",
    "    label = labels[img_idx].cpu().numpy()\n",
    "    pred = preds[img_idx].cpu().numpy()\n",
    "    pred_rgb = label_to_rgb_tensor(pred).cpu().numpy().transpose(1, 2, 0)\n",
    "\n",
    "    fig, axes = plt.subplots(1, 3, figsize=(15, 5))\n",
    "    axes[0].imshow(img)\n",
    "    axes[0].set_title('Original Image')\n",
    "    \n",
    "    axes[1].imshow(label_to_rgb_tensor(label).permute(1, 2, 0).cpu().numpy())\n",
    "    axes[1].set_title('Ground Truth')\n",
    "\n",
    "    axes[2].imshow(pred_rgb)\n",
    "    axes[2].set_title('Predicted Mask')\n",
    "\n",
    "    # 이미지 파일 저장\n",
    "    output_path = f'/kaggle/working/segmentation_epoch_{epoch}.png'\n",
    "    plt.savefig(output_path)\n",
    "    plt.close()\n",
    "\n",
    "    print(f\"Segmentation visualization saved at {output_path}\")"
   ]
  },
  {
   "cell_type": "code",
   "execution_count": 13,
   "id": "36b0ec26",
   "metadata": {
    "execution": {
     "iopub.execute_input": "2024-11-26T06:42:39.073592Z",
     "iopub.status.busy": "2024-11-26T06:42:39.073370Z",
     "iopub.status.idle": "2024-11-26T06:42:39.079080Z",
     "shell.execute_reply": "2024-11-26T06:42:39.078330Z"
    },
    "papermill": {
     "duration": 0.01472,
     "end_time": "2024-11-26T06:42:39.080690",
     "exception": false,
     "start_time": "2024-11-26T06:42:39.065970",
     "status": "completed"
    },
    "tags": []
   },
   "outputs": [],
   "source": [
    "from tqdm import tqdm\n",
    "\n",
    "def train(model, dataloader, optimizer, loss_fn):\n",
    "    model.train()\n",
    "    train_loss, train_acc = 0.0, 0.0\n",
    "    total_pixels, correct_pixels = 0, 0\n",
    "\n",
    "    for images, label_images in tqdm(dataloader):\n",
    "        images = images.to(DEVICE)\n",
    "        label_images = label_images.to(DEVICE)\n",
    "\n",
    "        optimizer.zero_grad()\n",
    "        y_logits = model(images)\n",
    "        loss = loss_fn(y_logits, label_images)\n",
    "        loss.backward()\n",
    "        optimizer.step()\n",
    "\n",
    "        train_loss += loss.item()\n",
    "        # y_preds: (N, H, W)\n",
    "        y_preds = torch.argmax(y_logits, axis=1) # argmax along channels (N, C, H, W)\n",
    "        correct_pixels += (label_images == y_preds).sum().item()\n",
    "        total_pixels += label_images.numel()\n",
    "\n",
    "    # Calculate average loss and accuracy for the batch\n",
    "    train_loss /= len(dataloader)\n",
    "    train_acc = 100 * (correct_pixels / total_pixels)\n",
    "\n",
    "    return train_loss, train_acc"
   ]
  },
  {
   "cell_type": "code",
   "execution_count": 14,
   "id": "05569542",
   "metadata": {
    "execution": {
     "iopub.execute_input": "2024-11-26T06:42:39.095157Z",
     "iopub.status.busy": "2024-11-26T06:42:39.094772Z",
     "iopub.status.idle": "2024-11-26T06:42:39.100294Z",
     "shell.execute_reply": "2024-11-26T06:42:39.099640Z"
    },
    "papermill": {
     "duration": 0.014427,
     "end_time": "2024-11-26T06:42:39.101768",
     "exception": false,
     "start_time": "2024-11-26T06:42:39.087341",
     "status": "completed"
    },
    "tags": []
   },
   "outputs": [],
   "source": [
    "def evaluate(model, dataloader, optimizer, loss_fn):\n",
    "    model.eval()\n",
    "    val_loss, val_acc = 0.0, 0.0\n",
    "    correct_pixels, total_pixels = 0, 0\n",
    "\n",
    "    for images, label_images, in dataloader:\n",
    "        images = images.to(DEVICE)\n",
    "        label_images = label_images.to(DEVICE)\n",
    "\n",
    "        y_logits = model(images)\n",
    "        loss = loss_fn(y_logits, label_images)\n",
    "\n",
    "        val_loss += loss.item()\n",
    "        y_preds = torch.argmax(y_logits, axis=1)\n",
    "        correct_pixels += (label_images == y_preds).sum().item()\n",
    "        total_pixels += label_images.numel()\n",
    "\n",
    "    # Average loss/acc over the batches\n",
    "    val_loss /= len(dataloader)\n",
    "    val_acc = 100 * (correct_pixels / total_pixels)\n",
    "    return val_loss, val_acc"
   ]
  },
  {
   "cell_type": "code",
   "execution_count": 15,
   "id": "3395b22b",
   "metadata": {
    "execution": {
     "iopub.execute_input": "2024-11-26T06:42:39.117270Z",
     "iopub.status.busy": "2024-11-26T06:42:39.116785Z",
     "iopub.status.idle": "2024-11-26T06:42:39.123358Z",
     "shell.execute_reply": "2024-11-26T06:42:39.122486Z"
    },
    "papermill": {
     "duration": 0.016458,
     "end_time": "2024-11-26T06:42:39.125101",
     "exception": false,
     "start_time": "2024-11-26T06:42:39.108643",
     "status": "completed"
    },
    "tags": []
   },
   "outputs": [],
   "source": [
    "import time\n",
    "import copy\n",
    "\n",
    "def train_model(model, \n",
    "                train_dataloader, \n",
    "                val_dataloader,\n",
    "                optimizer,\n",
    "                loss_fn,\n",
    "                num_epochs=1):\n",
    "    best_acc = 0.0\n",
    "    best_model_wts = copy.deepcopy(model.state_dict())\n",
    "\n",
    "    for epoch in range(1, num_epochs + 1):\n",
    "        start = time.time()\n",
    "        # Feed forward / backprop on train_dataloader\n",
    "        train_loss, train_acc = train(model, train_dataloader, optimizer, loss_fn)\n",
    "        # Feed forward on val_dataloader\n",
    "        val_loss, val_acc = evaluate(model, val_dataloader, optimizer, loss_fn)\n",
    "\n",
    "        # Storing epoch histories\n",
    "        loss_acc_dict['train_loss_lst'].append(train_loss)\n",
    "        loss_acc_dict['train_acc_lst'].append(train_acc)\n",
    "        loss_acc_dict['val_loss_lst'].append(val_loss)\n",
    "        loss_acc_dict['val_acc_lst'].append(val_acc)\n",
    "\n",
    "        # Update model depending on its peformance on validation data\n",
    "        if val_acc > best_acc:\n",
    "            best_acc = val_acc\n",
    "            best_model_wts = copy.deepcopy(model.state_dict())\n",
    "        \n",
    "        end = time.time()\n",
    "        time_elapsed = end - start\n",
    "        print(f\"------------ epoch {epoch} ------------\")\n",
    "        print(f\"Train loss: {train_loss:.4f} | Train acc: {train_acc:.2f}%\")\n",
    "        print(f\"Validation loss: {val_loss:.4f} | Validation acc: {val_acc:.2f}%\")\n",
    "        print(f\"Time taken: {time_elapsed / 60:.0f}min {time_elapsed % 60:.0f}s\")\n",
    "\n",
    "        if (epoch - 1) % 10 == 0:\n",
    "            visualize_segmentation(model, val_dataloader, DEVICE, epoch - 1)\n",
    "\n",
    "    \n",
    "    model.load_state_dict(best_model_wts)\n",
    "    return model"
   ]
  },
  {
   "cell_type": "code",
   "execution_count": 16,
   "id": "9223248f",
   "metadata": {
    "execution": {
     "iopub.execute_input": "2024-11-26T06:42:39.140131Z",
     "iopub.status.busy": "2024-11-26T06:42:39.139874Z",
     "iopub.status.idle": "2024-11-26T06:42:39.144852Z",
     "shell.execute_reply": "2024-11-26T06:42:39.144207Z"
    },
    "papermill": {
     "duration": 0.014562,
     "end_time": "2024-11-26T06:42:39.146502",
     "exception": false,
     "start_time": "2024-11-26T06:42:39.131940",
     "status": "completed"
    },
    "tags": []
   },
   "outputs": [],
   "source": [
    "loss_fn = nn.CrossEntropyLoss()\n",
    "optimizer = torch.optim.Adam([\n",
    "    {'params': fcn_8s.features.parameters(), 'lr': 1e-4},\n",
    "    {'params': fcn_8s.score_pool3.parameters(), 'lr': 1e-3},\n",
    "    {'params': fcn_8s.score_pool4.parameters(), 'lr': 1e-3},\n",
    "    {'params': fcn_8s.score_fr.parameters(), 'lr': 1e-3},\n",
    "    {'params': fcn_8s.upscore_pool3.parameters(), 'lr': 1e-3},\n",
    "    {'params': fcn_8s.upscore_pool4.parameters(), 'lr': 1e-3},\n",
    "    {'params': fcn_8s.upscore_pool5.parameters(), 'lr': 1e-3}\n",
    "])"
   ]
  },
  {
   "cell_type": "code",
   "execution_count": 17,
   "id": "b0535d3d",
   "metadata": {
    "execution": {
     "iopub.execute_input": "2024-11-26T06:42:39.161173Z",
     "iopub.status.busy": "2024-11-26T06:42:39.160702Z",
     "iopub.status.idle": "2024-11-26T07:34:58.706576Z",
     "shell.execute_reply": "2024-11-26T07:34:58.705502Z"
    },
    "papermill": {
     "duration": 3139.55513,
     "end_time": "2024-11-26T07:34:58.708396",
     "exception": false,
     "start_time": "2024-11-26T06:42:39.153266",
     "status": "completed"
    },
    "tags": []
   },
   "outputs": [
    {
     "name": "stderr",
     "output_type": "stream",
     "text": [
      "100%|██████████| 47/47 [00:41<00:00,  1.15it/s]\n"
     ]
    },
    {
     "name": "stdout",
     "output_type": "stream",
     "text": [
      "------------ epoch 1 ------------\n",
      "Train loss: 2.2376 | Train acc: 29.46%\n",
      "Validation loss: 1.8245 | Validation acc: 46.64%\n",
      "Time taken: 1min 49s\n",
      "Segmentation visualization saved at /kaggle/working/segmentation_epoch_0.png\n"
     ]
    },
    {
     "name": "stderr",
     "output_type": "stream",
     "text": [
      "100%|██████████| 47/47 [00:33<00:00,  1.42it/s]\n"
     ]
    },
    {
     "name": "stdout",
     "output_type": "stream",
     "text": [
      "------------ epoch 2 ------------\n",
      "Train loss: 1.6058 | Train acc: 49.88%\n",
      "Validation loss: 1.5039 | Validation acc: 53.72%\n",
      "Time taken: 1min 39s\n"
     ]
    },
    {
     "name": "stderr",
     "output_type": "stream",
     "text": [
      "100%|██████████| 47/47 [00:32<00:00,  1.44it/s]\n"
     ]
    },
    {
     "name": "stdout",
     "output_type": "stream",
     "text": [
      "------------ epoch 3 ------------\n",
      "Train loss: 1.4812 | Train acc: 52.81%\n",
      "Validation loss: 1.5599 | Validation acc: 50.98%\n",
      "Time taken: 1min 39s\n"
     ]
    },
    {
     "name": "stderr",
     "output_type": "stream",
     "text": [
      "100%|██████████| 47/47 [00:32<00:00,  1.44it/s]\n"
     ]
    },
    {
     "name": "stdout",
     "output_type": "stream",
     "text": [
      "------------ epoch 4 ------------\n",
      "Train loss: 1.4470 | Train acc: 53.99%\n",
      "Validation loss: 1.5125 | Validation acc: 52.76%\n",
      "Time taken: 1min 39s\n"
     ]
    },
    {
     "name": "stderr",
     "output_type": "stream",
     "text": [
      "100%|██████████| 47/47 [00:32<00:00,  1.43it/s]\n"
     ]
    },
    {
     "name": "stdout",
     "output_type": "stream",
     "text": [
      "------------ epoch 5 ------------\n",
      "Train loss: 1.4066 | Train acc: 54.86%\n",
      "Validation loss: 1.4556 | Validation acc: 54.67%\n",
      "Time taken: 1min 39s\n"
     ]
    },
    {
     "name": "stderr",
     "output_type": "stream",
     "text": [
      "100%|██████████| 47/47 [00:32<00:00,  1.44it/s]\n"
     ]
    },
    {
     "name": "stdout",
     "output_type": "stream",
     "text": [
      "------------ epoch 6 ------------\n",
      "Train loss: 1.3755 | Train acc: 56.22%\n",
      "Validation loss: 1.4456 | Validation acc: 55.16%\n",
      "Time taken: 1min 39s\n"
     ]
    },
    {
     "name": "stderr",
     "output_type": "stream",
     "text": [
      "100%|██████████| 47/47 [00:32<00:00,  1.45it/s]\n"
     ]
    },
    {
     "name": "stdout",
     "output_type": "stream",
     "text": [
      "------------ epoch 7 ------------\n",
      "Train loss: 1.3737 | Train acc: 56.55%\n",
      "Validation loss: 1.4378 | Validation acc: 55.77%\n",
      "Time taken: 1min 38s\n"
     ]
    },
    {
     "name": "stderr",
     "output_type": "stream",
     "text": [
      "100%|██████████| 47/47 [00:32<00:00,  1.45it/s]\n"
     ]
    },
    {
     "name": "stdout",
     "output_type": "stream",
     "text": [
      "------------ epoch 8 ------------\n",
      "Train loss: 1.3420 | Train acc: 57.05%\n",
      "Validation loss: 1.4384 | Validation acc: 55.20%\n",
      "Time taken: 1min 38s\n"
     ]
    },
    {
     "name": "stderr",
     "output_type": "stream",
     "text": [
      "100%|██████████| 47/47 [00:32<00:00,  1.45it/s]\n"
     ]
    },
    {
     "name": "stdout",
     "output_type": "stream",
     "text": [
      "------------ epoch 9 ------------\n",
      "Train loss: 1.3116 | Train acc: 58.12%\n",
      "Validation loss: 1.4517 | Validation acc: 54.65%\n",
      "Time taken: 1min 38s\n"
     ]
    },
    {
     "name": "stderr",
     "output_type": "stream",
     "text": [
      "100%|██████████| 47/47 [00:32<00:00,  1.45it/s]\n"
     ]
    },
    {
     "name": "stdout",
     "output_type": "stream",
     "text": [
      "------------ epoch 10 ------------\n",
      "Train loss: 1.2996 | Train acc: 58.61%\n",
      "Validation loss: 1.4802 | Validation acc: 53.20%\n",
      "Time taken: 1min 38s\n"
     ]
    },
    {
     "name": "stderr",
     "output_type": "stream",
     "text": [
      "100%|██████████| 47/47 [00:32<00:00,  1.45it/s]\n"
     ]
    },
    {
     "name": "stdout",
     "output_type": "stream",
     "text": [
      "------------ epoch 11 ------------\n",
      "Train loss: 1.2857 | Train acc: 59.15%\n",
      "Validation loss: 1.4657 | Validation acc: 53.71%\n",
      "Time taken: 1min 38s\n",
      "Segmentation visualization saved at /kaggle/working/segmentation_epoch_10.png\n"
     ]
    },
    {
     "name": "stderr",
     "output_type": "stream",
     "text": [
      "100%|██████████| 47/47 [00:32<00:00,  1.45it/s]\n"
     ]
    },
    {
     "name": "stdout",
     "output_type": "stream",
     "text": [
      "------------ epoch 12 ------------\n",
      "Train loss: 1.2760 | Train acc: 59.60%\n",
      "Validation loss: 1.5309 | Validation acc: 55.38%\n",
      "Time taken: 1min 38s\n"
     ]
    },
    {
     "name": "stderr",
     "output_type": "stream",
     "text": [
      "100%|██████████| 47/47 [00:32<00:00,  1.46it/s]\n"
     ]
    },
    {
     "name": "stdout",
     "output_type": "stream",
     "text": [
      "------------ epoch 13 ------------\n",
      "Train loss: 1.2458 | Train acc: 60.41%\n",
      "Validation loss: 1.5594 | Validation acc: 51.55%\n",
      "Time taken: 1min 39s\n"
     ]
    },
    {
     "name": "stderr",
     "output_type": "stream",
     "text": [
      "100%|██████████| 47/47 [00:32<00:00,  1.46it/s]\n"
     ]
    },
    {
     "name": "stdout",
     "output_type": "stream",
     "text": [
      "------------ epoch 14 ------------\n",
      "Train loss: 1.2578 | Train acc: 60.12%\n",
      "Validation loss: 1.4962 | Validation acc: 54.26%\n",
      "Time taken: 1min 38s\n"
     ]
    },
    {
     "name": "stderr",
     "output_type": "stream",
     "text": [
      "100%|██████████| 47/47 [00:32<00:00,  1.45it/s]\n"
     ]
    },
    {
     "name": "stdout",
     "output_type": "stream",
     "text": [
      "------------ epoch 15 ------------\n",
      "Train loss: 1.2246 | Train acc: 61.05%\n",
      "Validation loss: 1.5112 | Validation acc: 53.72%\n",
      "Time taken: 1min 38s\n"
     ]
    },
    {
     "name": "stderr",
     "output_type": "stream",
     "text": [
      "100%|██████████| 47/47 [00:32<00:00,  1.45it/s]\n"
     ]
    },
    {
     "name": "stdout",
     "output_type": "stream",
     "text": [
      "------------ epoch 16 ------------\n",
      "Train loss: 1.2001 | Train acc: 61.79%\n",
      "Validation loss: 1.5348 | Validation acc: 54.14%\n",
      "Time taken: 1min 38s\n"
     ]
    },
    {
     "name": "stderr",
     "output_type": "stream",
     "text": [
      "100%|██████████| 47/47 [00:32<00:00,  1.45it/s]\n"
     ]
    },
    {
     "name": "stdout",
     "output_type": "stream",
     "text": [
      "------------ epoch 17 ------------\n",
      "Train loss: 1.1853 | Train acc: 62.28%\n",
      "Validation loss: 1.4977 | Validation acc: 54.61%\n",
      "Time taken: 1min 38s\n"
     ]
    },
    {
     "name": "stderr",
     "output_type": "stream",
     "text": [
      "100%|██████████| 47/47 [00:32<00:00,  1.45it/s]\n"
     ]
    },
    {
     "name": "stdout",
     "output_type": "stream",
     "text": [
      "------------ epoch 18 ------------\n",
      "Train loss: 1.1709 | Train acc: 63.08%\n",
      "Validation loss: 1.5243 | Validation acc: 53.94%\n",
      "Time taken: 1min 38s\n"
     ]
    },
    {
     "name": "stderr",
     "output_type": "stream",
     "text": [
      "100%|██████████| 47/47 [00:32<00:00,  1.46it/s]\n"
     ]
    },
    {
     "name": "stdout",
     "output_type": "stream",
     "text": [
      "------------ epoch 19 ------------\n",
      "Train loss: 1.1537 | Train acc: 63.62%\n",
      "Validation loss: 1.5374 | Validation acc: 53.02%\n",
      "Time taken: 1min 38s\n"
     ]
    },
    {
     "name": "stderr",
     "output_type": "stream",
     "text": [
      "100%|██████████| 47/47 [00:32<00:00,  1.44it/s]\n"
     ]
    },
    {
     "name": "stdout",
     "output_type": "stream",
     "text": [
      "------------ epoch 20 ------------\n",
      "Train loss: 1.1387 | Train acc: 64.29%\n",
      "Validation loss: 1.5585 | Validation acc: 54.20%\n",
      "Time taken: 1min 39s\n"
     ]
    },
    {
     "name": "stderr",
     "output_type": "stream",
     "text": [
      "100%|██████████| 47/47 [00:32<00:00,  1.43it/s]\n"
     ]
    },
    {
     "name": "stdout",
     "output_type": "stream",
     "text": [
      "------------ epoch 21 ------------\n",
      "Train loss: 1.1315 | Train acc: 64.84%\n",
      "Validation loss: 1.5977 | Validation acc: 52.25%\n",
      "Time taken: 1min 39s\n",
      "Segmentation visualization saved at /kaggle/working/segmentation_epoch_20.png\n"
     ]
    },
    {
     "name": "stderr",
     "output_type": "stream",
     "text": [
      "100%|██████████| 47/47 [00:33<00:00,  1.42it/s]\n"
     ]
    },
    {
     "name": "stdout",
     "output_type": "stream",
     "text": [
      "------------ epoch 22 ------------\n",
      "Train loss: 1.0970 | Train acc: 65.76%\n",
      "Validation loss: 1.5849 | Validation acc: 53.18%\n",
      "Time taken: 1min 39s\n"
     ]
    },
    {
     "name": "stderr",
     "output_type": "stream",
     "text": [
      "100%|██████████| 47/47 [00:32<00:00,  1.44it/s]\n"
     ]
    },
    {
     "name": "stdout",
     "output_type": "stream",
     "text": [
      "------------ epoch 23 ------------\n",
      "Train loss: 1.0828 | Train acc: 66.49%\n",
      "Validation loss: 1.6030 | Validation acc: 53.48%\n",
      "Time taken: 1min 38s\n"
     ]
    },
    {
     "name": "stderr",
     "output_type": "stream",
     "text": [
      "100%|██████████| 47/47 [00:32<00:00,  1.45it/s]\n"
     ]
    },
    {
     "name": "stdout",
     "output_type": "stream",
     "text": [
      "------------ epoch 24 ------------\n",
      "Train loss: 1.0476 | Train acc: 67.51%\n",
      "Validation loss: 1.6410 | Validation acc: 53.27%\n",
      "Time taken: 1min 38s\n"
     ]
    },
    {
     "name": "stderr",
     "output_type": "stream",
     "text": [
      "100%|██████████| 47/47 [00:32<00:00,  1.45it/s]\n"
     ]
    },
    {
     "name": "stdout",
     "output_type": "stream",
     "text": [
      "------------ epoch 25 ------------\n",
      "Train loss: 1.0504 | Train acc: 67.69%\n",
      "Validation loss: 1.6180 | Validation acc: 53.47%\n",
      "Time taken: 1min 38s\n"
     ]
    },
    {
     "name": "stderr",
     "output_type": "stream",
     "text": [
      "100%|██████████| 47/47 [00:32<00:00,  1.44it/s]\n"
     ]
    },
    {
     "name": "stdout",
     "output_type": "stream",
     "text": [
      "------------ epoch 26 ------------\n",
      "Train loss: 1.0245 | Train acc: 68.71%\n",
      "Validation loss: 1.6614 | Validation acc: 50.99%\n",
      "Time taken: 1min 39s\n"
     ]
    },
    {
     "name": "stderr",
     "output_type": "stream",
     "text": [
      "100%|██████████| 47/47 [00:32<00:00,  1.43it/s]\n"
     ]
    },
    {
     "name": "stdout",
     "output_type": "stream",
     "text": [
      "------------ epoch 27 ------------\n",
      "Train loss: 1.0419 | Train acc: 67.61%\n",
      "Validation loss: 1.7045 | Validation acc: 53.74%\n",
      "Time taken: 1min 39s\n"
     ]
    },
    {
     "name": "stderr",
     "output_type": "stream",
     "text": [
      "100%|██████████| 47/47 [00:32<00:00,  1.43it/s]\n"
     ]
    },
    {
     "name": "stdout",
     "output_type": "stream",
     "text": [
      "------------ epoch 28 ------------\n",
      "Train loss: 0.9918 | Train acc: 69.39%\n",
      "Validation loss: 1.6816 | Validation acc: 53.04%\n",
      "Time taken: 1min 39s\n"
     ]
    },
    {
     "name": "stderr",
     "output_type": "stream",
     "text": [
      "100%|██████████| 47/47 [00:32<00:00,  1.44it/s]\n"
     ]
    },
    {
     "name": "stdout",
     "output_type": "stream",
     "text": [
      "------------ epoch 29 ------------\n",
      "Train loss: 1.0143 | Train acc: 68.69%\n",
      "Validation loss: 1.7384 | Validation acc: 52.31%\n",
      "Time taken: 1min 39s\n"
     ]
    },
    {
     "name": "stderr",
     "output_type": "stream",
     "text": [
      "100%|██████████| 47/47 [00:32<00:00,  1.45it/s]\n"
     ]
    },
    {
     "name": "stdout",
     "output_type": "stream",
     "text": [
      "------------ epoch 30 ------------\n",
      "Train loss: 0.9842 | Train acc: 69.58%\n",
      "Validation loss: 1.7354 | Validation acc: 53.22%\n",
      "Time taken: 1min 38s\n"
     ]
    },
    {
     "name": "stderr",
     "output_type": "stream",
     "text": [
      "100%|██████████| 47/47 [00:32<00:00,  1.44it/s]\n"
     ]
    },
    {
     "name": "stdout",
     "output_type": "stream",
     "text": [
      "------------ epoch 31 ------------\n",
      "Train loss: 0.9496 | Train acc: 70.77%\n",
      "Validation loss: 1.7571 | Validation acc: 53.56%\n",
      "Time taken: 1min 39s\n",
      "Segmentation visualization saved at /kaggle/working/segmentation_epoch_30.png\n"
     ]
    },
    {
     "name": "stderr",
     "output_type": "stream",
     "text": [
      "100%|██████████| 47/47 [00:32<00:00,  1.45it/s]\n"
     ]
    },
    {
     "name": "stdout",
     "output_type": "stream",
     "text": [
      "------------ epoch 32 ------------\n",
      "Train loss: 0.9279 | Train acc: 71.38%\n",
      "Validation loss: 1.8198 | Validation acc: 51.49%\n",
      "Time taken: 1min 38s\n"
     ]
    },
    {
     "name": "stderr",
     "output_type": "stream",
     "text": [
      "100%|██████████| 47/47 [00:32<00:00,  1.43it/s]\n"
     ]
    },
    {
     "name": "stdout",
     "output_type": "stream",
     "text": [
      "------------ epoch 33 ------------\n",
      "Train loss: 0.9332 | Train acc: 71.26%\n",
      "Validation loss: 1.7740 | Validation acc: 50.96%\n",
      "Time taken: 1min 39s\n"
     ]
    },
    {
     "name": "stderr",
     "output_type": "stream",
     "text": [
      "100%|██████████| 47/47 [00:32<00:00,  1.44it/s]\n"
     ]
    },
    {
     "name": "stdout",
     "output_type": "stream",
     "text": [
      "------------ epoch 34 ------------\n",
      "Train loss: 0.9203 | Train acc: 71.97%\n",
      "Validation loss: 1.7371 | Validation acc: 53.35%\n",
      "Time taken: 1min 38s\n"
     ]
    },
    {
     "name": "stderr",
     "output_type": "stream",
     "text": [
      "100%|██████████| 47/47 [00:32<00:00,  1.45it/s]\n"
     ]
    },
    {
     "name": "stdout",
     "output_type": "stream",
     "text": [
      "------------ epoch 35 ------------\n",
      "Train loss: 0.9259 | Train acc: 71.97%\n",
      "Validation loss: 1.7739 | Validation acc: 51.63%\n",
      "Time taken: 1min 38s\n"
     ]
    },
    {
     "name": "stderr",
     "output_type": "stream",
     "text": [
      "100%|██████████| 47/47 [00:32<00:00,  1.45it/s]\n"
     ]
    },
    {
     "name": "stdout",
     "output_type": "stream",
     "text": [
      "------------ epoch 36 ------------\n",
      "Train loss: 0.9200 | Train acc: 71.73%\n",
      "Validation loss: 1.8816 | Validation acc: 52.09%\n",
      "Time taken: 1min 38s\n"
     ]
    },
    {
     "name": "stderr",
     "output_type": "stream",
     "text": [
      "100%|██████████| 47/47 [00:32<00:00,  1.44it/s]\n"
     ]
    },
    {
     "name": "stdout",
     "output_type": "stream",
     "text": [
      "------------ epoch 37 ------------\n",
      "Train loss: 0.8940 | Train acc: 72.53%\n",
      "Validation loss: 1.8594 | Validation acc: 50.09%\n",
      "Time taken: 1min 38s\n"
     ]
    },
    {
     "name": "stderr",
     "output_type": "stream",
     "text": [
      "100%|██████████| 47/47 [00:32<00:00,  1.45it/s]\n"
     ]
    },
    {
     "name": "stdout",
     "output_type": "stream",
     "text": [
      "------------ epoch 38 ------------\n",
      "Train loss: 0.9051 | Train acc: 72.93%\n",
      "Validation loss: 1.8815 | Validation acc: 50.61%\n",
      "Time taken: 1min 38s\n"
     ]
    },
    {
     "name": "stderr",
     "output_type": "stream",
     "text": [
      "100%|██████████| 47/47 [00:32<00:00,  1.43it/s]\n"
     ]
    },
    {
     "name": "stdout",
     "output_type": "stream",
     "text": [
      "------------ epoch 39 ------------\n",
      "Train loss: 0.8986 | Train acc: 72.53%\n",
      "Validation loss: 1.8522 | Validation acc: 52.66%\n",
      "Time taken: 1min 39s\n"
     ]
    },
    {
     "name": "stderr",
     "output_type": "stream",
     "text": [
      "100%|██████████| 47/47 [00:32<00:00,  1.43it/s]\n"
     ]
    },
    {
     "name": "stdout",
     "output_type": "stream",
     "text": [
      "------------ epoch 40 ------------\n",
      "Train loss: 0.8969 | Train acc: 72.62%\n",
      "Validation loss: 1.7924 | Validation acc: 51.52%\n",
      "Time taken: 1min 39s\n"
     ]
    },
    {
     "name": "stderr",
     "output_type": "stream",
     "text": [
      "100%|██████████| 47/47 [00:32<00:00,  1.43it/s]\n"
     ]
    },
    {
     "name": "stdout",
     "output_type": "stream",
     "text": [
      "------------ epoch 41 ------------\n",
      "Train loss: 0.8870 | Train acc: 72.79%\n",
      "Validation loss: 1.8479 | Validation acc: 51.90%\n",
      "Time taken: 1min 39s\n",
      "Segmentation visualization saved at /kaggle/working/segmentation_epoch_40.png\n"
     ]
    },
    {
     "name": "stderr",
     "output_type": "stream",
     "text": [
      "100%|██████████| 47/47 [00:32<00:00,  1.43it/s]\n"
     ]
    },
    {
     "name": "stdout",
     "output_type": "stream",
     "text": [
      "------------ epoch 42 ------------\n",
      "Train loss: 0.8482 | Train acc: 73.65%\n",
      "Validation loss: 1.8372 | Validation acc: 52.72%\n",
      "Time taken: 1min 39s\n"
     ]
    },
    {
     "name": "stderr",
     "output_type": "stream",
     "text": [
      "100%|██████████| 47/47 [00:32<00:00,  1.44it/s]\n"
     ]
    },
    {
     "name": "stdout",
     "output_type": "stream",
     "text": [
      "------------ epoch 43 ------------\n",
      "Train loss: 0.8453 | Train acc: 73.93%\n",
      "Validation loss: 1.8729 | Validation acc: 52.58%\n",
      "Time taken: 1min 39s\n"
     ]
    },
    {
     "name": "stderr",
     "output_type": "stream",
     "text": [
      "100%|██████████| 47/47 [00:32<00:00,  1.45it/s]\n"
     ]
    },
    {
     "name": "stdout",
     "output_type": "stream",
     "text": [
      "------------ epoch 44 ------------\n",
      "Train loss: 0.8197 | Train acc: 74.63%\n",
      "Validation loss: 1.8738 | Validation acc: 50.54%\n",
      "Time taken: 1min 38s\n"
     ]
    },
    {
     "name": "stderr",
     "output_type": "stream",
     "text": [
      "100%|██████████| 47/47 [00:32<00:00,  1.45it/s]\n"
     ]
    },
    {
     "name": "stdout",
     "output_type": "stream",
     "text": [
      "------------ epoch 45 ------------\n",
      "Train loss: 0.8362 | Train acc: 74.43%\n",
      "Validation loss: 1.8275 | Validation acc: 50.59%\n",
      "Time taken: 1min 38s\n"
     ]
    },
    {
     "name": "stderr",
     "output_type": "stream",
     "text": [
      "100%|██████████| 47/47 [00:32<00:00,  1.46it/s]\n"
     ]
    },
    {
     "name": "stdout",
     "output_type": "stream",
     "text": [
      "------------ epoch 46 ------------\n",
      "Train loss: 0.8190 | Train acc: 74.78%\n",
      "Validation loss: 1.8903 | Validation acc: 52.01%\n",
      "Time taken: 1min 38s\n"
     ]
    },
    {
     "name": "stderr",
     "output_type": "stream",
     "text": [
      "100%|██████████| 47/47 [00:32<00:00,  1.45it/s]\n"
     ]
    },
    {
     "name": "stdout",
     "output_type": "stream",
     "text": [
      "------------ epoch 47 ------------\n",
      "Train loss: 0.8051 | Train acc: 75.42%\n",
      "Validation loss: 1.8517 | Validation acc: 50.81%\n",
      "Time taken: 1min 38s\n"
     ]
    },
    {
     "name": "stderr",
     "output_type": "stream",
     "text": [
      "100%|██████████| 47/47 [00:32<00:00,  1.44it/s]\n"
     ]
    },
    {
     "name": "stdout",
     "output_type": "stream",
     "text": [
      "------------ epoch 48 ------------\n",
      "Train loss: 0.8474 | Train acc: 73.94%\n",
      "Validation loss: 1.8874 | Validation acc: 52.58%\n",
      "Time taken: 1min 39s\n"
     ]
    },
    {
     "name": "stderr",
     "output_type": "stream",
     "text": [
      "100%|██████████| 47/47 [00:32<00:00,  1.43it/s]\n"
     ]
    },
    {
     "name": "stdout",
     "output_type": "stream",
     "text": [
      "------------ epoch 49 ------------\n",
      "Train loss: 0.7878 | Train acc: 75.53%\n",
      "Validation loss: 1.8566 | Validation acc: 50.92%\n",
      "Time taken: 1min 39s\n"
     ]
    },
    {
     "name": "stderr",
     "output_type": "stream",
     "text": [
      "100%|██████████| 47/47 [00:32<00:00,  1.43it/s]\n"
     ]
    },
    {
     "name": "stdout",
     "output_type": "stream",
     "text": [
      "------------ epoch 50 ------------\n",
      "Train loss: 0.7802 | Train acc: 75.99%\n",
      "Validation loss: 1.9209 | Validation acc: 51.66%\n",
      "Time taken: 1min 39s\n"
     ]
    },
    {
     "name": "stderr",
     "output_type": "stream",
     "text": [
      "100%|██████████| 47/47 [00:32<00:00,  1.43it/s]\n"
     ]
    },
    {
     "name": "stdout",
     "output_type": "stream",
     "text": [
      "------------ epoch 51 ------------\n",
      "Train loss: 0.7675 | Train acc: 75.89%\n",
      "Validation loss: 1.9323 | Validation acc: 51.15%\n",
      "Time taken: 1min 39s\n",
      "Segmentation visualization saved at /kaggle/working/segmentation_epoch_50.png\n"
     ]
    },
    {
     "name": "stderr",
     "output_type": "stream",
     "text": [
      "100%|██████████| 47/47 [00:32<00:00,  1.44it/s]\n"
     ]
    },
    {
     "name": "stdout",
     "output_type": "stream",
     "text": [
      "------------ epoch 52 ------------\n",
      "Train loss: 0.7649 | Train acc: 76.10%\n",
      "Validation loss: 2.0059 | Validation acc: 50.89%\n",
      "Time taken: 1min 39s\n"
     ]
    },
    {
     "name": "stderr",
     "output_type": "stream",
     "text": [
      "100%|██████████| 47/47 [00:32<00:00,  1.43it/s]\n"
     ]
    },
    {
     "name": "stdout",
     "output_type": "stream",
     "text": [
      "------------ epoch 53 ------------\n",
      "Train loss: 0.7450 | Train acc: 76.62%\n",
      "Validation loss: 2.0167 | Validation acc: 50.24%\n",
      "Time taken: 1min 39s\n"
     ]
    },
    {
     "name": "stderr",
     "output_type": "stream",
     "text": [
      "100%|██████████| 47/47 [00:32<00:00,  1.44it/s]\n"
     ]
    },
    {
     "name": "stdout",
     "output_type": "stream",
     "text": [
      "------------ epoch 54 ------------\n",
      "Train loss: 0.7460 | Train acc: 76.64%\n",
      "Validation loss: 1.9850 | Validation acc: 50.53%\n",
      "Time taken: 1min 39s\n"
     ]
    },
    {
     "name": "stderr",
     "output_type": "stream",
     "text": [
      "100%|██████████| 47/47 [00:32<00:00,  1.43it/s]\n"
     ]
    },
    {
     "name": "stdout",
     "output_type": "stream",
     "text": [
      "------------ epoch 55 ------------\n",
      "Train loss: 0.7491 | Train acc: 76.57%\n",
      "Validation loss: 1.9758 | Validation acc: 51.82%\n",
      "Time taken: 1min 39s\n"
     ]
    },
    {
     "name": "stderr",
     "output_type": "stream",
     "text": [
      "100%|██████████| 47/47 [00:32<00:00,  1.44it/s]\n"
     ]
    },
    {
     "name": "stdout",
     "output_type": "stream",
     "text": [
      "------------ epoch 56 ------------\n",
      "Train loss: 0.7600 | Train acc: 76.23%\n",
      "Validation loss: 2.0241 | Validation acc: 51.83%\n",
      "Time taken: 1min 39s\n"
     ]
    },
    {
     "name": "stderr",
     "output_type": "stream",
     "text": [
      "100%|██████████| 47/47 [00:32<00:00,  1.45it/s]\n"
     ]
    },
    {
     "name": "stdout",
     "output_type": "stream",
     "text": [
      "------------ epoch 57 ------------\n",
      "Train loss: 0.7439 | Train acc: 76.86%\n",
      "Validation loss: 2.0257 | Validation acc: 50.53%\n",
      "Time taken: 1min 38s\n"
     ]
    },
    {
     "name": "stderr",
     "output_type": "stream",
     "text": [
      "100%|██████████| 47/47 [00:32<00:00,  1.43it/s]\n"
     ]
    },
    {
     "name": "stdout",
     "output_type": "stream",
     "text": [
      "------------ epoch 58 ------------\n",
      "Train loss: 0.7329 | Train acc: 76.97%\n",
      "Validation loss: 2.0219 | Validation acc: 51.07%\n",
      "Time taken: 1min 39s\n"
     ]
    },
    {
     "name": "stderr",
     "output_type": "stream",
     "text": [
      "100%|██████████| 47/47 [00:32<00:00,  1.44it/s]\n"
     ]
    },
    {
     "name": "stdout",
     "output_type": "stream",
     "text": [
      "------------ epoch 59 ------------\n",
      "Train loss: 0.7222 | Train acc: 77.31%\n",
      "Validation loss: 2.1295 | Validation acc: 49.74%\n",
      "Time taken: 1min 38s\n"
     ]
    },
    {
     "name": "stderr",
     "output_type": "stream",
     "text": [
      "100%|██████████| 47/47 [00:32<00:00,  1.45it/s]\n"
     ]
    },
    {
     "name": "stdout",
     "output_type": "stream",
     "text": [
      "------------ epoch 60 ------------\n",
      "Train loss: 0.7362 | Train acc: 77.05%\n",
      "Validation loss: 1.9779 | Validation acc: 51.13%\n",
      "Time taken: 1min 38s\n"
     ]
    },
    {
     "name": "stderr",
     "output_type": "stream",
     "text": [
      "100%|██████████| 47/47 [00:32<00:00,  1.45it/s]\n"
     ]
    },
    {
     "name": "stdout",
     "output_type": "stream",
     "text": [
      "------------ epoch 61 ------------\n",
      "Train loss: 0.7175 | Train acc: 77.58%\n",
      "Validation loss: 2.0251 | Validation acc: 51.69%\n",
      "Time taken: 1min 39s\n",
      "Segmentation visualization saved at /kaggle/working/segmentation_epoch_60.png\n"
     ]
    },
    {
     "name": "stderr",
     "output_type": "stream",
     "text": [
      "100%|██████████| 47/47 [00:32<00:00,  1.44it/s]\n"
     ]
    },
    {
     "name": "stdout",
     "output_type": "stream",
     "text": [
      "------------ epoch 62 ------------\n",
      "Train loss: 0.7104 | Train acc: 77.58%\n",
      "Validation loss: 2.0922 | Validation acc: 51.80%\n",
      "Time taken: 1min 39s\n"
     ]
    },
    {
     "name": "stderr",
     "output_type": "stream",
     "text": [
      "100%|██████████| 47/47 [00:32<00:00,  1.45it/s]\n"
     ]
    },
    {
     "name": "stdout",
     "output_type": "stream",
     "text": [
      "------------ epoch 63 ------------\n",
      "Train loss: 0.7006 | Train acc: 77.81%\n",
      "Validation loss: 2.0348 | Validation acc: 51.86%\n",
      "Time taken: 1min 38s\n"
     ]
    },
    {
     "name": "stderr",
     "output_type": "stream",
     "text": [
      "100%|██████████| 47/47 [00:32<00:00,  1.45it/s]\n"
     ]
    },
    {
     "name": "stdout",
     "output_type": "stream",
     "text": [
      "------------ epoch 64 ------------\n",
      "Train loss: 0.7035 | Train acc: 78.10%\n",
      "Validation loss: 1.9377 | Validation acc: 50.35%\n",
      "Time taken: 1min 38s\n"
     ]
    },
    {
     "name": "stderr",
     "output_type": "stream",
     "text": [
      "100%|██████████| 47/47 [00:32<00:00,  1.44it/s]\n"
     ]
    },
    {
     "name": "stdout",
     "output_type": "stream",
     "text": [
      "------------ epoch 65 ------------\n",
      "Train loss: 0.7875 | Train acc: 75.83%\n",
      "Validation loss: 2.0119 | Validation acc: 50.42%\n",
      "Time taken: 1min 39s\n"
     ]
    },
    {
     "name": "stderr",
     "output_type": "stream",
     "text": [
      "100%|██████████| 47/47 [00:32<00:00,  1.43it/s]\n"
     ]
    },
    {
     "name": "stdout",
     "output_type": "stream",
     "text": [
      "------------ epoch 66 ------------\n",
      "Train loss: 0.7281 | Train acc: 77.27%\n",
      "Validation loss: 2.0068 | Validation acc: 51.53%\n",
      "Time taken: 1min 39s\n"
     ]
    },
    {
     "name": "stderr",
     "output_type": "stream",
     "text": [
      "100%|██████████| 47/47 [00:32<00:00,  1.43it/s]\n"
     ]
    },
    {
     "name": "stdout",
     "output_type": "stream",
     "text": [
      "------------ epoch 67 ------------\n",
      "Train loss: 0.6948 | Train acc: 78.09%\n",
      "Validation loss: 2.0648 | Validation acc: 50.40%\n",
      "Time taken: 1min 39s\n"
     ]
    },
    {
     "name": "stderr",
     "output_type": "stream",
     "text": [
      "100%|██████████| 47/47 [00:32<00:00,  1.43it/s]\n"
     ]
    },
    {
     "name": "stdout",
     "output_type": "stream",
     "text": [
      "------------ epoch 68 ------------\n",
      "Train loss: 0.6856 | Train acc: 78.23%\n",
      "Validation loss: 2.0420 | Validation acc: 50.12%\n",
      "Time taken: 1min 39s\n"
     ]
    },
    {
     "name": "stderr",
     "output_type": "stream",
     "text": [
      "100%|██████████| 47/47 [00:32<00:00,  1.44it/s]\n"
     ]
    },
    {
     "name": "stdout",
     "output_type": "stream",
     "text": [
      "------------ epoch 69 ------------\n",
      "Train loss: 0.6894 | Train acc: 78.32%\n",
      "Validation loss: 2.0921 | Validation acc: 50.36%\n",
      "Time taken: 1min 39s\n"
     ]
    },
    {
     "name": "stderr",
     "output_type": "stream",
     "text": [
      "100%|██████████| 47/47 [00:32<00:00,  1.44it/s]\n"
     ]
    },
    {
     "name": "stdout",
     "output_type": "stream",
     "text": [
      "------------ epoch 70 ------------\n",
      "Train loss: 0.6745 | Train acc: 78.49%\n",
      "Validation loss: 2.1338 | Validation acc: 50.97%\n",
      "Time taken: 1min 39s\n"
     ]
    },
    {
     "name": "stderr",
     "output_type": "stream",
     "text": [
      "100%|██████████| 47/47 [00:32<00:00,  1.44it/s]\n"
     ]
    },
    {
     "name": "stdout",
     "output_type": "stream",
     "text": [
      "------------ epoch 71 ------------\n",
      "Train loss: 0.6639 | Train acc: 78.96%\n",
      "Validation loss: 2.1296 | Validation acc: 50.75%\n",
      "Time taken: 1min 39s\n",
      "Segmentation visualization saved at /kaggle/working/segmentation_epoch_70.png\n"
     ]
    },
    {
     "name": "stderr",
     "output_type": "stream",
     "text": [
      "100%|██████████| 47/47 [00:32<00:00,  1.44it/s]\n"
     ]
    },
    {
     "name": "stdout",
     "output_type": "stream",
     "text": [
      "------------ epoch 72 ------------\n",
      "Train loss: 0.6605 | Train acc: 78.88%\n",
      "Validation loss: 2.1662 | Validation acc: 50.11%\n",
      "Time taken: 1min 39s\n"
     ]
    },
    {
     "name": "stderr",
     "output_type": "stream",
     "text": [
      "100%|██████████| 47/47 [00:32<00:00,  1.44it/s]\n"
     ]
    },
    {
     "name": "stdout",
     "output_type": "stream",
     "text": [
      "------------ epoch 73 ------------\n",
      "Train loss: 0.6696 | Train acc: 78.74%\n",
      "Validation loss: 2.2172 | Validation acc: 50.91%\n",
      "Time taken: 1min 39s\n"
     ]
    },
    {
     "name": "stderr",
     "output_type": "stream",
     "text": [
      "100%|██████████| 47/47 [00:32<00:00,  1.43it/s]\n"
     ]
    },
    {
     "name": "stdout",
     "output_type": "stream",
     "text": [
      "------------ epoch 74 ------------\n",
      "Train loss: 0.6831 | Train acc: 78.30%\n",
      "Validation loss: 2.0880 | Validation acc: 49.92%\n",
      "Time taken: 1min 39s\n"
     ]
    },
    {
     "name": "stderr",
     "output_type": "stream",
     "text": [
      "100%|██████████| 47/47 [00:32<00:00,  1.44it/s]\n"
     ]
    },
    {
     "name": "stdout",
     "output_type": "stream",
     "text": [
      "------------ epoch 75 ------------\n",
      "Train loss: 0.6662 | Train acc: 78.95%\n",
      "Validation loss: 2.0702 | Validation acc: 50.30%\n",
      "Time taken: 1min 39s\n"
     ]
    },
    {
     "name": "stderr",
     "output_type": "stream",
     "text": [
      "100%|██████████| 47/47 [00:32<00:00,  1.44it/s]\n"
     ]
    },
    {
     "name": "stdout",
     "output_type": "stream",
     "text": [
      "------------ epoch 76 ------------\n",
      "Train loss: 0.6542 | Train acc: 79.14%\n",
      "Validation loss: 2.1521 | Validation acc: 50.69%\n",
      "Time taken: 1min 39s\n"
     ]
    },
    {
     "name": "stderr",
     "output_type": "stream",
     "text": [
      "100%|██████████| 47/47 [00:32<00:00,  1.44it/s]\n"
     ]
    },
    {
     "name": "stdout",
     "output_type": "stream",
     "text": [
      "------------ epoch 77 ------------\n",
      "Train loss: 0.6489 | Train acc: 79.34%\n",
      "Validation loss: 2.1817 | Validation acc: 51.20%\n",
      "Time taken: 1min 39s\n"
     ]
    },
    {
     "name": "stderr",
     "output_type": "stream",
     "text": [
      "100%|██████████| 47/47 [00:32<00:00,  1.44it/s]\n"
     ]
    },
    {
     "name": "stdout",
     "output_type": "stream",
     "text": [
      "------------ epoch 78 ------------\n",
      "Train loss: 0.6456 | Train acc: 79.27%\n",
      "Validation loss: 2.0942 | Validation acc: 50.76%\n",
      "Time taken: 1min 39s\n"
     ]
    },
    {
     "name": "stderr",
     "output_type": "stream",
     "text": [
      "100%|██████████| 47/47 [00:32<00:00,  1.44it/s]\n"
     ]
    },
    {
     "name": "stdout",
     "output_type": "stream",
     "text": [
      "------------ epoch 79 ------------\n",
      "Train loss: 0.6476 | Train acc: 79.27%\n",
      "Validation loss: 2.1019 | Validation acc: 50.70%\n",
      "Time taken: 1min 39s\n"
     ]
    },
    {
     "name": "stderr",
     "output_type": "stream",
     "text": [
      "100%|██████████| 47/47 [00:32<00:00,  1.44it/s]\n"
     ]
    },
    {
     "name": "stdout",
     "output_type": "stream",
     "text": [
      "------------ epoch 80 ------------\n",
      "Train loss: 0.6353 | Train acc: 79.81%\n",
      "Validation loss: 2.1256 | Validation acc: 51.43%\n",
      "Time taken: 1min 39s\n"
     ]
    }
   ],
   "source": [
    "fcn8s_trained = train_model(fcn_8s,\n",
    "                            train_dataloader,\n",
    "                            val_dataloader,\n",
    "                            optimizer,\n",
    "                            loss_fn,\n",
    "                            num_epochs=80)"
   ]
  },
  {
   "cell_type": "markdown",
   "id": "abd7677a",
   "metadata": {
    "papermill": {
     "duration": 0.205339,
     "end_time": "2024-11-26T07:34:59.109167",
     "exception": false,
     "start_time": "2024-11-26T07:34:58.903828",
     "status": "completed"
    },
    "tags": []
   },
   "source": [
    "# Saving Results"
   ]
  },
  {
   "cell_type": "code",
   "execution_count": 18,
   "id": "cf1fef83",
   "metadata": {
    "execution": {
     "iopub.execute_input": "2024-11-26T07:34:59.476740Z",
     "iopub.status.busy": "2024-11-26T07:34:59.475928Z",
     "iopub.status.idle": "2024-11-26T07:34:59.708589Z",
     "shell.execute_reply": "2024-11-26T07:34:59.707849Z"
    },
    "papermill": {
     "duration": 0.418703,
     "end_time": "2024-11-26T07:34:59.710639",
     "exception": false,
     "start_time": "2024-11-26T07:34:59.291936",
     "status": "completed"
    },
    "tags": []
   },
   "outputs": [],
   "source": [
    "import pickle as pkl\n",
    "\n",
    "with open('/kaggle/working/loss_acc_dict.pkl', 'wb') as f:\n",
    "    pkl.dump(loss_acc_dict, f)\n",
    "\n",
    "torch.save(fcn8s_trained.state_dict(), '/kaggle/working/fcn8s.pth')"
   ]
  }
 ],
 "metadata": {
  "kaggle": {
   "accelerator": "gpu",
   "dataSources": [
    {
     "datasetId": 635428,
     "sourceId": 1132317,
     "sourceType": "datasetVersion"
    }
   ],
   "dockerImageVersionId": 30786,
   "isGpuEnabled": true,
   "isInternetEnabled": true,
   "language": "python",
   "sourceType": "notebook"
  },
  "kernelspec": {
   "display_name": "Python 3",
   "language": "python",
   "name": "python3"
  },
  "language_info": {
   "codemirror_mode": {
    "name": "ipython",
    "version": 3
   },
   "file_extension": ".py",
   "mimetype": "text/x-python",
   "name": "python",
   "nbconvert_exporter": "python",
   "pygments_lexer": "ipython3",
   "version": "3.10.14"
  },
  "papermill": {
   "default_parameters": {},
   "duration": 3159.868819,
   "end_time": "2024-11-26T07:35:01.314881",
   "environment_variables": {},
   "exception": null,
   "input_path": "__notebook__.ipynb",
   "output_path": "__notebook__.ipynb",
   "parameters": {},
   "start_time": "2024-11-26T06:42:21.446062",
   "version": "2.6.0"
  }
 },
 "nbformat": 4,
 "nbformat_minor": 5
}
