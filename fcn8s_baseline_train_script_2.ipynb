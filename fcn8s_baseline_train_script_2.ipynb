{
 "cells": [
  {
   "cell_type": "code",
   "execution_count": 1,
   "id": "2418d9d8",
   "metadata": {
    "_cell_guid": "b1076dfc-b9ad-4769-8c92-a6c4dae69d19",
    "_uuid": "8f2839f25d086af736a60e9eeb907d3b93b6e0e5",
    "execution": {
     "iopub.execute_input": "2024-11-26T20:51:29.815881Z",
     "iopub.status.busy": "2024-11-26T20:51:29.815560Z",
     "iopub.status.idle": "2024-11-26T20:51:33.488532Z",
     "shell.execute_reply": "2024-11-26T20:51:33.487622Z"
    },
    "papermill": {
     "duration": 3.68101,
     "end_time": "2024-11-26T20:51:33.490556",
     "exception": false,
     "start_time": "2024-11-26T20:51:29.809546",
     "status": "completed"
    },
    "tags": []
   },
   "outputs": [],
   "source": [
    "import torch\n",
    "import os\n",
    "import pandas as pd\n",
    "import time"
   ]
  },
  {
   "cell_type": "code",
   "execution_count": 2,
   "id": "c35c80b1",
   "metadata": {
    "execution": {
     "iopub.execute_input": "2024-11-26T20:51:33.499420Z",
     "iopub.status.busy": "2024-11-26T20:51:33.499018Z",
     "iopub.status.idle": "2024-11-26T20:51:33.563089Z",
     "shell.execute_reply": "2024-11-26T20:51:33.562236Z"
    },
    "papermill": {
     "duration": 0.07016,
     "end_time": "2024-11-26T20:51:33.564777",
     "exception": false,
     "start_time": "2024-11-26T20:51:33.494617",
     "status": "completed"
    },
    "tags": []
   },
   "outputs": [
    {
     "data": {
      "text/plain": [
       "'cuda'"
      ]
     },
     "execution_count": 2,
     "metadata": {},
     "output_type": "execute_result"
    }
   ],
   "source": [
    "DEVICE = 'cuda' if torch.cuda.is_available() else 'cpu'\n",
    "DEVICE"
   ]
  },
  {
   "cell_type": "markdown",
   "id": "84251504",
   "metadata": {
    "papermill": {
     "duration": 0.003402,
     "end_time": "2024-11-26T20:51:33.571871",
     "exception": false,
     "start_time": "2024-11-26T20:51:33.568469",
     "status": "completed"
    },
    "tags": []
   },
   "source": [
    "# Custom Dataset"
   ]
  },
  {
   "cell_type": "code",
   "execution_count": 3,
   "id": "4fc5ec30",
   "metadata": {
    "execution": {
     "iopub.execute_input": "2024-11-26T20:51:33.580977Z",
     "iopub.status.busy": "2024-11-26T20:51:33.580732Z",
     "iopub.status.idle": "2024-11-26T20:51:35.196002Z",
     "shell.execute_reply": "2024-11-26T20:51:35.195342Z"
    },
    "papermill": {
     "duration": 1.621479,
     "end_time": "2024-11-26T20:51:35.197957",
     "exception": false,
     "start_time": "2024-11-26T20:51:33.576478",
     "status": "completed"
    },
    "tags": []
   },
   "outputs": [],
   "source": [
    "import os\n",
    "import torch\n",
    "from torch.utils.data import Dataset, DataLoader\n",
    "from torchvision import transforms\n",
    "from PIL import Image\n",
    "import torchvision.transforms.functional as transforms_F\n",
    "import pandas as pd"
   ]
  },
  {
   "cell_type": "code",
   "execution_count": 4,
   "id": "b20c2310",
   "metadata": {
    "execution": {
     "iopub.execute_input": "2024-11-26T20:51:35.207361Z",
     "iopub.status.busy": "2024-11-26T20:51:35.206904Z",
     "iopub.status.idle": "2024-11-26T20:51:35.231119Z",
     "shell.execute_reply": "2024-11-26T20:51:35.230532Z"
    },
    "papermill": {
     "duration": 0.030623,
     "end_time": "2024-11-26T20:51:35.232657",
     "exception": false,
     "start_time": "2024-11-26T20:51:35.202034",
     "status": "completed"
    },
    "tags": []
   },
   "outputs": [],
   "source": [
    "class_df = pd.read_csv('/kaggle/input/camvid/CamVid/class_dict.csv')\n",
    "# Create a dictionary that maps rgb value to 32 CamVid's class indices\n",
    "RGB2label_dict = {\n",
    "    (row['r'], row['g'], row['b']): idx\n",
    "    for idx, row in class_df.iterrows()\n",
    "}\n",
    "label2RGB_dict = {\n",
    "    v: k for k, v in RGB2label_dict.items()\n",
    "}"
   ]
  },
  {
   "cell_type": "code",
   "execution_count": 5,
   "id": "6a285471",
   "metadata": {
    "execution": {
     "iopub.execute_input": "2024-11-26T20:51:35.241071Z",
     "iopub.status.busy": "2024-11-26T20:51:35.240805Z",
     "iopub.status.idle": "2024-11-26T20:51:35.250707Z",
     "shell.execute_reply": "2024-11-26T20:51:35.249900Z"
    },
    "papermill": {
     "duration": 0.016119,
     "end_time": "2024-11-26T20:51:35.252388",
     "exception": false,
     "start_time": "2024-11-26T20:51:35.236269",
     "status": "completed"
    },
    "tags": []
   },
   "outputs": [],
   "source": [
    "class CamVidDataset(Dataset):\n",
    "    def __init__(self, img_dir: str, label_dir: str, augmentation: bool=False):\n",
    "        self.img_dir = img_dir\n",
    "        self.label_dir = label_dir\n",
    "        self.augmentation = augmentation\n",
    "        self.img_files = sorted(os.listdir(self.img_dir))\n",
    "        self.label_files = sorted(os.listdir(self.label_dir))\n",
    "\n",
    "        self.transform = transforms.Compose([\n",
    "            transforms.Resize((384, 480)),\n",
    "            transforms.ToTensor()\n",
    "        ])\n",
    "        \n",
    "    def __len__(self):\n",
    "        return len(self.img_files)\n",
    "\n",
    "    def _augment(self, image: torch.Tensor, label: torch.Tensor) -> tuple[torch.Tensor, torch.Tensor]:\n",
    "        # Horizontal flip with p=0.5\n",
    "        if torch.randn(1) > 0.5:\n",
    "            image = transforms_F.hflip(image)\n",
    "            label = transforms_F.hflip(label)\n",
    "        # Pad for cropping\n",
    "        image = transforms_F.pad(image, (10, 10, 10, 10))\n",
    "        label = transforms_F.pad(label, (10, 10, 10, 10))\n",
    "        # RandomCrop\n",
    "        i, j, h, w = transforms.RandomCrop.get_params(image, output_size=(384, 480))\n",
    "        image = transforms_F.crop(image, i, j, h, w)\n",
    "        label = transforms_F.crop(label, i, j, h, w)\n",
    "\n",
    "        image = transforms.ColorJitter(brightness=0.1, contrast=0, saturation=0, hue=0.2)(image)\n",
    "        return image, label\n",
    "        \n",
    "    def __getitem__(self, idx):\n",
    "        img_file = self.img_files[idx]\n",
    "        label_file = self.label_files[idx]\n",
    "\n",
    "        img_path = os.path.join(self.img_dir, img_file)\n",
    "        label_path = os.path.join(self.label_dir, label_file)\n",
    "\n",
    "        image = Image.open(img_path)\n",
    "        label = Image.open(label_path)\n",
    "\n",
    "        # Transform\n",
    "        image = self.transform(image).to(DEVICE)\n",
    "        label = self.transform(label).to(DEVICE)\n",
    "\n",
    "        # If augmentation is on, apply augmentation\n",
    "        if self.augmentation:\n",
    "            image, label = self._augment(image, label)\n",
    "\n",
    "        # Masking label image pixel by pixel\n",
    "        label = label.permute(1, 2, 0) # (C, H, W) -> (H, W, C)\n",
    "        label = (label * 255).int() # Scale back to 0~255 as torch.ToTensor() scaled the image to 0~1\n",
    "        masked_label = torch.zeros(label.size(0), label.size(1), dtype=torch.uint8, device=DEVICE)\n",
    "        for rgb, idx in RGB2label_dict.items(): # Mask the pixels for every class type\n",
    "            rgb_tensor = torch.tensor(rgb, device=DEVICE)\n",
    "            masked_label[(label == rgb_tensor).all(axis=-1)] = idx\n",
    "\n",
    "        return image, masked_label.long()\n",
    "        "
   ]
  },
  {
   "cell_type": "code",
   "execution_count": 6,
   "id": "6b08b2cd",
   "metadata": {
    "execution": {
     "iopub.execute_input": "2024-11-26T20:51:35.260735Z",
     "iopub.status.busy": "2024-11-26T20:51:35.260114Z",
     "iopub.status.idle": "2024-11-26T20:51:35.305357Z",
     "shell.execute_reply": "2024-11-26T20:51:35.304741Z"
    },
    "papermill": {
     "duration": 0.051043,
     "end_time": "2024-11-26T20:51:35.307009",
     "exception": false,
     "start_time": "2024-11-26T20:51:35.255966",
     "status": "completed"
    },
    "tags": []
   },
   "outputs": [],
   "source": [
    "train_img_dir = '/kaggle/input/camvid/CamVid/train'\n",
    "train_label_dir ='/kaggle/input/camvid/CamVid/train_labels'\n",
    "train_dataset = CamVidDataset(train_img_dir, train_label_dir, True)\n",
    "\n",
    "val_img_dir = '/kaggle/input/camvid/CamVid/val'\n",
    "val_label_dir = '/kaggle/input/camvid/CamVid/val_labels'\n",
    "val_dataset = CamVidDataset(val_img_dir, val_label_dir, False)"
   ]
  },
  {
   "cell_type": "code",
   "execution_count": 7,
   "id": "dc53a460",
   "metadata": {
    "execution": {
     "iopub.execute_input": "2024-11-26T20:51:35.316367Z",
     "iopub.status.busy": "2024-11-26T20:51:35.315625Z",
     "iopub.status.idle": "2024-11-26T20:51:36.284163Z",
     "shell.execute_reply": "2024-11-26T20:51:36.283298Z"
    },
    "papermill": {
     "duration": 0.975352,
     "end_time": "2024-11-26T20:51:36.286172",
     "exception": false,
     "start_time": "2024-11-26T20:51:35.310820",
     "status": "completed"
    },
    "tags": []
   },
   "outputs": [
    {
     "data": {
      "text/plain": [
       "(tensor([[[0.6385, 0.6302, 0.6261,  ..., 0.1161, 0.1119, 0.0954],\n",
       "          [0.6509, 0.6468, 0.6468,  ..., 0.1244, 0.1161, 0.1037],\n",
       "          [0.6558, 0.6509, 0.6509,  ..., 0.1244, 0.1161, 0.0995],\n",
       "          ...,\n",
       "          [0.0670, 0.0587, 0.0546,  ..., 0.0871, 0.0954, 0.0986],\n",
       "          [0.0000, 0.0000, 0.0000,  ..., 0.0000, 0.0000, 0.0000],\n",
       "          [0.0000, 0.0000, 0.0000,  ..., 0.0000, 0.0000, 0.0000]],\n",
       " \n",
       "         [[0.7836, 0.7877, 0.7960,  ..., 0.1410, 0.1244, 0.1161],\n",
       "          [0.7960, 0.8002, 0.8085,  ..., 0.1451, 0.1285, 0.1202],\n",
       "          [0.7877, 0.7919, 0.8043,  ..., 0.1575, 0.1493, 0.1285],\n",
       "          ...,\n",
       "          [0.0705, 0.0622, 0.0580,  ..., 0.1410, 0.1451, 0.1368],\n",
       "          [0.0000, 0.0000, 0.0000,  ..., 0.0000, 0.0000, 0.0000],\n",
       "          [0.0000, 0.0000, 0.0000,  ..., 0.0000, 0.0000, 0.0000]],\n",
       " \n",
       "         [[0.6564, 0.6503, 0.6441,  ..., 0.1328, 0.1182, 0.1086],\n",
       "          [0.6689, 0.6634, 0.6579,  ..., 0.1418, 0.1265, 0.1134],\n",
       "          [0.6551, 0.6571, 0.6634,  ..., 0.1439, 0.1314, 0.1238],\n",
       "          ...,\n",
       "          [0.0663, 0.0580, 0.0539,  ..., 0.0908, 0.0997, 0.0912],\n",
       "          [0.0000, 0.0000, 0.0000,  ..., 0.0000, 0.0000, 0.0000],\n",
       "          [0.0000, 0.0000, 0.0000,  ..., 0.0000, 0.0000, 0.0000]]],\n",
       "        device='cuda:0'),\n",
       " tensor([[21, 21, 21,  ..., 26, 26, 26],\n",
       "         [21, 21, 21,  ..., 26, 26, 26],\n",
       "         [21, 21, 21,  ..., 26, 26, 26],\n",
       "         ...,\n",
       "         [19, 19, 19,  ..., 30, 30, 30],\n",
       "         [30, 30, 30,  ..., 30, 30, 30],\n",
       "         [30, 30, 30,  ..., 30, 30, 30]], device='cuda:0'))"
      ]
     },
     "execution_count": 7,
     "metadata": {},
     "output_type": "execute_result"
    }
   ],
   "source": [
    "train_dataset[1]"
   ]
  },
  {
   "cell_type": "code",
   "execution_count": 8,
   "id": "66f72a9a",
   "metadata": {
    "execution": {
     "iopub.execute_input": "2024-11-26T20:51:36.295883Z",
     "iopub.status.busy": "2024-11-26T20:51:36.295523Z",
     "iopub.status.idle": "2024-11-26T20:51:36.300442Z",
     "shell.execute_reply": "2024-11-26T20:51:36.299518Z"
    },
    "papermill": {
     "duration": 0.011935,
     "end_time": "2024-11-26T20:51:36.302188",
     "exception": false,
     "start_time": "2024-11-26T20:51:36.290253",
     "status": "completed"
    },
    "tags": []
   },
   "outputs": [],
   "source": [
    "BATCH_SIZE = 4\n",
    "train_dataloader = DataLoader(train_dataset,\n",
    "                              batch_size=BATCH_SIZE,\n",
    "                              shuffle=True)\n",
    "val_dataloader = DataLoader(val_dataset,\n",
    "                            batch_size=BATCH_SIZE,\n",
    "                            shuffle=False)"
   ]
  },
  {
   "cell_type": "markdown",
   "id": "479c4b5b",
   "metadata": {
    "papermill": {
     "duration": 0.003909,
     "end_time": "2024-11-26T20:51:36.310561",
     "exception": false,
     "start_time": "2024-11-26T20:51:36.306652",
     "status": "completed"
    },
    "tags": []
   },
   "source": [
    "# Model"
   ]
  },
  {
   "cell_type": "code",
   "execution_count": 9,
   "id": "3100791d",
   "metadata": {
    "execution": {
     "iopub.execute_input": "2024-11-26T20:51:36.320720Z",
     "iopub.status.busy": "2024-11-26T20:51:36.319935Z",
     "iopub.status.idle": "2024-11-26T20:51:36.331309Z",
     "shell.execute_reply": "2024-11-26T20:51:36.330397Z"
    },
    "papermill": {
     "duration": 0.018298,
     "end_time": "2024-11-26T20:51:36.332951",
     "exception": false,
     "start_time": "2024-11-26T20:51:36.314653",
     "status": "completed"
    },
    "tags": []
   },
   "outputs": [],
   "source": [
    "import torch\n",
    "from torch import nn\n",
    "import torchvision.models as models\n",
    "\n",
    "class FCN_8s(nn.Module):\n",
    "    def __init__(self, num_classes):\n",
    "        super().__init__()\n",
    "\n",
    "        vgg16 = models.vgg16_bn(weights=\"IMAGENET1K_V1\", progress=True)\n",
    "\n",
    "        # Use the features from vgg16\n",
    "        self.features = vgg16.features\n",
    "\n",
    "        # Replace the classifier with convolutional layers\n",
    "        self.score_pool4 = nn.Sequential(\n",
    "            nn.Conv2d(512, num_classes, kernel_size=1),\n",
    "            nn.ReLU(inplace=True),\n",
    "            nn.Dropout(0.5)\n",
    "        )\n",
    "        self.score_pool3 = nn.Sequential(\n",
    "            nn.Conv2d(256, num_classes, kernel_size=1),\n",
    "            nn.ReLU(inplace=True),\n",
    "            nn.Dropout(0.5)\n",
    "        )\n",
    "\n",
    "        self.score_fr = nn.Sequential(\n",
    "            nn.Conv2d(512, 4096, kernel_size=1),\n",
    "            nn.ReLU(inplace=True),\n",
    "            nn.Dropout2d(),\n",
    "            nn.Conv2d(4096, 4096, kernel_size=1),\n",
    "            nn.ReLU(inplace=True),\n",
    "            nn.Dropout2d(),\n",
    "            nn.Conv2d(4096, num_classes, kernel_size=1)\n",
    "        )\n",
    "\n",
    "        # Transposed convolution layers for upsampling\n",
    "        '''\n",
    "        score_fr*2 means score_fr upsampled by factor of 2 using Transposed Convolution\n",
    "        '''\n",
    "        self.upscore_pool5 = nn.ConvTranspose2d(\n",
    "            num_classes, num_classes, kernel_size=4, stride=2, padding=1\n",
    "        ) # Upsamples the score_fr by factor of 2\n",
    "        self.upscore_pool4 = nn.ConvTranspose2d(\n",
    "            num_classes, num_classes, kernel_size=4, stride=2, padding=1\n",
    "        ) # Upsamples the (score_fr*2 + score_pool4) by factor of 2\n",
    "        self.upscore_pool3 = nn.ConvTranspose2d(\n",
    "            num_classes, num_classes, kernel_size=16, stride=8, padding=4\n",
    "        ) # Upsamples the [(score_fr*2 + score_pool4)*2 + score_pool3] by factor of 8\n",
    "        # self.upscore_pool5 = nn.ConvTranspose2d(\n",
    "        #     num_classes, num_classes, kernel_size=2, stride=2, bias=False\n",
    "        # ) # Upsamples the score_fr by factor of 2\n",
    "        # self.upscore_pool4 = nn.ConvTranspose2d(\n",
    "        #     num_classes, num_classes, kernel_size=2, stride=2, bias=False\n",
    "        # ) # Upsamples the (score_fr*2 + score_pool4) by factor of 2\n",
    "        # self.upscore_pool3 = nn.ConvTranspose2d(\n",
    "        #     num_classes, num_classes, kernel_size=8, stride=8, bias=False\n",
    "        # ) # Upsamples the [(score_fr*2 + score_pool4)*2 + score_pool3] by factor of 8\n",
    "\n",
    "    def forward(self, x):\n",
    "        # Store intermediate outputs for skip connections\n",
    "        pool3 = None\n",
    "        pool4 = None\n",
    "\n",
    "        '''input x: [N, 3, 384, 480] '''\n",
    "        # Forward pass through VGG16 features\n",
    "        for i in range(len(self.features)):\n",
    "            x = self.features[i](x) # Feed forwarding the previous output to each layer coming next\n",
    "            if i == 23: # After pool_3 layer passed\n",
    "                pool3 = x \n",
    "                ''' pool3: [N, 256, 48, 60] '''\n",
    "            elif i == 33: # After pool_4 layer passed\n",
    "                pool4 = x \n",
    "                ''' pool4: [N, 512, 24, 30] '''\n",
    "            elif i == 43: \n",
    "                ''' x: [N, 512, 12, 15] '''\n",
    "                break;\n",
    "\n",
    "        # Classify the features\n",
    "        # x is now the output from the last pooling layer(pool_5) of vgg16_bn\n",
    "        ''' x: [N, 32, 12, 15] '''\n",
    "        x = self.score_fr(x) # (N, num_classes, H/32, W/32)\n",
    "\n",
    "        # Upsample the pool5 score by factor of 2\n",
    "        ''' x: [N, 32, 24, 30] '''\n",
    "        x = self.upscore_pool5(x) # (N, num_classes, H/16, W/16)\n",
    "        # Add skip connection from pool4\n",
    "        ''' score_pool4: [N, 32, 24, 30] '''\n",
    "        score_pool4 = self.score_pool4(pool4)\n",
    "        x = x + score_pool4\n",
    "\n",
    "        # Upsample the skip-connected pool4+pool5 score by factor of 2\n",
    "        ''' x: [N, 32, 48, 60] '''\n",
    "        x = self.upscore_pool4(x) # (N, num_classes, H/8, W/8)\n",
    "        # Add skip connection from pool3\n",
    "        ''' score_pool3: [N, 32, 48, 60] '''\n",
    "        score_pool3 = self.score_pool3(pool3)\n",
    "        x = x + score_pool3\n",
    "\n",
    "        # Finally, upsample the skip-connected pool3+pool4+pool5 score by factor of 8\n",
    "        x = self.upscore_pool3(x) # (N, num_classes, H, W)\n",
    "        ''' x: [N, 32, 384, 480] '''\n",
    "        # The output tensor now has the same spatial dimensions as the input\n",
    "        return x"
   ]
  },
  {
   "cell_type": "code",
   "execution_count": 10,
   "id": "c32ca0d8",
   "metadata": {
    "execution": {
     "iopub.execute_input": "2024-11-26T20:51:36.342353Z",
     "iopub.status.busy": "2024-11-26T20:51:36.341938Z",
     "iopub.status.idle": "2024-11-26T20:51:47.381640Z",
     "shell.execute_reply": "2024-11-26T20:51:47.380658Z"
    },
    "papermill": {
     "duration": 11.046755,
     "end_time": "2024-11-26T20:51:47.383793",
     "exception": false,
     "start_time": "2024-11-26T20:51:36.337038",
     "status": "completed"
    },
    "tags": []
   },
   "outputs": [
    {
     "name": "stderr",
     "output_type": "stream",
     "text": [
      "Downloading: \"https://download.pytorch.org/models/vgg16_bn-6c64b313.pth\" to /root/.cache/torch/hub/checkpoints/vgg16_bn-6c64b313.pth\n",
      "100%|██████████| 528M/528M [00:08<00:00, 62.3MB/s]\n"
     ]
    }
   ],
   "source": [
    "fcn_8s = FCN_8s(num_classes=32).to(DEVICE)"
   ]
  },
  {
   "cell_type": "markdown",
   "id": "5303b4e7",
   "metadata": {
    "papermill": {
     "duration": 0.006126,
     "end_time": "2024-11-26T20:51:47.396854",
     "exception": false,
     "start_time": "2024-11-26T20:51:47.390728",
     "status": "completed"
    },
    "tags": []
   },
   "source": [
    "# Train"
   ]
  },
  {
   "cell_type": "code",
   "execution_count": 11,
   "id": "fb2e5254",
   "metadata": {
    "execution": {
     "iopub.execute_input": "2024-11-26T20:51:47.410711Z",
     "iopub.status.busy": "2024-11-26T20:51:47.410420Z",
     "iopub.status.idle": "2024-11-26T20:51:47.414253Z",
     "shell.execute_reply": "2024-11-26T20:51:47.413505Z"
    },
    "papermill": {
     "duration": 0.012742,
     "end_time": "2024-11-26T20:51:47.415792",
     "exception": false,
     "start_time": "2024-11-26T20:51:47.403050",
     "status": "completed"
    },
    "tags": []
   },
   "outputs": [],
   "source": [
    "loss_acc_dict = {\n",
    "    'train_loss_lst' : [],\n",
    "    'train_acc_lst' : [],\n",
    "    'val_loss_lst' : [],\n",
    "    'val_acc_lst' : []\n",
    "}"
   ]
  },
  {
   "cell_type": "code",
   "execution_count": 12,
   "id": "1d754c79",
   "metadata": {
    "execution": {
     "iopub.execute_input": "2024-11-26T20:51:47.429459Z",
     "iopub.status.busy": "2024-11-26T20:51:47.429197Z",
     "iopub.status.idle": "2024-11-26T20:51:47.437694Z",
     "shell.execute_reply": "2024-11-26T20:51:47.437015Z"
    },
    "papermill": {
     "duration": 0.016974,
     "end_time": "2024-11-26T20:51:47.439153",
     "exception": false,
     "start_time": "2024-11-26T20:51:47.422179",
     "status": "completed"
    },
    "tags": []
   },
   "outputs": [],
   "source": [
    "import random\n",
    "import matplotlib.pyplot as plt\n",
    "\n",
    "def label_to_rgb_tensor(label_tensor: torch.Tensor) -> torch.Tensor:\n",
    "    height, width = label_tensor.shape\n",
    "    rgb_image = torch.zeros(3, height, width, dtype=torch.uint8)\n",
    "\n",
    "    for label, rgb in label2RGB_dict.items():\n",
    "        mask = (label_tensor == label)\n",
    "        rgb_image[0][mask] = rgb[0]  # Red\n",
    "        rgb_image[1][mask] = rgb[1]  # Green\n",
    "        rgb_image[2][mask] = rgb[2]  # Blue\n",
    "\n",
    "    return rgb_image\n",
    "\n",
    "def visualize_segmentation(model, val_loader, device, epoch):\n",
    "    model.eval()\n",
    "    batch_idx = random.randint(0, len(val_loader) - 1)\n",
    "    images, labels = list(val_loader)[batch_idx]\n",
    "    images = images.to(device)\n",
    "    labels = labels.to(device)\n",
    "\n",
    "    with torch.no_grad():\n",
    "        outputs = model(images)\n",
    "        preds = torch.argmax(outputs, dim=1)\n",
    "\n",
    "    img_idx = random.randint(0, len(images) - 1)\n",
    "    img = images[img_idx].cpu().numpy().transpose(1, 2, 0)\n",
    "    label = labels[img_idx].cpu().numpy()\n",
    "    pred = preds[img_idx].cpu().numpy()\n",
    "    pred_rgb = label_to_rgb_tensor(pred).cpu().numpy().transpose(1, 2, 0)\n",
    "\n",
    "    fig, axes = plt.subplots(1, 3, figsize=(15, 5))\n",
    "    axes[0].imshow(img)\n",
    "    axes[0].set_title('Original Image')\n",
    "    \n",
    "    axes[1].imshow(label_to_rgb_tensor(label).permute(1, 2, 0).cpu().numpy())\n",
    "    axes[1].set_title('Ground Truth')\n",
    "\n",
    "    axes[2].imshow(pred_rgb)\n",
    "    axes[2].set_title('Predicted Mask')\n",
    "\n",
    "    # 이미지 파일 저장\n",
    "    output_path = f'/kaggle/working/segmentation_epoch_{epoch}.png'\n",
    "    plt.savefig(output_path)\n",
    "    plt.close()\n",
    "\n",
    "    print(f\"Segmentation visualization saved at {output_path}\")"
   ]
  },
  {
   "cell_type": "code",
   "execution_count": 13,
   "id": "8bf2283f",
   "metadata": {
    "execution": {
     "iopub.execute_input": "2024-11-26T20:51:47.452632Z",
     "iopub.status.busy": "2024-11-26T20:51:47.452380Z",
     "iopub.status.idle": "2024-11-26T20:51:47.457909Z",
     "shell.execute_reply": "2024-11-26T20:51:47.457147Z"
    },
    "papermill": {
     "duration": 0.014075,
     "end_time": "2024-11-26T20:51:47.459434",
     "exception": false,
     "start_time": "2024-11-26T20:51:47.445359",
     "status": "completed"
    },
    "tags": []
   },
   "outputs": [],
   "source": [
    "from tqdm import tqdm\n",
    "\n",
    "def train(model, dataloader, optimizer, loss_fn):\n",
    "    model.train()\n",
    "    train_loss, train_acc = 0.0, 0.0\n",
    "    total_pixels, correct_pixels = 0, 0\n",
    "\n",
    "    for images, label_images in tqdm(dataloader):\n",
    "        images = images.to(DEVICE)\n",
    "        label_images = label_images.to(DEVICE)\n",
    "\n",
    "        optimizer.zero_grad()\n",
    "        y_logits = model(images)\n",
    "        loss = loss_fn(y_logits, label_images)\n",
    "        loss.backward()\n",
    "        optimizer.step()\n",
    "\n",
    "        train_loss += loss.item()\n",
    "        # y_preds: (N, H, W)\n",
    "        y_preds = torch.argmax(y_logits, axis=1) # argmax along channels (N, C, H, W)\n",
    "        correct_pixels += (label_images == y_preds).sum().item()\n",
    "        total_pixels += label_images.numel()\n",
    "\n",
    "    # Calculate average loss and accuracy for the batch\n",
    "    train_loss /= len(dataloader)\n",
    "    train_acc = 100 * (correct_pixels / total_pixels)\n",
    "\n",
    "    return train_loss, train_acc"
   ]
  },
  {
   "cell_type": "code",
   "execution_count": 14,
   "id": "276e73c4",
   "metadata": {
    "execution": {
     "iopub.execute_input": "2024-11-26T20:51:47.473119Z",
     "iopub.status.busy": "2024-11-26T20:51:47.472651Z",
     "iopub.status.idle": "2024-11-26T20:51:47.477909Z",
     "shell.execute_reply": "2024-11-26T20:51:47.477089Z"
    },
    "papermill": {
     "duration": 0.013779,
     "end_time": "2024-11-26T20:51:47.479456",
     "exception": false,
     "start_time": "2024-11-26T20:51:47.465677",
     "status": "completed"
    },
    "tags": []
   },
   "outputs": [],
   "source": [
    "def evaluate(model, dataloader, optimizer, loss_fn):\n",
    "    model.eval()\n",
    "    val_loss, val_acc = 0.0, 0.0\n",
    "    correct_pixels, total_pixels = 0, 0\n",
    "\n",
    "    for images, label_images, in dataloader:\n",
    "        images = images.to(DEVICE)\n",
    "        label_images = label_images.to(DEVICE)\n",
    "\n",
    "        y_logits = model(images)\n",
    "        loss = loss_fn(y_logits, label_images)\n",
    "\n",
    "        val_loss += loss.item()\n",
    "        y_preds = torch.argmax(y_logits, axis=1)\n",
    "        correct_pixels += (label_images == y_preds).sum().item()\n",
    "        total_pixels += label_images.numel()\n",
    "\n",
    "    # Average loss/acc over the batches\n",
    "    val_loss /= len(dataloader)\n",
    "    val_acc = 100 * (correct_pixels / total_pixels)\n",
    "    return val_loss, val_acc"
   ]
  },
  {
   "cell_type": "code",
   "execution_count": 15,
   "id": "79358b88",
   "metadata": {
    "execution": {
     "iopub.execute_input": "2024-11-26T20:51:47.493127Z",
     "iopub.status.busy": "2024-11-26T20:51:47.492860Z",
     "iopub.status.idle": "2024-11-26T20:51:47.499634Z",
     "shell.execute_reply": "2024-11-26T20:51:47.498828Z"
    },
    "papermill": {
     "duration": 0.015436,
     "end_time": "2024-11-26T20:51:47.501129",
     "exception": false,
     "start_time": "2024-11-26T20:51:47.485693",
     "status": "completed"
    },
    "tags": []
   },
   "outputs": [],
   "source": [
    "import time\n",
    "import copy\n",
    "from torch.optim import lr_scheduler\n",
    "\n",
    "def train_model(model, \n",
    "                train_dataloader, \n",
    "                val_dataloader,\n",
    "                optimizer,\n",
    "                loss_fn,\n",
    "                num_epochs=1):\n",
    "    best_acc = 0.0\n",
    "    best_model_wts = copy.deepcopy(model.state_dict())\n",
    "\n",
    "    for epoch in range(1, num_epochs + 1):\n",
    "        start = time.time()\n",
    "        # Feed forward / backprop on train_dataloader\n",
    "        train_loss, train_acc = train(model, train_dataloader, optimizer, loss_fn)\n",
    "        # Feed forward on val_dataloader\n",
    "        val_loss, val_acc = evaluate(model, val_dataloader, optimizer, loss_fn)\n",
    "\n",
    "        # Storing epoch histories\n",
    "        loss_acc_dict['train_loss_lst'].append(train_loss)\n",
    "        loss_acc_dict['train_acc_lst'].append(train_acc)\n",
    "        loss_acc_dict['val_loss_lst'].append(val_loss)\n",
    "        loss_acc_dict['val_acc_lst'].append(val_acc)\n",
    "\n",
    "        # Update model depending on its peformance on validation data\n",
    "        if val_acc > best_acc:\n",
    "            best_acc = val_acc\n",
    "            best_model_wts = copy.deepcopy(model.state_dict())\n",
    "\n",
    "        # Scheduler Update\n",
    "        scheduler.step()\n",
    "        \n",
    "        end = time.time()\n",
    "        time_elapsed = end - start\n",
    "        print(f\"------------ epoch {epoch} ------------\")\n",
    "        print(f\"Train loss: {train_loss:.4f} | Train acc: {train_acc:.2f}%\")\n",
    "        print(f\"Validation loss: {val_loss:.4f} | Validation acc: {val_acc:.2f}%\")\n",
    "        print(f\"Time taken: {time_elapsed / 60:.0f}min {time_elapsed % 60:.0f}s\")\n",
    "\n",
    "        if (epoch - 1) % 10 == 0:\n",
    "            visualize_segmentation(model, val_dataloader, DEVICE, epoch - 1)\n",
    "\n",
    "    \n",
    "    model.load_state_dict(best_model_wts)\n",
    "    return model"
   ]
  },
  {
   "cell_type": "code",
   "execution_count": 16,
   "id": "43ff918f",
   "metadata": {
    "execution": {
     "iopub.execute_input": "2024-11-26T20:51:47.514713Z",
     "iopub.status.busy": "2024-11-26T20:51:47.514465Z",
     "iopub.status.idle": "2024-11-26T20:51:47.520595Z",
     "shell.execute_reply": "2024-11-26T20:51:47.517649Z"
    },
    "papermill": {
     "duration": 0.015185,
     "end_time": "2024-11-26T20:51:47.522544",
     "exception": false,
     "start_time": "2024-11-26T20:51:47.507359",
     "status": "completed"
    },
    "tags": []
   },
   "outputs": [],
   "source": [
    "# loss_fn = nn.CrossEntropyLoss()\n",
    "# optimizer = torch.optim.SGD([\n",
    "#     {'params': fcn_8s.features.parameters(), 'lr': 1e-4},\n",
    "#     {'params': fcn_8s.score_pool3.parameters(), 'lr': 1e-3},\n",
    "#     {'params': fcn_8s.score_pool4.parameters(), 'lr': 1e-3},\n",
    "#     {'params': fcn_8s.score_fr.parameters(), 'lr': 1e-3},\n",
    "#     {'params': fcn_8s.upscore_pool3.parameters(), 'lr': 1e-3},\n",
    "#     {'params': fcn_8s.upscore_pool4.parameters(), 'lr': 1e-3},\n",
    "#     {'params': fcn_8s.upscore_pool5.parameters(), 'lr': 1e-3}\n",
    "# ], momentum=0.9, weight_decay=0.0005)\n",
    "# scheduler = lr_scheduler.StepLR(optimizer, step_size=15, gamma=0.1)"
   ]
  },
  {
   "cell_type": "code",
   "execution_count": 17,
   "id": "9ec844aa",
   "metadata": {
    "execution": {
     "iopub.execute_input": "2024-11-26T20:51:47.536679Z",
     "iopub.status.busy": "2024-11-26T20:51:47.536466Z",
     "iopub.status.idle": "2024-11-26T20:51:47.540561Z",
     "shell.execute_reply": "2024-11-26T20:51:47.539856Z"
    },
    "papermill": {
     "duration": 0.012872,
     "end_time": "2024-11-26T20:51:47.542059",
     "exception": false,
     "start_time": "2024-11-26T20:51:47.529187",
     "status": "completed"
    },
    "tags": []
   },
   "outputs": [],
   "source": [
    "loss_fn = nn.CrossEntropyLoss()\n",
    "optimizer = torch.optim.Adam(fcn_8s.parameters(), lr=1e-3)\n",
    "scheduler = lr_scheduler.StepLR(optimizer, step_size=20, gamma=0.1)"
   ]
  },
  {
   "cell_type": "code",
   "execution_count": 18,
   "id": "3288cb67",
   "metadata": {
    "execution": {
     "iopub.execute_input": "2024-11-26T20:51:47.555991Z",
     "iopub.status.busy": "2024-11-26T20:51:47.555730Z",
     "iopub.status.idle": "2024-11-26T21:33:12.719270Z",
     "shell.execute_reply": "2024-11-26T21:33:12.718025Z"
    },
    "papermill": {
     "duration": 2485.172544,
     "end_time": "2024-11-26T21:33:12.721171",
     "exception": false,
     "start_time": "2024-11-26T20:51:47.548627",
     "status": "completed"
    },
    "tags": []
   },
   "outputs": [
    {
     "name": "stderr",
     "output_type": "stream",
     "text": [
      "100%|██████████| 93/93 [00:43<00:00,  2.12it/s]\n"
     ]
    },
    {
     "name": "stdout",
     "output_type": "stream",
     "text": [
      "------------ epoch 1 ------------\n",
      "Train loss: 1.8806 | Train acc: 39.09%\n",
      "Validation loss: 1.2715 | Validation acc: 63.52%\n",
      "Time taken: 1min 52s\n",
      "Segmentation visualization saved at /kaggle/working/segmentation_epoch_0.png\n"
     ]
    },
    {
     "name": "stderr",
     "output_type": "stream",
     "text": [
      "100%|██████████| 93/93 [00:34<00:00,  2.69it/s]\n"
     ]
    },
    {
     "name": "stdout",
     "output_type": "stream",
     "text": [
      "------------ epoch 2 ------------\n",
      "Train loss: 1.1094 | Train acc: 68.30%\n",
      "Validation loss: 0.9469 | Validation acc: 72.74%\n",
      "Time taken: 1min 41s\n"
     ]
    },
    {
     "name": "stderr",
     "output_type": "stream",
     "text": [
      "100%|██████████| 93/93 [00:34<00:00,  2.71it/s]\n"
     ]
    },
    {
     "name": "stdout",
     "output_type": "stream",
     "text": [
      "------------ epoch 3 ------------\n",
      "Train loss: 0.8784 | Train acc: 74.48%\n",
      "Validation loss: 0.8265 | Validation acc: 76.58%\n",
      "Time taken: 1min 41s\n"
     ]
    },
    {
     "name": "stderr",
     "output_type": "stream",
     "text": [
      "100%|██████████| 93/93 [00:34<00:00,  2.68it/s]\n"
     ]
    },
    {
     "name": "stdout",
     "output_type": "stream",
     "text": [
      "------------ epoch 4 ------------\n",
      "Train loss: 0.7785 | Train acc: 77.16%\n",
      "Validation loss: 0.7799 | Validation acc: 77.00%\n",
      "Time taken: 1min 41s\n"
     ]
    },
    {
     "name": "stderr",
     "output_type": "stream",
     "text": [
      "100%|██████████| 93/93 [00:34<00:00,  2.70it/s]\n"
     ]
    },
    {
     "name": "stdout",
     "output_type": "stream",
     "text": [
      "------------ epoch 5 ------------\n",
      "Train loss: 0.7182 | Train acc: 78.53%\n",
      "Validation loss: 0.6909 | Validation acc: 79.43%\n",
      "Time taken: 1min 40s\n"
     ]
    },
    {
     "name": "stderr",
     "output_type": "stream",
     "text": [
      "100%|██████████| 93/93 [00:35<00:00,  2.64it/s]\n"
     ]
    },
    {
     "name": "stdout",
     "output_type": "stream",
     "text": [
      "------------ epoch 6 ------------\n",
      "Train loss: 0.7061 | Train acc: 79.02%\n",
      "Validation loss: 0.6781 | Validation acc: 79.32%\n",
      "Time taken: 1min 41s\n"
     ]
    },
    {
     "name": "stderr",
     "output_type": "stream",
     "text": [
      "100%|██████████| 93/93 [00:34<00:00,  2.67it/s]\n"
     ]
    },
    {
     "name": "stdout",
     "output_type": "stream",
     "text": [
      "------------ epoch 7 ------------\n",
      "Train loss: 0.6533 | Train acc: 80.25%\n",
      "Validation loss: 0.6188 | Validation acc: 80.98%\n",
      "Time taken: 1min 41s\n"
     ]
    },
    {
     "name": "stderr",
     "output_type": "stream",
     "text": [
      "100%|██████████| 93/93 [00:34<00:00,  2.67it/s]\n"
     ]
    },
    {
     "name": "stdout",
     "output_type": "stream",
     "text": [
      "------------ epoch 8 ------------\n",
      "Train loss: 0.5854 | Train acc: 81.79%\n",
      "Validation loss: 0.5701 | Validation acc: 82.69%\n",
      "Time taken: 1min 41s\n"
     ]
    },
    {
     "name": "stderr",
     "output_type": "stream",
     "text": [
      "100%|██████████| 93/93 [00:34<00:00,  2.67it/s]\n"
     ]
    },
    {
     "name": "stdout",
     "output_type": "stream",
     "text": [
      "------------ epoch 9 ------------\n",
      "Train loss: 0.5870 | Train acc: 81.77%\n",
      "Validation loss: 0.5782 | Validation acc: 82.38%\n",
      "Time taken: 1min 41s\n"
     ]
    },
    {
     "name": "stderr",
     "output_type": "stream",
     "text": [
      "100%|██████████| 93/93 [00:34<00:00,  2.68it/s]\n"
     ]
    },
    {
     "name": "stdout",
     "output_type": "stream",
     "text": [
      "------------ epoch 10 ------------\n",
      "Train loss: 0.5746 | Train acc: 82.00%\n",
      "Validation loss: 0.5525 | Validation acc: 82.78%\n",
      "Time taken: 1min 41s\n"
     ]
    },
    {
     "name": "stderr",
     "output_type": "stream",
     "text": [
      "100%|██████████| 93/93 [00:34<00:00,  2.68it/s]\n"
     ]
    },
    {
     "name": "stdout",
     "output_type": "stream",
     "text": [
      "------------ epoch 11 ------------\n",
      "Train loss: 0.5515 | Train acc: 82.76%\n",
      "Validation loss: 0.5534 | Validation acc: 82.78%\n",
      "Time taken: 1min 41s\n",
      "Segmentation visualization saved at /kaggle/working/segmentation_epoch_10.png\n"
     ]
    },
    {
     "name": "stderr",
     "output_type": "stream",
     "text": [
      "100%|██████████| 93/93 [00:34<00:00,  2.70it/s]\n"
     ]
    },
    {
     "name": "stdout",
     "output_type": "stream",
     "text": [
      "------------ epoch 12 ------------\n",
      "Train loss: 0.5556 | Train acc: 82.40%\n",
      "Validation loss: 0.5070 | Validation acc: 83.98%\n",
      "Time taken: 1min 40s\n"
     ]
    },
    {
     "name": "stderr",
     "output_type": "stream",
     "text": [
      "100%|██████████| 93/93 [00:34<00:00,  2.72it/s]\n"
     ]
    },
    {
     "name": "stdout",
     "output_type": "stream",
     "text": [
      "------------ epoch 13 ------------\n",
      "Train loss: 0.5155 | Train acc: 83.43%\n",
      "Validation loss: 0.5297 | Validation acc: 83.25%\n",
      "Time taken: 1min 40s\n"
     ]
    },
    {
     "name": "stderr",
     "output_type": "stream",
     "text": [
      "100%|██████████| 93/93 [00:35<00:00,  2.65it/s]\n"
     ]
    },
    {
     "name": "stdout",
     "output_type": "stream",
     "text": [
      "------------ epoch 14 ------------\n",
      "Train loss: 0.5044 | Train acc: 83.66%\n",
      "Validation loss: 0.4875 | Validation acc: 84.24%\n",
      "Time taken: 1min 41s\n"
     ]
    },
    {
     "name": "stderr",
     "output_type": "stream",
     "text": [
      "100%|██████████| 93/93 [00:34<00:00,  2.70it/s]\n"
     ]
    },
    {
     "name": "stdout",
     "output_type": "stream",
     "text": [
      "------------ epoch 15 ------------\n",
      "Train loss: 0.4940 | Train acc: 83.92%\n",
      "Validation loss: 0.5014 | Validation acc: 84.37%\n",
      "Time taken: 1min 41s\n"
     ]
    },
    {
     "name": "stderr",
     "output_type": "stream",
     "text": [
      "100%|██████████| 93/93 [00:34<00:00,  2.71it/s]\n"
     ]
    },
    {
     "name": "stdout",
     "output_type": "stream",
     "text": [
      "------------ epoch 16 ------------\n",
      "Train loss: 0.4828 | Train acc: 84.21%\n",
      "Validation loss: 0.4847 | Validation acc: 84.69%\n",
      "Time taken: 1min 40s\n"
     ]
    },
    {
     "name": "stderr",
     "output_type": "stream",
     "text": [
      "100%|██████████| 93/93 [00:34<00:00,  2.69it/s]\n"
     ]
    },
    {
     "name": "stdout",
     "output_type": "stream",
     "text": [
      "------------ epoch 17 ------------\n",
      "Train loss: 0.4579 | Train acc: 84.80%\n",
      "Validation loss: 0.5078 | Validation acc: 83.97%\n",
      "Time taken: 1min 41s\n"
     ]
    },
    {
     "name": "stderr",
     "output_type": "stream",
     "text": [
      "100%|██████████| 93/93 [00:34<00:00,  2.70it/s]\n"
     ]
    },
    {
     "name": "stdout",
     "output_type": "stream",
     "text": [
      "------------ epoch 18 ------------\n",
      "Train loss: 0.4636 | Train acc: 84.72%\n",
      "Validation loss: 0.4737 | Validation acc: 84.75%\n",
      "Time taken: 1min 40s\n"
     ]
    },
    {
     "name": "stderr",
     "output_type": "stream",
     "text": [
      "100%|██████████| 93/93 [00:34<00:00,  2.70it/s]\n"
     ]
    },
    {
     "name": "stdout",
     "output_type": "stream",
     "text": [
      "------------ epoch 19 ------------\n",
      "Train loss: 0.4438 | Train acc: 85.18%\n",
      "Validation loss: 0.4843 | Validation acc: 84.60%\n",
      "Time taken: 1min 40s\n"
     ]
    },
    {
     "name": "stderr",
     "output_type": "stream",
     "text": [
      "100%|██████████| 93/93 [00:34<00:00,  2.70it/s]\n"
     ]
    },
    {
     "name": "stdout",
     "output_type": "stream",
     "text": [
      "------------ epoch 20 ------------\n",
      "Train loss: 0.4569 | Train acc: 84.88%\n",
      "Validation loss: 0.5040 | Validation acc: 84.25%\n",
      "Time taken: 1min 41s\n"
     ]
    },
    {
     "name": "stderr",
     "output_type": "stream",
     "text": [
      "100%|██████████| 93/93 [00:34<00:00,  2.66it/s]\n"
     ]
    },
    {
     "name": "stdout",
     "output_type": "stream",
     "text": [
      "------------ epoch 21 ------------\n",
      "Train loss: 0.4095 | Train acc: 86.13%\n",
      "Validation loss: 0.4301 | Validation acc: 85.90%\n",
      "Time taken: 1min 41s\n",
      "Segmentation visualization saved at /kaggle/working/segmentation_epoch_20.png\n"
     ]
    },
    {
     "name": "stderr",
     "output_type": "stream",
     "text": [
      "100%|██████████| 93/93 [00:34<00:00,  2.67it/s]\n"
     ]
    },
    {
     "name": "stdout",
     "output_type": "stream",
     "text": [
      "------------ epoch 22 ------------\n",
      "Train loss: 0.3952 | Train acc: 86.53%\n",
      "Validation loss: 0.4206 | Validation acc: 86.12%\n",
      "Time taken: 1min 41s\n"
     ]
    },
    {
     "name": "stderr",
     "output_type": "stream",
     "text": [
      "100%|██████████| 93/93 [00:34<00:00,  2.70it/s]\n"
     ]
    },
    {
     "name": "stdout",
     "output_type": "stream",
     "text": [
      "------------ epoch 23 ------------\n",
      "Train loss: 0.3867 | Train acc: 86.72%\n",
      "Validation loss: 0.4127 | Validation acc: 86.34%\n",
      "Time taken: 1min 41s\n"
     ]
    },
    {
     "name": "stderr",
     "output_type": "stream",
     "text": [
      "100%|██████████| 93/93 [00:34<00:00,  2.70it/s]\n"
     ]
    },
    {
     "name": "stdout",
     "output_type": "stream",
     "text": [
      "------------ epoch 24 ------------\n",
      "Train loss: 0.3778 | Train acc: 86.92%\n",
      "Validation loss: 0.4114 | Validation acc: 86.40%\n",
      "Time taken: 1min 41s\n"
     ]
    },
    {
     "name": "stderr",
     "output_type": "stream",
     "text": [
      "100%|██████████| 93/93 [00:34<00:00,  2.70it/s]\n"
     ]
    },
    {
     "name": "stdout",
     "output_type": "stream",
     "text": [
      "------------ epoch 25 ------------\n",
      "Train loss: 0.3758 | Train acc: 86.98%\n",
      "Validation loss: 0.4075 | Validation acc: 86.50%\n",
      "Time taken: 1min 41s\n"
     ]
    },
    {
     "name": "stderr",
     "output_type": "stream",
     "text": [
      "100%|██████████| 93/93 [00:34<00:00,  2.72it/s]\n"
     ]
    },
    {
     "name": "stdout",
     "output_type": "stream",
     "text": [
      "------------ epoch 26 ------------\n",
      "Train loss: 0.3713 | Train acc: 87.12%\n",
      "Validation loss: 0.4099 | Validation acc: 86.50%\n",
      "Time taken: 1min 40s\n"
     ]
    },
    {
     "name": "stderr",
     "output_type": "stream",
     "text": [
      "100%|██████████| 93/93 [00:34<00:00,  2.71it/s]\n"
     ]
    },
    {
     "name": "stdout",
     "output_type": "stream",
     "text": [
      "------------ epoch 27 ------------\n",
      "Train loss: 0.3688 | Train acc: 87.25%\n",
      "Validation loss: 0.4107 | Validation acc: 86.54%\n",
      "Time taken: 1min 41s\n"
     ]
    },
    {
     "name": "stderr",
     "output_type": "stream",
     "text": [
      "100%|██████████| 93/93 [00:34<00:00,  2.69it/s]\n"
     ]
    },
    {
     "name": "stdout",
     "output_type": "stream",
     "text": [
      "------------ epoch 28 ------------\n",
      "Train loss: 0.3668 | Train acc: 87.30%\n",
      "Validation loss: 0.4070 | Validation acc: 86.63%\n",
      "Time taken: 1min 41s\n"
     ]
    },
    {
     "name": "stderr",
     "output_type": "stream",
     "text": [
      "100%|██████████| 93/93 [00:34<00:00,  2.72it/s]\n"
     ]
    },
    {
     "name": "stdout",
     "output_type": "stream",
     "text": [
      "------------ epoch 29 ------------\n",
      "Train loss: 0.3624 | Train acc: 87.39%\n",
      "Validation loss: 0.4043 | Validation acc: 86.74%\n",
      "Time taken: 1min 40s\n"
     ]
    },
    {
     "name": "stderr",
     "output_type": "stream",
     "text": [
      "100%|██████████| 93/93 [00:34<00:00,  2.72it/s]\n"
     ]
    },
    {
     "name": "stdout",
     "output_type": "stream",
     "text": [
      "------------ epoch 30 ------------\n",
      "Train loss: 0.3588 | Train acc: 87.52%\n",
      "Validation loss: 0.4045 | Validation acc: 86.74%\n",
      "Time taken: 1min 40s\n"
     ]
    },
    {
     "name": "stderr",
     "output_type": "stream",
     "text": [
      "100%|██████████| 93/93 [00:34<00:00,  2.72it/s]\n"
     ]
    },
    {
     "name": "stdout",
     "output_type": "stream",
     "text": [
      "------------ epoch 31 ------------\n",
      "Train loss: 0.3538 | Train acc: 87.60%\n",
      "Validation loss: 0.4020 | Validation acc: 86.82%\n",
      "Time taken: 1min 40s\n",
      "Segmentation visualization saved at /kaggle/working/segmentation_epoch_30.png\n"
     ]
    },
    {
     "name": "stderr",
     "output_type": "stream",
     "text": [
      "100%|██████████| 93/93 [00:34<00:00,  2.70it/s]\n"
     ]
    },
    {
     "name": "stdout",
     "output_type": "stream",
     "text": [
      "------------ epoch 32 ------------\n",
      "Train loss: 0.3544 | Train acc: 87.59%\n",
      "Validation loss: 0.4026 | Validation acc: 86.84%\n",
      "Time taken: 1min 40s\n"
     ]
    },
    {
     "name": "stderr",
     "output_type": "stream",
     "text": [
      "100%|██████████| 93/93 [00:34<00:00,  2.69it/s]\n"
     ]
    },
    {
     "name": "stdout",
     "output_type": "stream",
     "text": [
      "------------ epoch 33 ------------\n",
      "Train loss: 0.3546 | Train acc: 87.67%\n",
      "Validation loss: 0.4017 | Validation acc: 86.79%\n",
      "Time taken: 1min 40s\n"
     ]
    },
    {
     "name": "stderr",
     "output_type": "stream",
     "text": [
      "100%|██████████| 93/93 [00:34<00:00,  2.68it/s]\n"
     ]
    },
    {
     "name": "stdout",
     "output_type": "stream",
     "text": [
      "------------ epoch 34 ------------\n",
      "Train loss: 0.3532 | Train acc: 87.77%\n",
      "Validation loss: 0.4071 | Validation acc: 86.77%\n",
      "Time taken: 1min 41s\n"
     ]
    },
    {
     "name": "stderr",
     "output_type": "stream",
     "text": [
      "100%|██████████| 93/93 [00:34<00:00,  2.67it/s]\n"
     ]
    },
    {
     "name": "stdout",
     "output_type": "stream",
     "text": [
      "------------ epoch 35 ------------\n",
      "Train loss: 0.3453 | Train acc: 87.86%\n",
      "Validation loss: 0.3990 | Validation acc: 86.88%\n",
      "Time taken: 1min 41s\n"
     ]
    },
    {
     "name": "stderr",
     "output_type": "stream",
     "text": [
      "100%|██████████| 93/93 [00:34<00:00,  2.68it/s]\n"
     ]
    },
    {
     "name": "stdout",
     "output_type": "stream",
     "text": [
      "------------ epoch 36 ------------\n",
      "Train loss: 0.3403 | Train acc: 87.97%\n",
      "Validation loss: 0.3977 | Validation acc: 86.95%\n",
      "Time taken: 1min 41s\n"
     ]
    },
    {
     "name": "stderr",
     "output_type": "stream",
     "text": [
      "100%|██████████| 93/93 [00:34<00:00,  2.69it/s]\n"
     ]
    },
    {
     "name": "stdout",
     "output_type": "stream",
     "text": [
      "------------ epoch 37 ------------\n",
      "Train loss: 0.3429 | Train acc: 87.98%\n",
      "Validation loss: 0.3993 | Validation acc: 86.85%\n",
      "Time taken: 1min 41s\n"
     ]
    },
    {
     "name": "stderr",
     "output_type": "stream",
     "text": [
      "100%|██████████| 93/93 [00:34<00:00,  2.71it/s]\n"
     ]
    },
    {
     "name": "stdout",
     "output_type": "stream",
     "text": [
      "------------ epoch 38 ------------\n",
      "Train loss: 0.3382 | Train acc: 88.03%\n",
      "Validation loss: 0.3957 | Validation acc: 87.01%\n",
      "Time taken: 1min 40s\n"
     ]
    },
    {
     "name": "stderr",
     "output_type": "stream",
     "text": [
      "100%|██████████| 93/93 [00:34<00:00,  2.70it/s]\n"
     ]
    },
    {
     "name": "stdout",
     "output_type": "stream",
     "text": [
      "------------ epoch 39 ------------\n",
      "Train loss: 0.3391 | Train acc: 88.01%\n",
      "Validation loss: 0.3986 | Validation acc: 86.98%\n",
      "Time taken: 1min 41s\n"
     ]
    },
    {
     "name": "stderr",
     "output_type": "stream",
     "text": [
      "100%|██████████| 93/93 [00:34<00:00,  2.70it/s]\n"
     ]
    },
    {
     "name": "stdout",
     "output_type": "stream",
     "text": [
      "------------ epoch 40 ------------\n",
      "Train loss: 0.3375 | Train acc: 88.04%\n",
      "Validation loss: 0.3955 | Validation acc: 87.18%\n",
      "Time taken: 1min 40s\n"
     ]
    },
    {
     "name": "stderr",
     "output_type": "stream",
     "text": [
      "100%|██████████| 93/93 [00:34<00:00,  2.71it/s]\n"
     ]
    },
    {
     "name": "stdout",
     "output_type": "stream",
     "text": [
      "------------ epoch 41 ------------\n",
      "Train loss: 0.3319 | Train acc: 88.24%\n",
      "Validation loss: 0.3932 | Validation acc: 87.21%\n",
      "Time taken: 1min 40s\n",
      "Segmentation visualization saved at /kaggle/working/segmentation_epoch_40.png\n"
     ]
    },
    {
     "name": "stderr",
     "output_type": "stream",
     "text": [
      "100%|██████████| 93/93 [00:34<00:00,  2.71it/s]\n"
     ]
    },
    {
     "name": "stdout",
     "output_type": "stream",
     "text": [
      "------------ epoch 42 ------------\n",
      "Train loss: 0.3295 | Train acc: 88.24%\n",
      "Validation loss: 0.3932 | Validation acc: 87.21%\n",
      "Time taken: 1min 40s\n"
     ]
    },
    {
     "name": "stderr",
     "output_type": "stream",
     "text": [
      "100%|██████████| 93/93 [00:34<00:00,  2.69it/s]\n"
     ]
    },
    {
     "name": "stdout",
     "output_type": "stream",
     "text": [
      "------------ epoch 43 ------------\n",
      "Train loss: 0.3290 | Train acc: 88.29%\n",
      "Validation loss: 0.3922 | Validation acc: 87.21%\n",
      "Time taken: 1min 41s\n"
     ]
    },
    {
     "name": "stderr",
     "output_type": "stream",
     "text": [
      "100%|██████████| 93/93 [00:35<00:00,  2.65it/s]\n"
     ]
    },
    {
     "name": "stdout",
     "output_type": "stream",
     "text": [
      "------------ epoch 44 ------------\n",
      "Train loss: 0.3265 | Train acc: 88.33%\n",
      "Validation loss: 0.3910 | Validation acc: 87.23%\n",
      "Time taken: 1min 42s\n"
     ]
    },
    {
     "name": "stderr",
     "output_type": "stream",
     "text": [
      "100%|██████████| 93/93 [00:34<00:00,  2.69it/s]\n"
     ]
    },
    {
     "name": "stdout",
     "output_type": "stream",
     "text": [
      "------------ epoch 45 ------------\n",
      "Train loss: 0.3249 | Train acc: 88.40%\n",
      "Validation loss: 0.3908 | Validation acc: 87.20%\n",
      "Time taken: 1min 41s\n"
     ]
    },
    {
     "name": "stderr",
     "output_type": "stream",
     "text": [
      "100%|██████████| 93/93 [00:34<00:00,  2.67it/s]\n"
     ]
    },
    {
     "name": "stdout",
     "output_type": "stream",
     "text": [
      "------------ epoch 46 ------------\n",
      "Train loss: 0.3261 | Train acc: 88.35%\n",
      "Validation loss: 0.3905 | Validation acc: 87.23%\n",
      "Time taken: 1min 41s\n"
     ]
    },
    {
     "name": "stderr",
     "output_type": "stream",
     "text": [
      "100%|██████████| 93/93 [00:34<00:00,  2.69it/s]\n"
     ]
    },
    {
     "name": "stdout",
     "output_type": "stream",
     "text": [
      "------------ epoch 47 ------------\n",
      "Train loss: 0.3297 | Train acc: 88.34%\n",
      "Validation loss: 0.3936 | Validation acc: 87.17%\n",
      "Time taken: 1min 41s\n"
     ]
    },
    {
     "name": "stderr",
     "output_type": "stream",
     "text": [
      "100%|██████████| 93/93 [00:34<00:00,  2.70it/s]\n"
     ]
    },
    {
     "name": "stdout",
     "output_type": "stream",
     "text": [
      "------------ epoch 48 ------------\n",
      "Train loss: 0.3258 | Train acc: 88.34%\n",
      "Validation loss: 0.3926 | Validation acc: 87.18%\n",
      "Time taken: 1min 41s\n"
     ]
    },
    {
     "name": "stderr",
     "output_type": "stream",
     "text": [
      "100%|██████████| 93/93 [00:34<00:00,  2.68it/s]\n"
     ]
    },
    {
     "name": "stdout",
     "output_type": "stream",
     "text": [
      "------------ epoch 49 ------------\n",
      "Train loss: 0.3264 | Train acc: 88.38%\n",
      "Validation loss: 0.3897 | Validation acc: 87.26%\n",
      "Time taken: 1min 41s\n"
     ]
    },
    {
     "name": "stderr",
     "output_type": "stream",
     "text": [
      "100%|██████████| 93/93 [00:34<00:00,  2.69it/s]\n"
     ]
    },
    {
     "name": "stdout",
     "output_type": "stream",
     "text": [
      "------------ epoch 50 ------------\n",
      "Train loss: 0.3243 | Train acc: 88.39%\n",
      "Validation loss: 0.3912 | Validation acc: 87.23%\n",
      "Time taken: 1min 41s\n"
     ]
    },
    {
     "name": "stderr",
     "output_type": "stream",
     "text": [
      "100%|██████████| 93/93 [00:34<00:00,  2.68it/s]\n"
     ]
    },
    {
     "name": "stdout",
     "output_type": "stream",
     "text": [
      "------------ epoch 51 ------------\n",
      "Train loss: 0.3245 | Train acc: 88.40%\n",
      "Validation loss: 0.3928 | Validation acc: 87.18%\n",
      "Time taken: 1min 41s\n",
      "Segmentation visualization saved at /kaggle/working/segmentation_epoch_50.png\n"
     ]
    },
    {
     "name": "stderr",
     "output_type": "stream",
     "text": [
      "100%|██████████| 93/93 [00:34<00:00,  2.69it/s]\n"
     ]
    },
    {
     "name": "stdout",
     "output_type": "stream",
     "text": [
      "------------ epoch 52 ------------\n",
      "Train loss: 0.3253 | Train acc: 88.41%\n",
      "Validation loss: 0.3934 | Validation acc: 87.19%\n",
      "Time taken: 1min 41s\n"
     ]
    },
    {
     "name": "stderr",
     "output_type": "stream",
     "text": [
      "100%|██████████| 93/93 [00:34<00:00,  2.69it/s]\n"
     ]
    },
    {
     "name": "stdout",
     "output_type": "stream",
     "text": [
      "------------ epoch 53 ------------\n",
      "Train loss: 0.3233 | Train acc: 88.42%\n",
      "Validation loss: 0.3919 | Validation acc: 87.25%\n",
      "Time taken: 1min 41s\n"
     ]
    },
    {
     "name": "stderr",
     "output_type": "stream",
     "text": [
      "100%|██████████| 93/93 [00:34<00:00,  2.70it/s]\n"
     ]
    },
    {
     "name": "stdout",
     "output_type": "stream",
     "text": [
      "------------ epoch 54 ------------\n",
      "Train loss: 0.3233 | Train acc: 88.45%\n",
      "Validation loss: 0.3915 | Validation acc: 87.26%\n",
      "Time taken: 1min 41s\n"
     ]
    },
    {
     "name": "stderr",
     "output_type": "stream",
     "text": [
      "100%|██████████| 93/93 [00:34<00:00,  2.70it/s]\n"
     ]
    },
    {
     "name": "stdout",
     "output_type": "stream",
     "text": [
      "------------ epoch 55 ------------\n",
      "Train loss: 0.3241 | Train acc: 88.41%\n",
      "Validation loss: 0.3935 | Validation acc: 87.22%\n",
      "Time taken: 1min 41s\n"
     ]
    },
    {
     "name": "stderr",
     "output_type": "stream",
     "text": [
      "100%|██████████| 93/93 [00:34<00:00,  2.70it/s]\n"
     ]
    },
    {
     "name": "stdout",
     "output_type": "stream",
     "text": [
      "------------ epoch 56 ------------\n",
      "Train loss: 0.3240 | Train acc: 88.42%\n",
      "Validation loss: 0.3913 | Validation acc: 87.27%\n",
      "Time taken: 1min 41s\n"
     ]
    },
    {
     "name": "stderr",
     "output_type": "stream",
     "text": [
      "100%|██████████| 93/93 [00:34<00:00,  2.68it/s]\n"
     ]
    },
    {
     "name": "stdout",
     "output_type": "stream",
     "text": [
      "------------ epoch 57 ------------\n",
      "Train loss: 0.3224 | Train acc: 88.49%\n",
      "Validation loss: 0.3920 | Validation acc: 87.27%\n",
      "Time taken: 1min 41s\n"
     ]
    },
    {
     "name": "stderr",
     "output_type": "stream",
     "text": [
      "100%|██████████| 93/93 [00:34<00:00,  2.68it/s]\n"
     ]
    },
    {
     "name": "stdout",
     "output_type": "stream",
     "text": [
      "------------ epoch 58 ------------\n",
      "Train loss: 0.3221 | Train acc: 88.49%\n",
      "Validation loss: 0.3914 | Validation acc: 87.26%\n",
      "Time taken: 1min 41s\n"
     ]
    },
    {
     "name": "stderr",
     "output_type": "stream",
     "text": [
      "100%|██████████| 93/93 [00:34<00:00,  2.69it/s]\n"
     ]
    },
    {
     "name": "stdout",
     "output_type": "stream",
     "text": [
      "------------ epoch 59 ------------\n",
      "Train loss: 0.3232 | Train acc: 88.46%\n",
      "Validation loss: 0.3931 | Validation acc: 87.24%\n",
      "Time taken: 1min 41s\n"
     ]
    },
    {
     "name": "stderr",
     "output_type": "stream",
     "text": [
      "100%|██████████| 93/93 [00:34<00:00,  2.72it/s]\n"
     ]
    },
    {
     "name": "stdout",
     "output_type": "stream",
     "text": [
      "------------ epoch 60 ------------\n",
      "Train loss: 0.3208 | Train acc: 88.50%\n",
      "Validation loss: 0.3920 | Validation acc: 87.28%\n",
      "Time taken: 1min 40s\n"
     ]
    }
   ],
   "source": [
    "fcn8s_trained = train_model(fcn_8s,\n",
    "                            train_dataloader,\n",
    "                            val_dataloader,\n",
    "                            optimizer,\n",
    "                            loss_fn,\n",
    "                            num_epochs=60)"
   ]
  },
  {
   "cell_type": "markdown",
   "id": "e3171213",
   "metadata": {
    "papermill": {
     "duration": 0.260341,
     "end_time": "2024-11-26T21:33:13.243545",
     "exception": false,
     "start_time": "2024-11-26T21:33:12.983204",
     "status": "completed"
    },
    "tags": []
   },
   "source": [
    "# Saving Results"
   ]
  },
  {
   "cell_type": "code",
   "execution_count": 19,
   "id": "48e9b052",
   "metadata": {
    "execution": {
     "iopub.execute_input": "2024-11-26T21:33:13.823922Z",
     "iopub.status.busy": "2024-11-26T21:33:13.822951Z",
     "iopub.status.idle": "2024-11-26T21:33:14.074439Z",
     "shell.execute_reply": "2024-11-26T21:33:14.073470Z"
    },
    "papermill": {
     "duration": 0.534112,
     "end_time": "2024-11-26T21:33:14.076636",
     "exception": false,
     "start_time": "2024-11-26T21:33:13.542524",
     "status": "completed"
    },
    "tags": []
   },
   "outputs": [],
   "source": [
    "import pickle as pkl\n",
    "\n",
    "with open('/kaggle/working/loss_acc_dict.pkl', 'wb') as f:\n",
    "    pkl.dump(loss_acc_dict, f)\n",
    "\n",
    "torch.save(fcn8s_trained.state_dict(), '/kaggle/working/fcn8s.pth')"
   ]
  }
 ],
 "metadata": {
  "kaggle": {
   "accelerator": "none",
   "dataSources": [
    {
     "datasetId": 635428,
     "sourceId": 1132317,
     "sourceType": "datasetVersion"
    }
   ],
   "dockerImageVersionId": 30786,
   "isGpuEnabled": false,
   "isInternetEnabled": true,
   "language": "python",
   "sourceType": "notebook"
  },
  "kernelspec": {
   "display_name": "Python 3",
   "language": "python",
   "name": "python3"
  },
  "language_info": {
   "codemirror_mode": {
    "name": "ipython",
    "version": 3
   },
   "file_extension": ".py",
   "mimetype": "text/x-python",
   "name": "python",
   "nbconvert_exporter": "python",
   "pygments_lexer": "ipython3",
   "version": "3.10.14"
  },
  "papermill": {
   "default_parameters": {},
   "duration": 2508.613024,
   "end_time": "2024-11-26T21:33:15.858924",
   "environment_variables": {},
   "exception": null,
   "input_path": "__notebook__.ipynb",
   "output_path": "__notebook__.ipynb",
   "parameters": {},
   "start_time": "2024-11-26T20:51:27.245900",
   "version": "2.6.0"
  }
 },
 "nbformat": 4,
 "nbformat_minor": 5
}
