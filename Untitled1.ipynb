{
 "cells": [
  {
   "cell_type": "code",
   "execution_count": null,
   "id": "5d8c5528-c3d6-4de2-88c9-afe60560da2e",
   "metadata": {},
   "outputs": [],
   "source": []
  }
 ],
 "metadata": {
  "kernelspec": {
   "display_name": "",
   "name": ""
  },
  "language_info": {
   "name": ""
  }
 },
 "nbformat": 4,
 "nbformat_minor": 5
}
